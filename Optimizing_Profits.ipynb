{
 "cells": [
  {
   "cell_type": "markdown",
   "id": "1744df4b-c3d5-4ae2-b0fb-e2ccc1a258f6",
   "metadata": {},
   "source": [
    "# Optimizing Profits: Discover Property Treasures Using Cutting-Edge AI and Data Mining\r\n",
    "\r\n",
    "## Business Problem\r\n",
    "\r\n",
    "### Introduction:\r\n",
    "\r\n",
    "Welcome to the Property Investment Challenge! Our client, an investment fund, is on a mission to maximize returns on real estate investments. In this dynamic and competitive market, the fund is looking to leverage cutting-edge AI and data mining techniques to identify and invest in properties with the highest potential for profitability. The goal is to optimize the allocation of resources and strategically select properties that can yield substantial returns on investment.\r\n",
    "\r\n",
    "### Challenge Overview:\r\n",
    "\r\n",
    "The investment fund is planning to make a significant number of property investments, and the key to success lies in the ability to identify properties that offer substantial returns. The challenge is rooted in a vast dataset that spans the last 23 years, encompassing millions of property sales. The fund envisions a solution that can effectively segment these properties, enabling them to leverage sophisticated machine learning and analytics to quickly identify target properties for investment.\r\n",
    "\r\n",
    "### Key Objectives:\r\n",
    "\r\n",
    "1. **Predictive Modeling:**\r\n",
    "   - Develop robust machine learning models capable of accurately predicting property sale prices. These models should take into account various factors such as location, estimated price, and other relevant features.\r\n",
    "\r\n",
    "2. **Segmentation:**\r\n",
    "   - After predicting sale prices, segment the properties into four distinct categories based on the calculated gain. The gain is calculated using the formula: `(Sale price - Estimated price)/100`.\r\n",
    "     - **Segment 0: Premium Properties 💰🏰**\r\n",
    "     - **Segment 1: Valuable Properties 💎🏡**\r\n",
    "     - **Segment 2: Standard Properties 🏘️💸**\r\n",
    "     - **Segment 3: Budget Properties 🏠💵**\r\n",
    "\r\n",
    "### Dataset:\r\n",
    "\r\n",
    "Participants will be provided with a comprehensive property dataset spanning the last 23 years. This dataset includes information such as property location, estimated price, selling price, and other relevant details.\r\n",
    "\r\n",
    "### Expected Outcome:\r\n",
    "\r\n",
    "The investment fund anticipates a solution that can not only accurately predict property sale prices but also categorize them into distinct segments. This segmentation will empower the fund to make well-informed decisions, strategically investing in properties that align with their overarching goal of maximizing returns.\r\n",
    "\r\n",
    "### Evaluation:\r\n",
    "\r\n",
    "Submissions will be assessed based on the performance metric relevant to regression tasks. The chosen metric should accurately reflect the model's ability to predict continuous numerical values, such as property sale prices. Participants are encouraged to select a metric aligned with the competition's goals and dataset characteristics, using it as a guiding measure for model accuracy and improvement.\r\n",
    "\r\n",
    "Let the challenge begin, and may the best solution unlock the potential of property treasures! 🏡💎\r\n"
   ]
  },
  {
   "cell_type": "code",
   "execution_count": null,
   "id": "697bc9fe-7c13-48a5-916b-c7f832d7562b",
   "metadata": {},
   "outputs": [],
   "source": []
  },
  {
   "cell_type": "code",
   "execution_count": null,
   "id": "c48276f9-5e03-42ae-ac2b-f838d83e859d",
   "metadata": {},
   "outputs": [],
   "source": []
  },
  {
   "cell_type": "code",
   "execution_count": 2,
   "id": "d3948a1b-ec29-493b-a603-adefee620dc5",
   "metadata": {},
   "outputs": [],
   "source": [
    "import pandas as pd\n",
    "import numpy as np\n",
    "import matplotlib.pyplot as plt\n",
    "import seaborn as sns"
   ]
  },
  {
   "cell_type": "markdown",
   "id": "fa155958-c74c-4383-b24d-43e9bb22f055",
   "metadata": {},
   "source": [
    "# 1. Data Acquisition"
   ]
  },
  {
   "cell_type": "code",
   "execution_count": 5,
   "id": "ab20c310-c15c-47ce-aa71-59a9ee1195ff",
   "metadata": {},
   "outputs": [],
   "source": [
    "import os\n",
    "import requests"
   ]
  },
  {
   "cell_type": "code",
   "execution_count": 6,
   "id": "971cc893-e2ed-440d-afdf-f46b008fa8cc",
   "metadata": {},
   "outputs": [],
   "source": [
    "from Dataset import credentials\n",
    "\n",
    "ACCESS = credentials.ACCESS\n",
    "BUCKET_NAME = credentials.BUCKET_NAME\n",
    "DATABASE_URL = credentials.DATABASE_URL\n",
    "\n",
    "# IMPORTANT: Credentials are not shared in this public notebook.\n",
    "\n",
    "# with your own credentials if you intend to run this code.\n",
    "\n",
    "# Never share sensitive information like credentials publicly.\n",
    "\n",
    "# See Rest of code "
   ]
  },
  {
   "cell_type": "code",
   "execution_count": 7,
   "id": "52f90264-d897-4c3f-a000-07b2ea242542",
   "metadata": {},
   "outputs": [
    {
     "data": {
      "text/plain": [
       "['pucon24_ai_train_1.csv',\n",
       " 'pucon24_ai_train_2.csv',\n",
       " 'pucon24_ai_train_3.csv',\n",
       " 'pucon24_ai_train_4.csv',\n",
       " 'pucon24_ai_train_5.csv',\n",
       " 'pucon24_ai_train_6.csv',\n",
       " 'pucon24_ai_train_7.csv',\n",
       " 'pucon24_ai_train_8.csv',\n",
       " 'pucon24_ai_train_9.csv',\n",
       " 'pucon24_ai_train_10.csv',\n",
       " 'pucon24_ai_train_11.csv',\n",
       " 'pucon24_ai_train_12.csv',\n",
       " 'pucon24-ai-test.csv',\n",
       " 'pucon24-ai-sample_submission.csv',\n",
       " 'pucon24_ai_description.txt']"
      ]
     },
     "execution_count": 7,
     "metadata": {},
     "output_type": "execute_result"
    }
   ],
   "source": [
    "file_names = [f'pucon24_ai_train_{i}.csv' for i in range(1, 13)]\n",
    "file_names += ['pucon24-ai-test.csv', 'pucon24-ai-sample_submission.csv', 'pucon24_ai_description.txt']\n",
    "file_names"
   ]
  },
  {
   "cell_type": "code",
   "execution_count": 8,
   "id": "17d9dbad-7cea-46a6-a2f0-e7fae374845c",
   "metadata": {},
   "outputs": [],
   "source": [
    "def access_dataset(file_name):\n",
    "    url = f'{DATABASE_URL}/{ACCESS}/{BUCKET_NAME}/{file_name}'\n",
    "    response = requests.get(url)\n",
    "    \n",
    "    if response.status_code == 200:\n",
    "        with open(f'./Dataset/{file_name}', 'wb') as file:\n",
    "            file.write(response.content)\n",
    "        print(f'File {file_name} saved successfully.')\n",
    "    else:\n",
    "        print(f'Failed to download file. Status code: {response.status_code}')"
   ]
  },
  {
   "cell_type": "code",
   "execution_count": 9,
   "id": "266c1516-e2b8-4525-82e8-b3f2967f1bae",
   "metadata": {},
   "outputs": [
    {
     "name": "stdout",
     "output_type": "stream",
     "text": [
      "File pucon24-ai-test.csv saved successfully.\n"
     ]
    }
   ],
   "source": [
    "access_dataset('pucon24-ai-test.csv')\n"
   ]
  },
  {
   "cell_type": "code",
   "execution_count": null,
   "id": "b5b319db-0793-4da7-b81f-16a866e8ba90",
   "metadata": {},
   "outputs": [],
   "source": [
    "for file_name in file_names:\n",
    "    access_dataset(file_name)"
   ]
  },
  {
   "cell_type": "code",
   "execution_count": null,
   "id": "00c04ee4-b0d0-4910-94cf-e9ee3e90b24f",
   "metadata": {},
   "outputs": [],
   "source": []
  },
  {
   "cell_type": "code",
   "execution_count": 16,
   "id": "68426c75-de6b-4335-8eea-de0df5317bff",
   "metadata": {},
   "outputs": [],
   "source": [
    "df = pd.DataFrame()\n",
    "\n",
    "for i in range(1, 13):\n",
    "    tmp_df = pd.read_csv(f'./Dataset/pucon24_ai_train_{i}.csv')\n",
    "    df = pd.concat([df, tmp_df], axis=0)"
   ]
  },
  {
   "cell_type": "code",
   "execution_count": 17,
   "id": "ce05e9d4-9713-4d57-ac3d-4f3989db33c5",
   "metadata": {},
   "outputs": [
    {
     "data": {
      "text/html": [
       "<div>\n",
       "<style scoped>\n",
       "    .dataframe tbody tr th:only-of-type {\n",
       "        vertical-align: middle;\n",
       "    }\n",
       "\n",
       "    .dataframe tbody tr th {\n",
       "        vertical-align: top;\n",
       "    }\n",
       "\n",
       "    .dataframe thead th {\n",
       "        text-align: right;\n",
       "    }\n",
       "</style>\n",
       "<table border=\"1\" class=\"dataframe\">\n",
       "  <thead>\n",
       "    <tr style=\"text-align: right;\">\n",
       "      <th></th>\n",
       "      <th>Date</th>\n",
       "      <th>crime_rate</th>\n",
       "      <th>renovation_level</th>\n",
       "      <th>Year</th>\n",
       "      <th>Address</th>\n",
       "      <th>num_rooms</th>\n",
       "      <th>Property</th>\n",
       "      <th>amenities_rating</th>\n",
       "      <th>carpet_area</th>\n",
       "      <th>nearby_restaurants</th>\n",
       "      <th>public_transport_availability</th>\n",
       "      <th>property_tax_rate</th>\n",
       "      <th>distance_to_school</th>\n",
       "      <th>Locality</th>\n",
       "      <th>Residential</th>\n",
       "      <th>Estimated Value</th>\n",
       "      <th>Sale Price</th>\n",
       "      <th>specifications</th>\n",
       "    </tr>\n",
       "  </thead>\n",
       "  <tbody>\n",
       "    <tr>\n",
       "      <th>0</th>\n",
       "      <td>2009-01-02-00:00:00</td>\n",
       "      <td>2.6568262407789027</td>\n",
       "      <td>Minor</td>\n",
       "      <td>2009</td>\n",
       "      <td>40 ETTL LN UT 24</td>\n",
       "      <td>Two rooms</td>\n",
       "      <td>Condo</td>\n",
       "      <td>Mediocre</td>\n",
       "      <td>760.0</td>\n",
       "      <td>19.0</td>\n",
       "      <td>Scattered</td>\n",
       "      <td>1.025953</td>\n",
       "      <td>6.586707</td>\n",
       "      <td>Greenwich</td>\n",
       "      <td>Condominium</td>\n",
       "      <td>711270.0</td>\n",
       "      <td>975000.0</td>\n",
       "      <td>In 2009, this condo located in Greenwich at 40...</td>\n",
       "    </tr>\n",
       "    <tr>\n",
       "      <th>1</th>\n",
       "      <td>2009-01-02-00:00:00</td>\n",
       "      <td>5.328727031244374</td>\n",
       "      <td>Basic</td>\n",
       "      <td>2009</td>\n",
       "      <td>18 BAUER RD</td>\n",
       "      <td>Three rooms</td>\n",
       "      <td>Single Family</td>\n",
       "      <td>Superb</td>\n",
       "      <td>7967.337677159014</td>\n",
       "      <td>17.0</td>\n",
       "      <td>Extensive</td>\n",
       "      <td>1.025953</td>\n",
       "      <td>8.224127</td>\n",
       "      <td>East Hampton</td>\n",
       "      <td>Detached House</td>\n",
       "      <td>119970.0</td>\n",
       "      <td>189900.0</td>\n",
       "      <td>In 2009, this single family located in East Ha...</td>\n",
       "    </tr>\n",
       "    <tr>\n",
       "      <th>2</th>\n",
       "      <td>2009-01-02-00:00:00</td>\n",
       "      <td>4.037758682930219</td>\n",
       "      <td>Basic</td>\n",
       "      <td>2009</td>\n",
       "      <td>48 HIGH VALLEY RD.</td>\n",
       "      <td>Three rooms</td>\n",
       "      <td>Single Family</td>\n",
       "      <td>Satisfactory</td>\n",
       "      <td>982.0</td>\n",
       "      <td>1.0</td>\n",
       "      <td>Accessible</td>\n",
       "      <td>1.025953</td>\n",
       "      <td>8.019369</td>\n",
       "      <td>Ridgefield</td>\n",
       "      <td>Detached House</td>\n",
       "      <td>494530.0</td>\n",
       "      <td>825000.0</td>\n",
       "      <td>In 2009, this single family located in Ridgefi...</td>\n",
       "    </tr>\n",
       "    <tr>\n",
       "      <th>3</th>\n",
       "      <td>2009-01-02-00:00:00</td>\n",
       "      <td>2.085308997846847</td>\n",
       "      <td>Extensive</td>\n",
       "      <td>2009</td>\n",
       "      <td>56 MERIDEN RD</td>\n",
       "      <td>Three rooms</td>\n",
       "      <td>Single Family</td>\n",
       "      <td>Superb</td>\n",
       "      <td>976.0</td>\n",
       "      <td>5.0</td>\n",
       "      <td>Insufficient</td>\n",
       "      <td>1.025953</td>\n",
       "      <td>6.175522</td>\n",
       "      <td>Old Lyme</td>\n",
       "      <td>Detached House</td>\n",
       "      <td>197600.0</td>\n",
       "      <td>450000.0</td>\n",
       "      <td>In 2009, this single family located in Old Lym...</td>\n",
       "    </tr>\n",
       "    <tr>\n",
       "      <th>4</th>\n",
       "      <td>02-01-2009-00:00:00</td>\n",
       "      <td>4.397712193695299</td>\n",
       "      <td>Partial</td>\n",
       "      <td>2009</td>\n",
       "      <td>13 CELENTANO DR</td>\n",
       "      <td>Three rooms</td>\n",
       "      <td>Single Family</td>\n",
       "      <td>Below Average</td>\n",
       "      <td>947.0</td>\n",
       "      <td>14.0</td>\n",
       "      <td>Inadequate</td>\n",
       "      <td>NaN</td>\n",
       "      <td>1.677037</td>\n",
       "      <td>Naugatuck</td>\n",
       "      <td>Detached House</td>\n",
       "      <td>105440.0</td>\n",
       "      <td>200000.0</td>\n",
       "      <td>In 2009, this single family located in Naugatu...</td>\n",
       "    </tr>\n",
       "  </tbody>\n",
       "</table>\n",
       "</div>"
      ],
      "text/plain": [
       "                  Date          crime_rate renovation_level  Year  \\\n",
       "0  2009-01-02-00:00:00  2.6568262407789027            Minor  2009   \n",
       "1  2009-01-02-00:00:00   5.328727031244374            Basic  2009   \n",
       "2  2009-01-02-00:00:00   4.037758682930219            Basic  2009   \n",
       "3  2009-01-02-00:00:00   2.085308997846847        Extensive  2009   \n",
       "4  02-01-2009-00:00:00   4.397712193695299          Partial  2009   \n",
       "\n",
       "              Address    num_rooms       Property amenities_rating  \\\n",
       "0    40 ETTL LN UT 24    Two rooms          Condo         Mediocre   \n",
       "1         18 BAUER RD  Three rooms  Single Family           Superb   \n",
       "2  48 HIGH VALLEY RD.  Three rooms  Single Family     Satisfactory   \n",
       "3       56 MERIDEN RD  Three rooms  Single Family           Superb   \n",
       "4     13 CELENTANO DR  Three rooms  Single Family    Below Average   \n",
       "\n",
       "         carpet_area  nearby_restaurants public_transport_availability  \\\n",
       "0              760.0                19.0                     Scattered   \n",
       "1  7967.337677159014                17.0                     Extensive   \n",
       "2              982.0                 1.0                    Accessible   \n",
       "3              976.0                 5.0                  Insufficient   \n",
       "4              947.0                14.0                    Inadequate   \n",
       "\n",
       "  property_tax_rate  distance_to_school      Locality     Residential  \\\n",
       "0          1.025953            6.586707     Greenwich     Condominium   \n",
       "1          1.025953            8.224127  East Hampton  Detached House   \n",
       "2          1.025953            8.019369    Ridgefield  Detached House   \n",
       "3          1.025953            6.175522      Old Lyme  Detached House   \n",
       "4               NaN            1.677037     Naugatuck  Detached House   \n",
       "\n",
       "   Estimated Value  Sale Price  \\\n",
       "0         711270.0    975000.0   \n",
       "1         119970.0    189900.0   \n",
       "2         494530.0    825000.0   \n",
       "3         197600.0    450000.0   \n",
       "4         105440.0    200000.0   \n",
       "\n",
       "                                      specifications  \n",
       "0  In 2009, this condo located in Greenwich at 40...  \n",
       "1  In 2009, this single family located in East Ha...  \n",
       "2  In 2009, this single family located in Ridgefi...  \n",
       "3  In 2009, this single family located in Old Lym...  \n",
       "4  In 2009, this single family located in Naugatu...  "
      ]
     },
     "execution_count": 17,
     "metadata": {},
     "output_type": "execute_result"
    }
   ],
   "source": [
    "df.head()"
   ]
  },
  {
   "cell_type": "code",
   "execution_count": 64,
   "id": "7b9dc96c-e483-4107-af6f-29a620472555",
   "metadata": {},
   "outputs": [
    {
     "data": {
      "text/html": [
       "<div>\n",
       "<style scoped>\n",
       "    .dataframe tbody tr th:only-of-type {\n",
       "        vertical-align: middle;\n",
       "    }\n",
       "\n",
       "    .dataframe tbody tr th {\n",
       "        vertical-align: top;\n",
       "    }\n",
       "\n",
       "    .dataframe thead th {\n",
       "        text-align: right;\n",
       "    }\n",
       "</style>\n",
       "<table border=\"1\" class=\"dataframe\">\n",
       "  <thead>\n",
       "    <tr style=\"text-align: right;\">\n",
       "      <th></th>\n",
       "      <th>Year</th>\n",
       "      <th>amenities_rating</th>\n",
       "      <th>public_transport_availability</th>\n",
       "      <th>Property</th>\n",
       "      <th>Locality</th>\n",
       "      <th>num_rooms</th>\n",
       "      <th>nearby_restaurants</th>\n",
       "      <th>Address</th>\n",
       "      <th>Date</th>\n",
       "      <th>Residential</th>\n",
       "      <th>renovation_level</th>\n",
       "      <th>property_tax_rate</th>\n",
       "      <th>crime_rate</th>\n",
       "      <th>distance_to_school</th>\n",
       "      <th>carpet_area</th>\n",
       "      <th>Segment</th>\n",
       "      <th>Estimated Value</th>\n",
       "      <th>Sale Price</th>\n",
       "      <th>specifications</th>\n",
       "    </tr>\n",
       "  </thead>\n",
       "  <tbody>\n",
       "    <tr>\n",
       "      <th>0</th>\n",
       "      <td>2023</td>\n",
       "      <td>Satisfactory</td>\n",
       "      <td>Abundant</td>\n",
       "      <td>Residential</td>\n",
       "      <td>Old Lyme</td>\n",
       "      <td>Three rooms</td>\n",
       "      <td>20.0</td>\n",
       "      <td>12 SWAN AVE</td>\n",
       "      <td>2023-01-01-00:00:00</td>\n",
       "      <td>Detached House</td>\n",
       "      <td>Essential</td>\n",
       "      <td>1.46</td>\n",
       "      <td>3.3825675226607</td>\n",
       "      <td>2.215594</td>\n",
       "      <td>947.0</td>\n",
       "      <td>0</td>\n",
       "      <td>151400.0</td>\n",
       "      <td>0</td>\n",
       "      <td>In 2023, this residential located in Old Lyme ...</td>\n",
       "    </tr>\n",
       "    <tr>\n",
       "      <th>1</th>\n",
       "      <td>2023</td>\n",
       "      <td>Luxurious</td>\n",
       "      <td>Scattered</td>\n",
       "      <td>Residential</td>\n",
       "      <td>Ridgefield</td>\n",
       "      <td>Three rooms</td>\n",
       "      <td>11.0</td>\n",
       "      <td>59 LINCOLN LANE</td>\n",
       "      <td>2023-01-01-00:00:00</td>\n",
       "      <td>Detached House</td>\n",
       "      <td>Standard</td>\n",
       "      <td>1.46</td>\n",
       "      <td>9.36204013360774</td>\n",
       "      <td>5.898198</td>\n",
       "      <td>1051.0</td>\n",
       "      <td>0</td>\n",
       "      <td>686900.0</td>\n",
       "      <td>0</td>\n",
       "      <td>In 2023, this residential located in Ridgefiel...</td>\n",
       "    </tr>\n",
       "    <tr>\n",
       "      <th>2</th>\n",
       "      <td>2023</td>\n",
       "      <td>Superb</td>\n",
       "      <td>Insufficient</td>\n",
       "      <td>Residential</td>\n",
       "      <td>Cromwell</td>\n",
       "      <td>Three rooms</td>\n",
       "      <td>11.0</td>\n",
       "      <td>6 GROVE RD</td>\n",
       "      <td>2023-01-04-00:00:00</td>\n",
       "      <td>Detached House</td>\n",
       "      <td>Extensive</td>\n",
       "      <td>1.46</td>\n",
       "      <td>8.24743200094001</td>\n",
       "      <td>8.829687</td>\n",
       "      <td>925.0</td>\n",
       "      <td>0</td>\n",
       "      <td>152030.0</td>\n",
       "      <td>0</td>\n",
       "      <td>In 2023, this residential located in Cromwell ...</td>\n",
       "    </tr>\n",
       "    <tr>\n",
       "      <th>3</th>\n",
       "      <td>2023</td>\n",
       "      <td>Unimpressive</td>\n",
       "      <td>Limited</td>\n",
       "      <td>Residential</td>\n",
       "      <td>New Haven</td>\n",
       "      <td>Four rooms</td>\n",
       "      <td>8.0</td>\n",
       "      <td>346 CONCORD ST</td>\n",
       "      <td>2023-01-04-00:00:00</td>\n",
       "      <td>Duplex</td>\n",
       "      <td>Complete</td>\n",
       "      <td>1.46</td>\n",
       "      <td>1.5114243305380757</td>\n",
       "      <td>5.842769</td>\n",
       "      <td>1210.0</td>\n",
       "      <td>0</td>\n",
       "      <td>156130.0</td>\n",
       "      <td>0</td>\n",
       "      <td>In 2023, this residential located in New Haven...</td>\n",
       "    </tr>\n",
       "    <tr>\n",
       "      <th>4</th>\n",
       "      <td>2023</td>\n",
       "      <td>Satisfactory</td>\n",
       "      <td>Limited</td>\n",
       "      <td>Residential</td>\n",
       "      <td>Beacon Falls</td>\n",
       "      <td>Three rooms</td>\n",
       "      <td>5.0</td>\n",
       "      <td>14 LASKY ROAD</td>\n",
       "      <td>2023-01-04-00:00:00</td>\n",
       "      <td>Detached House</td>\n",
       "      <td>Minor</td>\n",
       "      <td>1.46</td>\n",
       "      <td>3.4527936889483795</td>\n",
       "      <td>2.598910</td>\n",
       "      <td>1089.0</td>\n",
       "      <td>0</td>\n",
       "      <td>108970.0</td>\n",
       "      <td>0</td>\n",
       "      <td>In 2023, this residential located in Beacon Fa...</td>\n",
       "    </tr>\n",
       "  </tbody>\n",
       "</table>\n",
       "</div>"
      ],
      "text/plain": [
       "   Year amenities_rating public_transport_availability     Property  \\\n",
       "0  2023     Satisfactory                      Abundant  Residential   \n",
       "1  2023        Luxurious                     Scattered  Residential   \n",
       "2  2023           Superb                  Insufficient  Residential   \n",
       "3  2023     Unimpressive                       Limited  Residential   \n",
       "4  2023     Satisfactory                       Limited  Residential   \n",
       "\n",
       "       Locality    num_rooms  nearby_restaurants          Address  \\\n",
       "0      Old Lyme  Three rooms                20.0      12 SWAN AVE   \n",
       "1    Ridgefield  Three rooms                11.0  59 LINCOLN LANE   \n",
       "2      Cromwell  Three rooms                11.0       6 GROVE RD   \n",
       "3     New Haven   Four rooms                 8.0   346 CONCORD ST   \n",
       "4  Beacon Falls  Three rooms                 5.0    14 LASKY ROAD   \n",
       "\n",
       "                  Date     Residential renovation_level property_tax_rate  \\\n",
       "0  2023-01-01-00:00:00  Detached House        Essential              1.46   \n",
       "1  2023-01-01-00:00:00  Detached House         Standard              1.46   \n",
       "2  2023-01-04-00:00:00  Detached House        Extensive              1.46   \n",
       "3  2023-01-04-00:00:00          Duplex         Complete              1.46   \n",
       "4  2023-01-04-00:00:00  Detached House            Minor              1.46   \n",
       "\n",
       "           crime_rate  distance_to_school carpet_area  Segment  \\\n",
       "0     3.3825675226607            2.215594       947.0        0   \n",
       "1    9.36204013360774            5.898198      1051.0        0   \n",
       "2    8.24743200094001            8.829687       925.0        0   \n",
       "3  1.5114243305380757            5.842769      1210.0        0   \n",
       "4  3.4527936889483795            2.598910      1089.0        0   \n",
       "\n",
       "   Estimated Value  Sale Price  \\\n",
       "0         151400.0           0   \n",
       "1         686900.0           0   \n",
       "2         152030.0           0   \n",
       "3         156130.0           0   \n",
       "4         108970.0           0   \n",
       "\n",
       "                                      specifications  \n",
       "0  In 2023, this residential located in Old Lyme ...  \n",
       "1  In 2023, this residential located in Ridgefiel...  \n",
       "2  In 2023, this residential located in Cromwell ...  \n",
       "3  In 2023, this residential located in New Haven...  \n",
       "4  In 2023, this residential located in Beacon Fa...  "
      ]
     },
     "execution_count": 64,
     "metadata": {},
     "output_type": "execute_result"
    }
   ],
   "source": [
    "df_test = pd.read_csv(f'./Dataset/ai-test.csv')\n",
    "df_test.head()"
   ]
  },
  {
   "cell_type": "code",
   "execution_count": null,
   "id": "f4bedecf-58d2-455d-8604-ce3f2eeebeb3",
   "metadata": {},
   "outputs": [],
   "source": []
  },
  {
   "cell_type": "code",
   "execution_count": 68,
   "id": "91cffb3e-7506-4b94-bddb-e5cbd3258bea",
   "metadata": {},
   "outputs": [
    {
     "name": "stdout",
     "output_type": "stream",
     "text": [
      "<class 'pandas.core.frame.DataFrame'>\n",
      "Int64Index: 553952 entries, 0 to 3951\n",
      "Data columns (total 18 columns):\n",
      " #   Column                         Non-Null Count   Dtype  \n",
      "---  ------                         --------------   -----  \n",
      " 0   Date                           553952 non-null  object \n",
      " 1   crime_rate                     531768 non-null  float64\n",
      " 2   renovation_level               553952 non-null  object \n",
      " 3   Year                           553952 non-null  int64  \n",
      " 4   Address                        553952 non-null  object \n",
      " 5   num_rooms                      553952 non-null  object \n",
      " 6   Property                       553952 non-null  object \n",
      " 7   amenities_rating               553952 non-null  object \n",
      " 8   carpet_area                    550388 non-null  object \n",
      " 9   nearby_restaurants             553952 non-null  float64\n",
      " 10  public_transport_availability  553952 non-null  object \n",
      " 11  property_tax_rate              546626 non-null  object \n",
      " 12  distance_to_school             553952 non-null  float64\n",
      " 13  Locality                       553952 non-null  object \n",
      " 14  Residential                    553952 non-null  object \n",
      " 15  Estimated Value                553952 non-null  float64\n",
      " 16  Sale Price                     553952 non-null  float64\n",
      " 17  specifications                 553952 non-null  object \n",
      "dtypes: float64(5), int64(1), object(12)\n",
      "memory usage: 80.3+ MB\n",
      "<class 'pandas.core.frame.DataFrame'>\n",
      "RangeIndex: 43954 entries, 0 to 43953\n",
      "Data columns (total 19 columns):\n",
      " #   Column                         Non-Null Count  Dtype  \n",
      "---  ------                         --------------  -----  \n",
      " 0   Year                           43954 non-null  int64  \n",
      " 1   amenities_rating               43954 non-null  object \n",
      " 2   public_transport_availability  43954 non-null  object \n",
      " 3   Property                       43954 non-null  object \n",
      " 4   Locality                       43954 non-null  object \n",
      " 5   num_rooms                      43954 non-null  object \n",
      " 6   nearby_restaurants             43954 non-null  float64\n",
      " 7   Address                        43954 non-null  object \n",
      " 8   Date                           43954 non-null  object \n",
      " 9   Residential                    43954 non-null  object \n",
      " 10  renovation_level               43954 non-null  object \n",
      " 11  property_tax_rate              43368 non-null  object \n",
      " 12  crime_rate                     42232 non-null  float64\n",
      " 13  distance_to_school             43954 non-null  float64\n",
      " 14  carpet_area                    43659 non-null  object \n",
      " 15  Segment                        43954 non-null  int64  \n",
      " 16  Estimated Value                43954 non-null  float64\n",
      " 17  Sale Price                     43954 non-null  int64  \n",
      " 18  specifications                 43954 non-null  object \n",
      "dtypes: float64(4), int64(3), object(12)\n",
      "memory usage: 6.4+ MB\n"
     ]
    },
    {
     "data": {
      "text/plain": [
       "(None, None)"
      ]
     },
     "execution_count": 68,
     "metadata": {},
     "output_type": "execute_result"
    }
   ],
   "source": [
    "df.info(),df_test.info()\n"
   ]
  },
  {
   "cell_type": "code",
   "execution_count": 66,
   "id": "7d6b7e73-7fa8-44e4-9e2d-3176f898b75e",
   "metadata": {},
   "outputs": [
    {
     "data": {
      "text/plain": [
       "((553952, 18), (43954, 19))"
      ]
     },
     "execution_count": 66,
     "metadata": {},
     "output_type": "execute_result"
    }
   ],
   "source": [
    "df.shape,df_test.shape"
   ]
  },
  {
   "cell_type": "code",
   "execution_count": 20,
   "id": "4412d70b-1123-4353-80b7-f2b3230796bc",
   "metadata": {},
   "outputs": [
    {
     "data": {
      "text/plain": [
       "Date                                 0\n",
       "crime_rate                       14851\n",
       "renovation_level                     0\n",
       "Year                                 0\n",
       "Address                              0\n",
       "num_rooms                            0\n",
       "Property                             0\n",
       "amenities_rating                     0\n",
       "carpet_area                       3564\n",
       "nearby_restaurants                   0\n",
       "public_transport_availability        0\n",
       "property_tax_rate                 7326\n",
       "distance_to_school                   0\n",
       "Locality                             0\n",
       "Residential                          0\n",
       "Estimated Value                      0\n",
       "Sale Price                           0\n",
       "specifications                       0\n",
       "dtype: int64"
      ]
     },
     "execution_count": 20,
     "metadata": {},
     "output_type": "execute_result"
    }
   ],
   "source": [
    "df.isnull().sum()"
   ]
  },
  {
   "cell_type": "code",
   "execution_count": null,
   "id": "3b25fdeb-fea7-4486-b2dc-d1a18695f610",
   "metadata": {},
   "outputs": [],
   "source": []
  },
  {
   "cell_type": "markdown",
   "id": "a7a93dde-3427-408d-8838-dd1a43760115",
   "metadata": {},
   "source": [
    "# Data Cleaning"
   ]
  },
  {
   "cell_type": "markdown",
   "id": "754902f4-7cdd-4909-9a96-c011edc072fd",
   "metadata": {},
   "source": [
    "### Problems in Features\r\n",
    "\r\n",
    "1. **crime_rate**\r\n",
    "   - **Issue:** 14,851 null values.\r\n",
    "   - **Resolution:** Handle null values appropriately.\r\n",
    "   - **Additional Info:** Contains the value 'Not Provided' in string format, making it challenging to convert to an integer.\r\n",
    "\r\n",
    "2. **carpet_area**\r\n",
    "   - **Issue:** 3,564 null values.\r\n",
    "   - **Resolution:** Address null values using an appropriate strategy.\r\n",
    "   - **Additional Info:** Contains the value 'Not Provided' in string format, causing difficulties in conversion to an integer.\r\n",
    "\r\n",
    "3. **property_tax_rate**\r\n",
    "   - **Issue:** 7,326 null values.\r\n",
    "   - **Resolution:** Develop a strategy to manage null values effectively.\r\n",
    "   - **Additional Info:** Includes the value 'Not Provided' in string format, posing challenges for conversion to an integer.\r\n",
    "\r\n",
    "These issues should be addressed during the data preprocessing phase to ensure the dataset's integrity and suitability for machine learning modeling.\r\n"
   ]
  },
  {
   "cell_type": "code",
   "execution_count": 83,
   "id": "222c22bf-8c76-42ea-99a9-49b922b5f447",
   "metadata": {},
   "outputs": [],
   "source": [
    "df_test = df_test[df.columns]"
   ]
  },
  {
   "cell_type": "code",
   "execution_count": null,
   "id": "f6a44a48-e2fb-41a4-be64-519dc6476af0",
   "metadata": {},
   "outputs": [],
   "source": []
  },
  {
   "cell_type": "markdown",
   "id": "b0b60ee7-8cc3-4360-a9e6-dc9f754e0376",
   "metadata": {},
   "source": [
    "### Handling with Dates"
   ]
  },
  {
   "cell_type": "code",
   "execution_count": 76,
   "id": "e88126c2-d3fc-4b2c-b43f-d432f14187ee",
   "metadata": {},
   "outputs": [
    {
     "data": {
      "text/html": [
       "<div>\n",
       "<style scoped>\n",
       "    .dataframe tbody tr th:only-of-type {\n",
       "        vertical-align: middle;\n",
       "    }\n",
       "\n",
       "    .dataframe tbody tr th {\n",
       "        vertical-align: top;\n",
       "    }\n",
       "\n",
       "    .dataframe thead th {\n",
       "        text-align: right;\n",
       "    }\n",
       "</style>\n",
       "<table border=\"1\" class=\"dataframe\">\n",
       "  <thead>\n",
       "    <tr style=\"text-align: right;\">\n",
       "      <th></th>\n",
       "      <th>crime_rate</th>\n",
       "      <th>renovation_level</th>\n",
       "      <th>Year</th>\n",
       "      <th>Address</th>\n",
       "      <th>num_rooms</th>\n",
       "      <th>Property</th>\n",
       "      <th>amenities_rating</th>\n",
       "      <th>carpet_area</th>\n",
       "      <th>nearby_restaurants</th>\n",
       "      <th>public_transport_availability</th>\n",
       "      <th>property_tax_rate</th>\n",
       "      <th>distance_to_school</th>\n",
       "      <th>Locality</th>\n",
       "      <th>Residential</th>\n",
       "      <th>Estimated Value</th>\n",
       "      <th>Sale Price</th>\n",
       "      <th>specifications</th>\n",
       "      <th>month</th>\n",
       "      <th>day</th>\n",
       "    </tr>\n",
       "  </thead>\n",
       "  <tbody>\n",
       "    <tr>\n",
       "      <th>0</th>\n",
       "      <td>2.656826</td>\n",
       "      <td>Minor</td>\n",
       "      <td>2009</td>\n",
       "      <td>40 ETTL LN UT 24</td>\n",
       "      <td>Two rooms</td>\n",
       "      <td>Condo</td>\n",
       "      <td>Mediocre</td>\n",
       "      <td>760.0</td>\n",
       "      <td>19.0</td>\n",
       "      <td>Scattered</td>\n",
       "      <td>1.025953</td>\n",
       "      <td>6.586707</td>\n",
       "      <td>Greenwich</td>\n",
       "      <td>Condominium</td>\n",
       "      <td>711270.0</td>\n",
       "      <td>975000.0</td>\n",
       "      <td>In 2009, this condo located in Greenwich at 40...</td>\n",
       "      <td>1</td>\n",
       "      <td>2</td>\n",
       "    </tr>\n",
       "    <tr>\n",
       "      <th>1</th>\n",
       "      <td>5.328727</td>\n",
       "      <td>Basic</td>\n",
       "      <td>2009</td>\n",
       "      <td>18 BAUER RD</td>\n",
       "      <td>Three rooms</td>\n",
       "      <td>Single Family</td>\n",
       "      <td>Superb</td>\n",
       "      <td>7967.337677159014</td>\n",
       "      <td>17.0</td>\n",
       "      <td>Extensive</td>\n",
       "      <td>1.025953</td>\n",
       "      <td>8.224127</td>\n",
       "      <td>East Hampton</td>\n",
       "      <td>Detached House</td>\n",
       "      <td>119970.0</td>\n",
       "      <td>189900.0</td>\n",
       "      <td>In 2009, this single family located in East Ha...</td>\n",
       "      <td>1</td>\n",
       "      <td>2</td>\n",
       "    </tr>\n",
       "    <tr>\n",
       "      <th>2</th>\n",
       "      <td>4.037759</td>\n",
       "      <td>Basic</td>\n",
       "      <td>2009</td>\n",
       "      <td>48 HIGH VALLEY RD.</td>\n",
       "      <td>Three rooms</td>\n",
       "      <td>Single Family</td>\n",
       "      <td>Satisfactory</td>\n",
       "      <td>982.0</td>\n",
       "      <td>1.0</td>\n",
       "      <td>Accessible</td>\n",
       "      <td>1.025953</td>\n",
       "      <td>8.019369</td>\n",
       "      <td>Ridgefield</td>\n",
       "      <td>Detached House</td>\n",
       "      <td>494530.0</td>\n",
       "      <td>825000.0</td>\n",
       "      <td>In 2009, this single family located in Ridgefi...</td>\n",
       "      <td>1</td>\n",
       "      <td>2</td>\n",
       "    </tr>\n",
       "    <tr>\n",
       "      <th>3</th>\n",
       "      <td>2.085309</td>\n",
       "      <td>Extensive</td>\n",
       "      <td>2009</td>\n",
       "      <td>56 MERIDEN RD</td>\n",
       "      <td>Three rooms</td>\n",
       "      <td>Single Family</td>\n",
       "      <td>Superb</td>\n",
       "      <td>976.0</td>\n",
       "      <td>5.0</td>\n",
       "      <td>Insufficient</td>\n",
       "      <td>1.025953</td>\n",
       "      <td>6.175522</td>\n",
       "      <td>Old Lyme</td>\n",
       "      <td>Detached House</td>\n",
       "      <td>197600.0</td>\n",
       "      <td>450000.0</td>\n",
       "      <td>In 2009, this single family located in Old Lym...</td>\n",
       "      <td>1</td>\n",
       "      <td>2</td>\n",
       "    </tr>\n",
       "    <tr>\n",
       "      <th>4</th>\n",
       "      <td>4.397712</td>\n",
       "      <td>Partial</td>\n",
       "      <td>2009</td>\n",
       "      <td>13 CELENTANO DR</td>\n",
       "      <td>Three rooms</td>\n",
       "      <td>Single Family</td>\n",
       "      <td>Below Average</td>\n",
       "      <td>947.0</td>\n",
       "      <td>14.0</td>\n",
       "      <td>Inadequate</td>\n",
       "      <td>NaN</td>\n",
       "      <td>1.677037</td>\n",
       "      <td>Naugatuck</td>\n",
       "      <td>Detached House</td>\n",
       "      <td>105440.0</td>\n",
       "      <td>200000.0</td>\n",
       "      <td>In 2009, this single family located in Naugatu...</td>\n",
       "      <td>2</td>\n",
       "      <td>1</td>\n",
       "    </tr>\n",
       "  </tbody>\n",
       "</table>\n",
       "</div>"
      ],
      "text/plain": [
       "   crime_rate renovation_level  Year             Address    num_rooms  \\\n",
       "0    2.656826            Minor  2009    40 ETTL LN UT 24    Two rooms   \n",
       "1    5.328727            Basic  2009         18 BAUER RD  Three rooms   \n",
       "2    4.037759            Basic  2009  48 HIGH VALLEY RD.  Three rooms   \n",
       "3    2.085309        Extensive  2009       56 MERIDEN RD  Three rooms   \n",
       "4    4.397712          Partial  2009     13 CELENTANO DR  Three rooms   \n",
       "\n",
       "        Property amenities_rating        carpet_area  nearby_restaurants  \\\n",
       "0          Condo         Mediocre              760.0                19.0   \n",
       "1  Single Family           Superb  7967.337677159014                17.0   \n",
       "2  Single Family     Satisfactory              982.0                 1.0   \n",
       "3  Single Family           Superb              976.0                 5.0   \n",
       "4  Single Family    Below Average              947.0                14.0   \n",
       "\n",
       "  public_transport_availability property_tax_rate  distance_to_school  \\\n",
       "0                     Scattered          1.025953            6.586707   \n",
       "1                     Extensive          1.025953            8.224127   \n",
       "2                    Accessible          1.025953            8.019369   \n",
       "3                  Insufficient          1.025953            6.175522   \n",
       "4                    Inadequate               NaN            1.677037   \n",
       "\n",
       "       Locality     Residential  Estimated Value  Sale Price  \\\n",
       "0     Greenwich     Condominium         711270.0    975000.0   \n",
       "1  East Hampton  Detached House         119970.0    189900.0   \n",
       "2    Ridgefield  Detached House         494530.0    825000.0   \n",
       "3      Old Lyme  Detached House         197600.0    450000.0   \n",
       "4     Naugatuck  Detached House         105440.0    200000.0   \n",
       "\n",
       "                                      specifications  month  day  \n",
       "0  In 2009, this condo located in Greenwich at 40...      1    2  \n",
       "1  In 2009, this single family located in East Ha...      1    2  \n",
       "2  In 2009, this single family located in Ridgefi...      1    2  \n",
       "3  In 2009, this single family located in Old Lym...      1    2  \n",
       "4  In 2009, this single family located in Naugatu...      2    1  "
      ]
     },
     "execution_count": 76,
     "metadata": {},
     "output_type": "execute_result"
    }
   ],
   "source": [
    "df['Date'] = pd.to_datetime(df['Date'])\n",
    "df['month'] = df['Date'].dt.month\n",
    "df['day'] = df['Date'].dt.day\n",
    "df.drop(columns=['Date'],inplace=True)\n",
    "df.head()"
   ]
  },
  {
   "cell_type": "code",
   "execution_count": 77,
   "id": "887258c6-8f94-4a72-ab7c-2ac312033338",
   "metadata": {},
   "outputs": [
    {
     "data": {
      "text/html": [
       "<div>\n",
       "<style scoped>\n",
       "    .dataframe tbody tr th:only-of-type {\n",
       "        vertical-align: middle;\n",
       "    }\n",
       "\n",
       "    .dataframe tbody tr th {\n",
       "        vertical-align: top;\n",
       "    }\n",
       "\n",
       "    .dataframe thead th {\n",
       "        text-align: right;\n",
       "    }\n",
       "</style>\n",
       "<table border=\"1\" class=\"dataframe\">\n",
       "  <thead>\n",
       "    <tr style=\"text-align: right;\">\n",
       "      <th></th>\n",
       "      <th>Year</th>\n",
       "      <th>amenities_rating</th>\n",
       "      <th>public_transport_availability</th>\n",
       "      <th>Property</th>\n",
       "      <th>Locality</th>\n",
       "      <th>num_rooms</th>\n",
       "      <th>nearby_restaurants</th>\n",
       "      <th>Address</th>\n",
       "      <th>Residential</th>\n",
       "      <th>renovation_level</th>\n",
       "      <th>property_tax_rate</th>\n",
       "      <th>crime_rate</th>\n",
       "      <th>distance_to_school</th>\n",
       "      <th>carpet_area</th>\n",
       "      <th>Segment</th>\n",
       "      <th>Estimated Value</th>\n",
       "      <th>Sale Price</th>\n",
       "      <th>specifications</th>\n",
       "      <th>month</th>\n",
       "      <th>day</th>\n",
       "    </tr>\n",
       "  </thead>\n",
       "  <tbody>\n",
       "    <tr>\n",
       "      <th>0</th>\n",
       "      <td>2023</td>\n",
       "      <td>Satisfactory</td>\n",
       "      <td>Abundant</td>\n",
       "      <td>Residential</td>\n",
       "      <td>Old Lyme</td>\n",
       "      <td>Three rooms</td>\n",
       "      <td>20.0</td>\n",
       "      <td>12 SWAN AVE</td>\n",
       "      <td>Detached House</td>\n",
       "      <td>Essential</td>\n",
       "      <td>1.46</td>\n",
       "      <td>3.382568</td>\n",
       "      <td>2.215594</td>\n",
       "      <td>947.0</td>\n",
       "      <td>0</td>\n",
       "      <td>151400.0</td>\n",
       "      <td>0</td>\n",
       "      <td>In 2023, this residential located in Old Lyme ...</td>\n",
       "      <td>1</td>\n",
       "      <td>1</td>\n",
       "    </tr>\n",
       "    <tr>\n",
       "      <th>1</th>\n",
       "      <td>2023</td>\n",
       "      <td>Luxurious</td>\n",
       "      <td>Scattered</td>\n",
       "      <td>Residential</td>\n",
       "      <td>Ridgefield</td>\n",
       "      <td>Three rooms</td>\n",
       "      <td>11.0</td>\n",
       "      <td>59 LINCOLN LANE</td>\n",
       "      <td>Detached House</td>\n",
       "      <td>Standard</td>\n",
       "      <td>1.46</td>\n",
       "      <td>9.362040</td>\n",
       "      <td>5.898198</td>\n",
       "      <td>1051.0</td>\n",
       "      <td>0</td>\n",
       "      <td>686900.0</td>\n",
       "      <td>0</td>\n",
       "      <td>In 2023, this residential located in Ridgefiel...</td>\n",
       "      <td>1</td>\n",
       "      <td>1</td>\n",
       "    </tr>\n",
       "    <tr>\n",
       "      <th>2</th>\n",
       "      <td>2023</td>\n",
       "      <td>Superb</td>\n",
       "      <td>Insufficient</td>\n",
       "      <td>Residential</td>\n",
       "      <td>Cromwell</td>\n",
       "      <td>Three rooms</td>\n",
       "      <td>11.0</td>\n",
       "      <td>6 GROVE RD</td>\n",
       "      <td>Detached House</td>\n",
       "      <td>Extensive</td>\n",
       "      <td>1.46</td>\n",
       "      <td>8.247432</td>\n",
       "      <td>8.829687</td>\n",
       "      <td>925.0</td>\n",
       "      <td>0</td>\n",
       "      <td>152030.0</td>\n",
       "      <td>0</td>\n",
       "      <td>In 2023, this residential located in Cromwell ...</td>\n",
       "      <td>1</td>\n",
       "      <td>4</td>\n",
       "    </tr>\n",
       "    <tr>\n",
       "      <th>3</th>\n",
       "      <td>2023</td>\n",
       "      <td>Unimpressive</td>\n",
       "      <td>Limited</td>\n",
       "      <td>Residential</td>\n",
       "      <td>New Haven</td>\n",
       "      <td>Four rooms</td>\n",
       "      <td>8.0</td>\n",
       "      <td>346 CONCORD ST</td>\n",
       "      <td>Duplex</td>\n",
       "      <td>Complete</td>\n",
       "      <td>1.46</td>\n",
       "      <td>1.511424</td>\n",
       "      <td>5.842769</td>\n",
       "      <td>1210.0</td>\n",
       "      <td>0</td>\n",
       "      <td>156130.0</td>\n",
       "      <td>0</td>\n",
       "      <td>In 2023, this residential located in New Haven...</td>\n",
       "      <td>1</td>\n",
       "      <td>4</td>\n",
       "    </tr>\n",
       "    <tr>\n",
       "      <th>4</th>\n",
       "      <td>2023</td>\n",
       "      <td>Satisfactory</td>\n",
       "      <td>Limited</td>\n",
       "      <td>Residential</td>\n",
       "      <td>Beacon Falls</td>\n",
       "      <td>Three rooms</td>\n",
       "      <td>5.0</td>\n",
       "      <td>14 LASKY ROAD</td>\n",
       "      <td>Detached House</td>\n",
       "      <td>Minor</td>\n",
       "      <td>1.46</td>\n",
       "      <td>3.452794</td>\n",
       "      <td>2.598910</td>\n",
       "      <td>1089.0</td>\n",
       "      <td>0</td>\n",
       "      <td>108970.0</td>\n",
       "      <td>0</td>\n",
       "      <td>In 2023, this residential located in Beacon Fa...</td>\n",
       "      <td>1</td>\n",
       "      <td>4</td>\n",
       "    </tr>\n",
       "  </tbody>\n",
       "</table>\n",
       "</div>"
      ],
      "text/plain": [
       "   Year amenities_rating public_transport_availability     Property  \\\n",
       "0  2023     Satisfactory                      Abundant  Residential   \n",
       "1  2023        Luxurious                     Scattered  Residential   \n",
       "2  2023           Superb                  Insufficient  Residential   \n",
       "3  2023     Unimpressive                       Limited  Residential   \n",
       "4  2023     Satisfactory                       Limited  Residential   \n",
       "\n",
       "       Locality    num_rooms  nearby_restaurants          Address  \\\n",
       "0      Old Lyme  Three rooms                20.0      12 SWAN AVE   \n",
       "1    Ridgefield  Three rooms                11.0  59 LINCOLN LANE   \n",
       "2      Cromwell  Three rooms                11.0       6 GROVE RD   \n",
       "3     New Haven   Four rooms                 8.0   346 CONCORD ST   \n",
       "4  Beacon Falls  Three rooms                 5.0    14 LASKY ROAD   \n",
       "\n",
       "      Residential renovation_level property_tax_rate  crime_rate  \\\n",
       "0  Detached House        Essential              1.46    3.382568   \n",
       "1  Detached House         Standard              1.46    9.362040   \n",
       "2  Detached House        Extensive              1.46    8.247432   \n",
       "3          Duplex         Complete              1.46    1.511424   \n",
       "4  Detached House            Minor              1.46    3.452794   \n",
       "\n",
       "   distance_to_school carpet_area  Segment  Estimated Value  Sale Price  \\\n",
       "0            2.215594       947.0        0         151400.0           0   \n",
       "1            5.898198      1051.0        0         686900.0           0   \n",
       "2            8.829687       925.0        0         152030.0           0   \n",
       "3            5.842769      1210.0        0         156130.0           0   \n",
       "4            2.598910      1089.0        0         108970.0           0   \n",
       "\n",
       "                                      specifications  month  day  \n",
       "0  In 2023, this residential located in Old Lyme ...      1    1  \n",
       "1  In 2023, this residential located in Ridgefiel...      1    1  \n",
       "2  In 2023, this residential located in Cromwell ...      1    4  \n",
       "3  In 2023, this residential located in New Haven...      1    4  \n",
       "4  In 2023, this residential located in Beacon Fa...      1    4  "
      ]
     },
     "execution_count": 77,
     "metadata": {},
     "output_type": "execute_result"
    }
   ],
   "source": [
    "df_test['Date'] = pd.to_datetime(df_test['Date'])\n",
    "\n",
    "df_test['month'] = df_test['Date'].dt.month\n",
    "df_test['day'] = df_test['Date'].dt.day\n",
    "df_test.drop(columns=['Date'],inplace=True)\n",
    "df_test.head()\n",
    "\n"
   ]
  },
  {
   "cell_type": "code",
   "execution_count": 78,
   "id": "c0ce5ed1-3cbc-43dd-bb5b-caaf4b79ff48",
   "metadata": {},
   "outputs": [],
   "source": [
    "def find_non_numeric_values(array):\n",
    "    non_integer_values = []\n",
    "    for val in array:\n",
    "        try:\n",
    "            float_val = float(val)\n",
    "        except ValueError:\n",
    "            non_integer_values.append(val)\n",
    "\n",
    "    return np.array(non_integer_values)\n",
    "\n"
   ]
  },
  {
   "cell_type": "markdown",
   "id": "c75569eb-6280-481d-b0cf-eec53c91a299",
   "metadata": {},
   "source": [
    "## crime_rate"
   ]
  },
  {
   "cell_type": "code",
   "execution_count": 79,
   "id": "11fa572a-4954-49f1-ac4a-192231d5d99e",
   "metadata": {},
   "outputs": [
    {
     "data": {
      "text/plain": [
       "array([], dtype=float64)"
      ]
     },
     "execution_count": 79,
     "metadata": {},
     "output_type": "execute_result"
    }
   ],
   "source": [
    "non_numeric_values = find_non_numeric_values(df['crime_rate'].to_list())\n",
    "np.unique(non_numeric_values)"
   ]
  },
  {
   "cell_type": "code",
   "execution_count": 80,
   "id": "f93f5fc5-2e6a-4472-951b-2bb6efea4b22",
   "metadata": {},
   "outputs": [
    {
     "data": {
      "text/plain": [
       "array([], dtype=float64)"
      ]
     },
     "execution_count": 80,
     "metadata": {},
     "output_type": "execute_result"
    }
   ],
   "source": [
    "non_numeric_values = find_non_numeric_values(df_test['crime_rate'].to_list())\n",
    "np.unique(non_numeric_values)"
   ]
  },
  {
   "cell_type": "code",
   "execution_count": 81,
   "id": "74a1dc08-8c3e-4be5-bca5-43f08d66e196",
   "metadata": {},
   "outputs": [
    {
     "name": "stdout",
     "output_type": "stream",
     "text": [
      "<class 'pandas.core.frame.DataFrame'>\n",
      "Int64Index: 553952 entries, 0 to 3951\n",
      "Data columns (total 19 columns):\n",
      " #   Column                         Non-Null Count   Dtype  \n",
      "---  ------                         --------------   -----  \n",
      " 0   crime_rate                     531768 non-null  float64\n",
      " 1   renovation_level               553952 non-null  object \n",
      " 2   Year                           553952 non-null  int64  \n",
      " 3   Address                        553952 non-null  object \n",
      " 4   num_rooms                      553952 non-null  object \n",
      " 5   Property                       553952 non-null  object \n",
      " 6   amenities_rating               553952 non-null  object \n",
      " 7   carpet_area                    550388 non-null  object \n",
      " 8   nearby_restaurants             553952 non-null  float64\n",
      " 9   public_transport_availability  553952 non-null  object \n",
      " 10  property_tax_rate              546626 non-null  object \n",
      " 11  distance_to_school             553952 non-null  float64\n",
      " 12  Locality                       553952 non-null  object \n",
      " 13  Residential                    553952 non-null  object \n",
      " 14  Estimated Value                553952 non-null  float64\n",
      " 15  Sale Price                     553952 non-null  float64\n",
      " 16  specifications                 553952 non-null  object \n",
      " 17  month                          553952 non-null  int64  \n",
      " 18  day                            553952 non-null  int64  \n",
      "dtypes: float64(5), int64(3), object(11)\n",
      "memory usage: 84.5+ MB\n"
     ]
    }
   ],
   "source": [
    "df['crime_rate'] = np.where(df['crime_rate']=='Not Provided',np.nan,df['crime_rate'])\n",
    "df['crime_rate'] = df['crime_rate'].astype(float)\n",
    "df.info()"
   ]
  },
  {
   "cell_type": "code",
   "execution_count": 84,
   "id": "0959dca5-3e9e-4637-b093-d8cd6af62876",
   "metadata": {},
   "outputs": [
    {
     "name": "stdout",
     "output_type": "stream",
     "text": [
      "<class 'pandas.core.frame.DataFrame'>\n",
      "RangeIndex: 43954 entries, 0 to 43953\n",
      "Data columns (total 19 columns):\n",
      " #   Column                         Non-Null Count  Dtype  \n",
      "---  ------                         --------------  -----  \n",
      " 0   crime_rate                     42232 non-null  float64\n",
      " 1   renovation_level               43954 non-null  object \n",
      " 2   Year                           43954 non-null  int64  \n",
      " 3   Address                        43954 non-null  object \n",
      " 4   num_rooms                      43954 non-null  object \n",
      " 5   Property                       43954 non-null  object \n",
      " 6   amenities_rating               43954 non-null  object \n",
      " 7   carpet_area                    43659 non-null  object \n",
      " 8   nearby_restaurants             43954 non-null  float64\n",
      " 9   public_transport_availability  43954 non-null  object \n",
      " 10  property_tax_rate              43368 non-null  object \n",
      " 11  distance_to_school             43954 non-null  float64\n",
      " 12  Locality                       43954 non-null  object \n",
      " 13  Residential                    43954 non-null  object \n",
      " 14  Estimated Value                43954 non-null  float64\n",
      " 15  Sale Price                     43954 non-null  int64  \n",
      " 16  specifications                 43954 non-null  object \n",
      " 17  month                          43954 non-null  int64  \n",
      " 18  day                            43954 non-null  int64  \n",
      "dtypes: float64(4), int64(4), object(11)\n",
      "memory usage: 6.4+ MB\n"
     ]
    }
   ],
   "source": [
    "df_test['crime_rate'] = np.where(df_test['crime_rate'] == 'Not Provided', np.nan, df_test['crime_rate'])\n",
    "\n",
    "df_test['crime_rate'] = df_test['crime_rate'].astype(float)\n",
    "\n",
    "df_test.info()"
   ]
  },
  {
   "cell_type": "code",
   "execution_count": 89,
   "id": "818a68e2-d9e6-40df-96c5-137c016cb914",
   "metadata": {},
   "outputs": [
    {
     "data": {
      "text/plain": [
       "Minor        110349\n",
       "Extensive     82704\n",
       "Complete      55800\n",
       "Essential     55757\n",
       "Advanced      55593\n",
       "Basic         55563\n",
       "Standard      55348\n",
       "Limited       27677\n",
       "Premium       27611\n",
       "Partial       27550\n",
       "Name: renovation_level, dtype: int64"
      ]
     },
     "execution_count": 89,
     "metadata": {},
     "output_type": "execute_result"
    }
   ],
   "source": [
    "df['renovation_level'].value_counts()"
   ]
  },
  {
   "cell_type": "code",
   "execution_count": 91,
   "id": "b692269f-d8e3-4d54-82be-26746c3d73ef",
   "metadata": {},
   "outputs": [
    {
     "data": {
      "text/plain": [
       "Minor        8822\n",
       "Extensive    6535\n",
       "Standard     4459\n",
       "Advanced     4434\n",
       "Essential    4414\n",
       "Complete     4342\n",
       "Basic        4328\n",
       "Limited      2268\n",
       "Partial      2196\n",
       "Premium      2156\n",
       "Name: renovation_level, dtype: int64"
      ]
     },
     "execution_count": 91,
     "metadata": {},
     "output_type": "execute_result"
    }
   ],
   "source": [
    "df_test['renovation_level'].value_counts()"
   ]
  },
  {
   "cell_type": "code",
   "execution_count": null,
   "id": "d8ebff27-a4c7-43e8-8b1b-f4315b026a8c",
   "metadata": {},
   "outputs": [],
   "source": []
  },
  {
   "cell_type": "code",
   "execution_count": 113,
   "id": "836d17e7-30d7-480a-ac25-9e2af4207a0a",
   "metadata": {},
   "outputs": [
    {
     "data": {
      "image/png": "[encoded data removed]",
      "text/plain": [
       "<Figure size 720x432 with 1 Axes>"
      ]
     },
     "metadata": {
      "needs_background": "light"
     },
     "output_type": "display_data"
    }
   ],
   "source": [
    "import seaborn as sns\n",
    "import matplotlib.pyplot as plt\n",
    "\n",
    "combined_df = pd.concat([df['renovation_level'].value_counts().rename('df'), \n",
    "                         df_test['renovation_level'].value_counts().rename('df_test')],\n",
    "                        axis=1)\n",
    "\n",
    "melted_df = pd.melt(combined_df.reset_index(), id_vars='index', var_name='Dataset', value_name='Count')\n",
    "\n",
    "# Plot using Seaborn\n",
    "plt.figure(figsize=(10, 6))\n",
    "sns.barplot(x='index', y='Count', hue='Dataset', data=melted_df)\n",
    "plt.title('Value Counts - Renovation Level')\n",
    "plt.xlabel('Renovation Level')\n",
    "plt.ylabel('Count')\n",
    "plt.xticks(rotation=45)\n",
    "plt.show()\n"
   ]
  },
  {
   "cell_type": "code",
   "execution_count": 97,
   "id": "ef977faf-6a36-4a04-b0ce-50c6795446a8",
   "metadata": {},
   "outputs": [
    {
     "data": {
      "text/plain": [
       "33 NORTH WATER ST    54\n",
       "POCONO POINT RD      39\n",
       "71 AIKEN ST          32\n",
       "WEST KENOSIA AV      30\n",
       "50 AIKEN ST          19\n",
       "                     ..\n",
       "7 MARBLE LANE         1\n",
       "3 CRAIGMORE RD        1\n",
       "444 VALLEY ROAD       1\n",
       "26 SEA BREEZE AVE     1\n",
       "154 GAYMOOR DRIVE     1\n",
       "Name: Address, Length: 441774, dtype: int64"
      ]
     },
     "execution_count": 97,
     "metadata": {},
     "output_type": "execute_result"
    }
   ],
   "source": [
    "df['Address'].value_counts()"
   ]
  },
  {
   "cell_type": "code",
   "execution_count": 98,
   "id": "ba1911c5-d206-43d2-a062-224b284a95a8",
   "metadata": {},
   "outputs": [
    {
     "data": {
      "text/plain": [
       "2022    57762\n",
       "2021    48348\n",
       "2017    44940\n",
       "2019    44607\n",
       "2018    43681\n",
       "2020    43084\n",
       "2009    40955\n",
       "2016    38112\n",
       "2012    35715\n",
       "2015    34223\n",
       "2011    33457\n",
       "2010    30749\n",
       "2014    29427\n",
       "2013    28892\n",
       "Name: Year, dtype: int64"
      ]
     },
     "execution_count": 98,
     "metadata": {},
     "output_type": "execute_result"
    }
   ],
   "source": [
    "df['Year'].value_counts()\t"
   ]
  },
  {
   "cell_type": "code",
   "execution_count": 174,
   "id": "d17b5432-c40d-4c24-b716-46a30d0b2dfa",
   "metadata": {},
   "outputs": [
    {
     "data": {
      "text/plain": [
       "2023    43954\n",
       "Name: Year, dtype: int64"
      ]
     },
     "execution_count": 174,
     "metadata": {},
     "output_type": "execute_result"
    }
   ],
   "source": [
    "df_test['Year'].value_counts()\t"
   ]
  },
  {
   "cell_type": "code",
   "execution_count": 171,
   "id": "47e036c7-93eb-4f98-9911-88943760f132",
   "metadata": {},
   "outputs": [
    {
     "data": {
      "image/png": "[encoded data removed]",
      "text/plain": [
       "<Figure size 720x432 with 1 Axes>"
      ]
     },
     "metadata": {
      "needs_background": "light"
     },
     "output_type": "display_data"
    }
   ],
   "source": [
    "import seaborn as sns\n",
    "import matplotlib.pyplot as plt\n",
    "\n",
    "combined_df = pd.concat([df['Year'].value_counts().rename('df'), \n",
    "                         df_test['Year'].value_counts().rename('df_test')],\n",
    "                        axis=1)\n",
    "\n",
    "melted_df = pd.melt(combined_df.reset_index(), id_vars='index', var_name='Dataset', value_name='Count')\n",
    "\n",
    "# Plot using Seaborn\n",
    "plt.figure(figsize=(10, 6))\n",
    "sns.barplot(x='index', y='Count', hue='Dataset', data=melted_df)\n",
    "plt.title('Value Counts - Year')  \n",
    "plt.xlabel('Year')  \n",
    "plt.ylabel('Count')\n",
    "plt.show()\n"
   ]
  },
  {
   "cell_type": "code",
   "execution_count": 175,
   "id": "76fe99ce-56d6-441f-b6e5-d359bfb1b9fe",
   "metadata": {},
   "outputs": [
    {
     "data": {
      "text/plain": [
       "Three rooms    406463\n",
       "Two rooms      106103\n",
       "Four rooms      26587\n",
       "Six rooms       12625\n",
       "Eight rooms      2174\n",
       "Name: num_rooms, dtype: int64"
      ]
     },
     "execution_count": 175,
     "metadata": {},
     "output_type": "execute_result"
    }
   ],
   "source": [
    "df['num_rooms'].value_counts()\t"
   ]
  },
  {
   "cell_type": "code",
   "execution_count": 176,
   "id": "dac81da0-d049-4f6c-88b1-8f2c1fb1519b",
   "metadata": {},
   "outputs": [
    {
     "data": {
      "text/plain": [
       "Three rooms    30969\n",
       "Two rooms       9238\n",
       "Four rooms      2414\n",
       "Six rooms       1125\n",
       "Eight rooms      208\n",
       "Name: num_rooms, dtype: int64"
      ]
     },
     "execution_count": 176,
     "metadata": {},
     "output_type": "execute_result"
    }
   ],
   "source": [
    "df_test['num_rooms'].value_counts()\t"
   ]
  },
  {
   "cell_type": "code",
   "execution_count": 114,
   "id": "5cb1a078-cda3-4b3c-bd7d-9b81015501bb",
   "metadata": {},
   "outputs": [
    {
     "data": {
      "image/png": "[encoded data removed]",
      "text/plain": [
       "<Figure size 720x432 with 1 Axes>"
      ]
     },
     "metadata": {
      "needs_background": "light"
     },
     "output_type": "display_data"
    }
   ],
   "source": [
    "combined_df = pd.concat([df['num_rooms'].value_counts().rename('df'), \n",
    "                         df_test['num_rooms'].value_counts().rename('df_test')],\n",
    "                        axis=1)\n",
    "\n",
    "melted_df = pd.melt(combined_df.reset_index(), id_vars='index', var_name='Dataset', value_name='Count')\n",
    "\n",
    "plt.figure(figsize=(10, 6))\n",
    "sns.barplot(x='index', y='Count', hue='Dataset', data=melted_df)\n",
    "plt.title('Value Counts - Num Rooms')  \n",
    "plt.xlabel('Num Rooms') \n",
    "plt.ylabel('Count')\n",
    "plt.xticks(rotation=45)\n",
    "plt.show()\n"
   ]
  },
  {
   "cell_type": "code",
   "execution_count": 177,
   "id": "376c5516-4c92-406f-9a22-0dae87fc9c43",
   "metadata": {},
   "outputs": [
    {
     "data": {
      "text/plain": [
       "Single Family    394028\n",
       "Condo            102981\n",
       "Two Family        25800\n",
       "Residential       16774\n",
       "Three Family      12255\n",
       "Four Family        2114\n",
       "Name: Property, dtype: int64"
      ]
     },
     "execution_count": 177,
     "metadata": {},
     "output_type": "execute_result"
    }
   ],
   "source": [
    "df['Property'].value_counts()"
   ]
  },
  {
   "cell_type": "code",
   "execution_count": 178,
   "id": "6745cd80-7cd4-4261-a8cf-b37e3df98f0e",
   "metadata": {},
   "outputs": [
    {
     "data": {
      "text/plain": [
       "Residential    43954\n",
       "Name: Property, dtype: int64"
      ]
     },
     "execution_count": 178,
     "metadata": {},
     "output_type": "execute_result"
    }
   ],
   "source": [
    "df_test['Property'].value_counts()"
   ]
  },
  {
   "cell_type": "code",
   "execution_count": 112,
   "id": "f316c878-a162-4413-865d-1129b0d7c84f",
   "metadata": {},
   "outputs": [
    {
     "data": {
      "image/png": "[encoded data removed]",
      "text/plain": [
       "<Figure size 720x432 with 1 Axes>"
      ]
     },
     "metadata": {
      "needs_background": "light"
     },
     "output_type": "display_data"
    }
   ],
   "source": [
    "import seaborn as sns\n",
    "import matplotlib.pyplot as plt\n",
    "\n",
    "combined_df = pd.concat([df['Property'].value_counts().rename('df'), \n",
    "                         df_test['Property'].value_counts().rename('df_test')],\n",
    "                        axis=1)\n",
    "\n",
    "melted_df = pd.melt(combined_df.reset_index(), id_vars='index', var_name='Dataset', value_name='Count')\n",
    "\n",
    "plt.figure(figsize=(10, 6))\n",
    "sns.barplot(x='index', y='Count', hue='Dataset', data=melted_df)\n",
    "plt.title('Value Counts - Property')\n",
    "plt.xlabel('Property')\n",
    "plt.ylabel('Count')\n",
    "plt.xticks(rotation=45)\n",
    "plt.show()\n"
   ]
  },
  {
   "cell_type": "code",
   "execution_count": 179,
   "id": "f356a47f-613d-4ed2-a0d0-878e2a5d1f6a",
   "metadata": {},
   "outputs": [
    {
     "data": {
      "text/plain": [
       "Outstanding      110984\n",
       "Superb            83032\n",
       "Luxurious         55648\n",
       "Satisfactory      55522\n",
       "Mediocre          55223\n",
       "Exceptional       55178\n",
       "Marginal          55130\n",
       "Unimpressive      27803\n",
       "Commonplace       27790\n",
       "Below Average     27642\n",
       "Name: amenities_rating, dtype: int64"
      ]
     },
     "execution_count": 179,
     "metadata": {},
     "output_type": "execute_result"
    }
   ],
   "source": [
    "df['amenities_rating'].value_counts()"
   ]
  },
  {
   "cell_type": "code",
   "execution_count": 180,
   "id": "ad1d700d-b458-4ba4-93e8-41b4ffa8aa63",
   "metadata": {},
   "outputs": [
    {
     "data": {
      "text/plain": [
       "Outstanding      8821\n",
       "Superb           6507\n",
       "Exceptional      4447\n",
       "Luxurious        4422\n",
       "Marginal         4387\n",
       "Satisfactory     4379\n",
       "Mediocre         4375\n",
       "Commonplace      2300\n",
       "Below Average    2220\n",
       "Unimpressive     2096\n",
       "Name: amenities_rating, dtype: int64"
      ]
     },
     "execution_count": 180,
     "metadata": {},
     "output_type": "execute_result"
    }
   ],
   "source": [
    "df_test['amenities_rating'].value_counts()"
   ]
  },
  {
   "cell_type": "code",
   "execution_count": 110,
   "id": "a006de24-8f4b-46de-81e3-f0a67f098852",
   "metadata": {},
   "outputs": [
    {
     "data": {
      "image/png": "[encoded data removed]",
      "text/plain": [
       "<Figure size 720x432 with 1 Axes>"
      ]
     },
     "metadata": {
      "needs_background": "light"
     },
     "output_type": "display_data"
    }
   ],
   "source": [
    "combined_df = pd.concat([df['amenities_rating'].value_counts().rename('df'), \n",
    "                         df_test['amenities_rating'].value_counts().rename('df_test')],\n",
    "                        axis=1)\n",
    "\n",
    "melted_df = pd.melt(combined_df.reset_index(), id_vars='index', var_name='Dataset', value_name='Count')\n",
    "\n",
    "plt.figure(figsize=(10, 6))\n",
    "sns.barplot(x='index', y='Count', hue='Dataset', data=melted_df)\n",
    "plt.title('Value Counts - Amenities Rating')\n",
    "plt.xlabel('Amenities Rating')\n",
    "plt.ylabel('Count')\n",
    "plt.xticks(rotation=45)\n",
    "plt.show()\n"
   ]
  },
  {
   "cell_type": "code",
   "execution_count": 115,
   "id": "8bb3d56b-3c1c-433d-9274-6ae2975527b8",
   "metadata": {},
   "outputs": [
    {
     "data": {
      "text/plain": [
       "array(['Not Provided'], dtype='<U12')"
      ]
     },
     "execution_count": 115,
     "metadata": {},
     "output_type": "execute_result"
    }
   ],
   "source": [
    "non_numeric_values = find_non_numeric_values(df['carpet_area'].to_list())\n",
    "np.unique(non_numeric_values)"
   ]
  },
  {
   "cell_type": "code",
   "execution_count": 116,
   "id": "9d1fc3ff-6283-443d-9259-2ec100f2006b",
   "metadata": {},
   "outputs": [
    {
     "data": {
      "text/plain": [
       "array(['Not Provided'], dtype='<U12')"
      ]
     },
     "execution_count": 116,
     "metadata": {},
     "output_type": "execute_result"
    }
   ],
   "source": [
    "non_numeric_values = find_non_numeric_values(df_test['carpet_area'].to_list())\n",
    "np.unique(non_numeric_values)"
   ]
  },
  {
   "cell_type": "code",
   "execution_count": 118,
   "id": "f1e311f7-487f-4584-a420-0ab82f7531f5",
   "metadata": {},
   "outputs": [
    {
     "name": "stdout",
     "output_type": "stream",
     "text": [
      "<class 'pandas.core.series.Series'>\n",
      "Int64Index: 553952 entries, 0 to 3951\n",
      "Series name: carpet_area\n",
      "Non-Null Count   Dtype  \n",
      "--------------   -----  \n",
      "548548 non-null  float64\n",
      "dtypes: float64(1)\n",
      "memory usage: 8.5 MB\n"
     ]
    }
   ],
   "source": [
    "df['carpet_area'] = np.where(df['carpet_area'] == 'Not Provided', np.nan, df['carpet_area'])\n",
    "df['carpet_area'] = df['carpet_area'].astype(float)\n",
    "df['carpet_area'].info()\n"
   ]
  },
  {
   "cell_type": "code",
   "execution_count": 117,
   "id": "af2d71ce-2db2-4450-bc43-093ba074ec72",
   "metadata": {},
   "outputs": [
    {
     "name": "stdout",
     "output_type": "stream",
     "text": [
      "<class 'pandas.core.series.Series'>\n",
      "RangeIndex: 43954 entries, 0 to 43953\n",
      "Series name: carpet_area\n",
      "Non-Null Count  Dtype  \n",
      "--------------  -----  \n",
      "43534 non-null  float64\n",
      "dtypes: float64(1)\n",
      "memory usage: 343.5 KB\n"
     ]
    }
   ],
   "source": [
    "df_test['carpet_area'] = np.where(df_test['carpet_area'] == 'Not Provided', np.nan, df_test['carpet_area'])\n",
    "\n",
    "df_test['carpet_area'] = df_test['carpet_area'].astype(float)\n",
    "\n",
    "df_test['carpet_area'].info()"
   ]
  },
  {
   "cell_type": "code",
   "execution_count": 120,
   "id": "a567662b-6243-49b4-9efd-439f188c2a7f",
   "metadata": {},
   "outputs": [
    {
     "name": "stdout",
     "output_type": "stream",
     "text": [
      "<class 'pandas.core.series.Series'>\n",
      "Int64Index: 553952 entries, 0 to 3951\n",
      "Series name: nearby_restaurants\n",
      "Non-Null Count   Dtype  \n",
      "--------------   -----  \n",
      "553952 non-null  float64\n",
      "dtypes: float64(1)\n",
      "memory usage: 8.5 MB\n"
     ]
    }
   ],
   "source": [
    "df['nearby_restaurants'].info()"
   ]
  },
  {
   "cell_type": "code",
   "execution_count": 122,
   "id": "5729838f-fe76-4f5d-97b8-7377f9101b66",
   "metadata": {},
   "outputs": [
    {
     "data": {
      "text/plain": [
       "Scattered         110785\n",
       "Abundant           83008\n",
       "Inadequate         55584\n",
       "Extensive          55572\n",
       "Insufficient       55556\n",
       "Accessible         55517\n",
       "Well-connected     55103\n",
       "Limited            27756\n",
       "Sparse             27678\n",
       "Patchy             27393\n",
       "Name: public_transport_availability, dtype: int64"
      ]
     },
     "execution_count": 122,
     "metadata": {},
     "output_type": "execute_result"
    }
   ],
   "source": [
    "df['public_transport_availability'].value_counts()"
   ]
  },
  {
   "cell_type": "code",
   "execution_count": 123,
   "id": "534f2fad-8021-4d3f-89f3-45a96d6f7209",
   "metadata": {},
   "outputs": [
    {
     "data": {
      "text/plain": [
       "Scattered         8738\n",
       "Abundant          6613\n",
       "Accessible        4553\n",
       "Insufficient      4478\n",
       "Inadequate        4376\n",
       "Extensive         4338\n",
       "Well-connected    4253\n",
       "Patchy            2261\n",
       "Sparse            2213\n",
       "Limited           2131\n",
       "Name: public_transport_availability, dtype: int64"
      ]
     },
     "execution_count": 123,
     "metadata": {},
     "output_type": "execute_result"
    }
   ],
   "source": [
    "df_test['public_transport_availability'].value_counts()"
   ]
  },
  {
   "cell_type": "code",
   "execution_count": 124,
   "id": "7d96a02c-89d1-4005-9434-b21fb21c5db6",
   "metadata": {},
   "outputs": [
    {
     "data": {
      "image/png": "[encoded data removed]",
      "text/plain": [
       "<Figure size 720x432 with 1 Axes>"
      ]
     },
     "metadata": {
      "needs_background": "light"
     },
     "output_type": "display_data"
    }
   ],
   "source": [
    "import seaborn as sns\n",
    "import matplotlib.pyplot as plt\n",
    "\n",
    "combined_df = pd.concat([df['public_transport_availability'].value_counts().rename('df'), \n",
    "                         df_test['public_transport_availability'].value_counts().rename('df_test')],\n",
    "                        axis=1)\n",
    "\n",
    "melted_df = pd.melt(combined_df.reset_index(), id_vars='index', var_name='Dataset', value_name='Count')\n",
    "\n",
    "plt.figure(figsize=(10, 6))\n",
    "sns.barplot(x='index', y='Count', hue='Dataset', data=melted_df)\n",
    "plt.title('Value Counts - Public Transport Availability')\n",
    "plt.xlabel('Public Transport Availability')\n",
    "plt.ylabel('Count')\n",
    "plt.xticks(rotation=45) \n",
    "plt.show()\n"
   ]
  },
  {
   "cell_type": "code",
   "execution_count": null,
   "id": "06c6c212-ff7a-44e2-a9f7-53b97fa59854",
   "metadata": {},
   "outputs": [],
   "source": []
  },
  {
   "cell_type": "code",
   "execution_count": 128,
   "id": "e2aa735f-7c8c-4156-bd8e-162845666ee9",
   "metadata": {},
   "outputs": [
    {
     "data": {
      "text/plain": [
       "array(['Not Provided'], dtype='<U12')"
      ]
     },
     "execution_count": 128,
     "metadata": {},
     "output_type": "execute_result"
    }
   ],
   "source": [
    "non_numeric_values = find_non_numeric_values(df['property_tax_rate'].to_list())\n",
    "np.unique(non_numeric_values)"
   ]
  },
  {
   "cell_type": "code",
   "execution_count": 129,
   "id": "b8c8d423-2274-4ae8-9cce-40e5b8e3fccc",
   "metadata": {},
   "outputs": [
    {
     "data": {
      "text/plain": [
       "array(['Not Provided'], dtype='<U12')"
      ]
     },
     "execution_count": 129,
     "metadata": {},
     "output_type": "execute_result"
    }
   ],
   "source": [
    "non_numeric_values = find_non_numeric_values(df_test['property_tax_rate'].to_list())\n",
    "np.unique(non_numeric_values)"
   ]
  },
  {
   "cell_type": "code",
   "execution_count": 131,
   "id": "c4541d4c-1ac5-4628-b691-133c31dad170",
   "metadata": {},
   "outputs": [
    {
     "name": "stdout",
     "output_type": "stream",
     "text": [
      "<class 'pandas.core.series.Series'>\n",
      "Int64Index: 553952 entries, 0 to 3951\n",
      "Series name: property_tax_rate\n",
      "Non-Null Count   Dtype  \n",
      "--------------   -----  \n",
      "542722 non-null  float64\n",
      "dtypes: float64(1)\n",
      "memory usage: 8.5 MB\n"
     ]
    }
   ],
   "source": [
    "df['property_tax_rate'] = np.where(df['property_tax_rate'] == 'Not Provided', np.nan, df['property_tax_rate'])\n",
    "df['property_tax_rate'] = df['property_tax_rate'].astype(float)\n",
    "df['property_tax_rate'].info()\n"
   ]
  },
  {
   "cell_type": "code",
   "execution_count": 132,
   "id": "702e59a7-396f-4727-8d2e-1d4331ab50d5",
   "metadata": {},
   "outputs": [
    {
     "name": "stdout",
     "output_type": "stream",
     "text": [
      "<class 'pandas.core.series.Series'>\n",
      "RangeIndex: 43954 entries, 0 to 43953\n",
      "Series name: property_tax_rate\n",
      "Non-Null Count  Dtype  \n",
      "--------------  -----  \n",
      "43077 non-null  float64\n",
      "dtypes: float64(1)\n",
      "memory usage: 343.5 KB\n"
     ]
    }
   ],
   "source": [
    "df_test['property_tax_rate'] = np.where(df_test['property_tax_rate'] == 'Not Provided', np.nan, df_test['property_tax_rate'])\n",
    "df_test['property_tax_rate'] = df_test['property_tax_rate'].astype(float)\n",
    "df_test['property_tax_rate'].info()\n"
   ]
  },
  {
   "cell_type": "code",
   "execution_count": 133,
   "id": "d8748510-b3e0-43ab-8cec-f80a9003a279",
   "metadata": {},
   "outputs": [
    {
     "name": "stdout",
     "output_type": "stream",
     "text": [
      "<class 'pandas.core.series.Series'>\n",
      "Int64Index: 553952 entries, 0 to 3951\n",
      "Series name: distance_to_school\n",
      "Non-Null Count   Dtype  \n",
      "--------------   -----  \n",
      "553952 non-null  float64\n",
      "dtypes: float64(1)\n",
      "memory usage: 8.5 MB\n",
      "<class 'pandas.core.series.Series'>\n",
      "RangeIndex: 43954 entries, 0 to 43953\n",
      "Series name: distance_to_school\n",
      "Non-Null Count  Dtype  \n",
      "--------------  -----  \n",
      "43954 non-null  float64\n",
      "dtypes: float64(1)\n",
      "memory usage: 343.5 KB\n"
     ]
    }
   ],
   "source": [
    "df['distance_to_school'].info()\n",
    "df_test['distance_to_school'].info()"
   ]
  },
  {
   "cell_type": "code",
   "execution_count": 135,
   "id": "748e055d-5463-4535-a629-e1c108d8396f",
   "metadata": {},
   "outputs": [
    {
     "data": {
      "text/plain": [
       "array(['Greenwich', 'East Hampton', 'Ridgefield', 'Old Lyme', 'Naugatuck',\n",
       "       'Killingly', 'Glastonbury', 'Bridgeport', 'Danbury', 'Hamden',\n",
       "       'Branford', 'Norwalk', 'East Granby', 'Windsor', 'Oxford',\n",
       "       'Chester', 'Thompson', 'Eastford', 'Newington', 'Harwinton',\n",
       "       'Canterbury', 'West Haven', 'Waterbury', 'Bristol', 'Bloomfield',\n",
       "       'Plainfield', 'Wallingford', 'Farmington', 'Berlin', 'Ellington',\n",
       "       'Stratford', 'Woodstock', 'Fairfield', 'New Britain', 'Waterford',\n",
       "       'Redding', 'Stonington', 'Derby', 'Sprague', 'East Haddam',\n",
       "       'Cromwell', 'New Milford', 'Southington', 'Wethersfield',\n",
       "       'South Windsor', 'New London', 'Windham', 'Trumbull', 'Newtown',\n",
       "       'Winchester', 'Durham', 'Wilton', 'Middletown', 'Putnam',\n",
       "       'Windsor Locks', 'Preston', 'Suffield', 'Roxbury', 'Granby',\n",
       "       'Marlborough', 'Tolland', 'Simsbury', 'Avon', 'Essex', 'Darien',\n",
       "       'Madison', 'Sterling', 'Haddam', 'Somers', 'Cheshire',\n",
       "       'Torrington', 'Rocky Hill', 'Westport', 'Ashford', 'Ledyard',\n",
       "       'Stafford', 'Voluntown', 'Bethlehem', 'Seymour', 'Norwich', 'Lyme',\n",
       "       'Guilford', 'North Branford', 'Bolton', 'Bethel', 'Burlington',\n",
       "       'New Fairfield', 'Watertown', 'Woodbridge', 'Litchfield', 'Sharon',\n",
       "       'Kent', 'Weston', 'Brooklyn', 'Sherman', 'East Windsor',\n",
       "       'New Canaan', 'Southbury', 'Colebrook', 'Woodbury', 'New Hartford',\n",
       "       'North Haven', 'Barkhamsted', 'Willington', 'Monroe', 'Deep River',\n",
       "       'Clinton', 'Mansfield', 'Ansonia', 'New Haven', 'Warren',\n",
       "       'Chaplin', 'Washington', 'Old Saybrook', 'Bethany', 'Canton',\n",
       "       'Prospect', 'Coventry', 'North Stonington', 'Hampton', 'Lebanon',\n",
       "       'Salisbury', 'Morris', 'Norfolk', 'Union', 'Goshen',\n",
       "       'North Canaan', 'Franklin', 'Canaan', 'Pomfret', 'Scotland',\n",
       "       'Hartland', 'Bozrah', 'Milford', 'East Hartford', 'Westbrook',\n",
       "       'Salem', 'Brookfield', 'Wolcott', 'Manchester', 'East Haven',\n",
       "       'West Hartford', 'Plainville', 'Vernon', 'Orange', 'Portland',\n",
       "       'Groton', 'Shelton', 'Columbia', 'Hartford', 'Thomaston',\n",
       "       'Meriden', 'Easton', 'Enfield', 'Griswold', 'Cornwall',\n",
       "       'East Lyme', 'Lisbon', 'Hebron', 'Montville', 'Colchester',\n",
       "       'Killingworth', 'Bridgewater', 'Andover', 'Plymouth', 'Middlebury',\n",
       "       'Beacon Falls', 'Middlefield', '***Unknown***', 'Stamford'],\n",
       "      dtype=object)"
      ]
     },
     "execution_count": 135,
     "metadata": {},
     "output_type": "execute_result"
    }
   ],
   "source": [
    "df['Locality'].unique()"
   ]
  },
  {
   "cell_type": "code",
   "execution_count": 144,
   "id": "a1522b1f-a138-4efb-8d68-1b198d8409c0",
   "metadata": {},
   "outputs": [
    {
     "data": {
      "text/plain": [
       "array(['Old Lyme', 'Ridgefield', 'Cromwell', 'New Haven', 'Beacon Falls',\n",
       "       'Derby', 'West Hartford', 'Wolcott', 'Guilford', 'Goshen',\n",
       "       'Granby', 'Plainfield', 'Stonington', 'Branford', 'Manchester',\n",
       "       'Bristol', 'Berlin', 'Naugatuck', 'New Fairfield', 'Kent',\n",
       "       'Rocky Hill', 'Enfield', 'Milford', 'Stamford', 'Thomaston',\n",
       "       'Old Saybrook', 'Norwalk', 'Greenwich', 'Sharon', 'East Lyme',\n",
       "       'New Britain', 'Middletown', 'Norwich', 'Trumbull', 'Farmington',\n",
       "       'Wethersfield', 'Hartford', 'Torrington', 'East Hartford',\n",
       "       'Windsor', 'Bethel', 'Avon', 'Mansfield', 'North Haven',\n",
       "       'Bloomfield', 'Plymouth', 'Weston', 'Bethany', 'Meriden',\n",
       "       'Killingworth', 'Colchester', 'Hebron', 'Darien', 'South Windsor',\n",
       "       'Winchester', 'Glastonbury', 'Brookfield', 'East Windsor',\n",
       "       'Waterbury', 'Thompson', 'Easton', 'New Canaan', 'Sprague',\n",
       "       'Watertown', 'Burlington', 'Stratford', 'Redding', 'Woodbury',\n",
       "       'Monroe', 'Putnam', 'Lyme', 'Barkhamsted', 'East Haven', 'Wilton',\n",
       "       'Newtown', 'Ansonia', 'Salem', 'Suffield', 'Tolland', 'Waterford',\n",
       "       'Coventry', 'Madison', 'Chaplin', 'Windsor Locks', 'Willington',\n",
       "       'Killingly', 'Andover', 'Portland', 'Griswold', 'New London',\n",
       "       'Litchfield', 'Ashford', 'Simsbury', 'Danbury', 'Roxbury',\n",
       "       'Cheshire', 'Columbia', 'Preston', 'Woodstock', 'Eastford',\n",
       "       'Orange', 'Vernon', 'East Granby', 'Chester', 'Morris',\n",
       "       'Woodbridge', 'Sterling', 'Southbury', 'Bethlehem', 'Lebanon',\n",
       "       'Groton', 'Harwinton', 'Sherman', 'Middlebury', 'Shelton',\n",
       "       'Windham', 'Bozrah', 'Westbrook', 'Montville', 'Lisbon',\n",
       "       'Plainville', 'Essex', 'East Haddam', 'Bridgewater',\n",
       "       'New Hartford', 'Scotland', 'Warren', 'Canton', 'North Canaan',\n",
       "       'Canaan', 'Colebrook', 'Washington', 'Bolton', 'Norfolk',\n",
       "       'Cornwall', 'Middlefield', 'Franklin', 'Hampton', 'Union'],\n",
       "      dtype=object)"
      ]
     },
     "execution_count": 144,
     "metadata": {},
     "output_type": "execute_result"
    }
   ],
   "source": [
    "df_test['Locality'].unique()"
   ]
  },
  {
   "cell_type": "code",
   "execution_count": 138,
   "id": "36368e19-8f97-4838-baf3-c2e0ee147e70",
   "metadata": {},
   "outputs": [
    {
     "data": {
      "text/plain": [
       "(array([39859], dtype=int64),)"
      ]
     },
     "execution_count": 138,
     "metadata": {},
     "output_type": "execute_result"
    }
   ],
   "source": [
    "np.where(df['Locality']=='***Unknown***')"
   ]
  },
  {
   "cell_type": "code",
   "execution_count": 139,
   "id": "14a0666d-919e-45f1-961f-7d4a6ed494ba",
   "metadata": {},
   "outputs": [
    {
     "data": {
      "text/plain": [
       "(array([], dtype=int64),)"
      ]
     },
     "execution_count": 139,
     "metadata": {},
     "output_type": "execute_result"
    }
   ],
   "source": [
    "np.where(df_test['Locality']=='***Unknown***')"
   ]
  },
  {
   "cell_type": "code",
   "execution_count": 141,
   "id": "376f0597-bcb3-478b-abae-4fb542560368",
   "metadata": {},
   "outputs": [
    {
     "data": {
      "text/plain": [
       "170"
      ]
     },
     "execution_count": 141,
     "metadata": {},
     "output_type": "execute_result"
    }
   ],
   "source": [
    "df['Locality'].nunique()"
   ]
  },
  {
   "cell_type": "code",
   "execution_count": 142,
   "id": "fc20ad4c-6452-41de-ad20-1f173440a329",
   "metadata": {},
   "outputs": [
    {
     "data": {
      "text/plain": [
       "139"
      ]
     },
     "execution_count": 142,
     "metadata": {},
     "output_type": "execute_result"
    }
   ],
   "source": [
    "df_test['Locality'].nunique()\n"
   ]
  },
  {
   "cell_type": "code",
   "execution_count": 181,
   "id": "0d47d3f4-2a6c-49fd-b125-3b816fb906ab",
   "metadata": {},
   "outputs": [
    {
     "data": {
      "text/plain": [
       "Detached House    406463\n",
       "Condominium       106103\n",
       "Duplex             26587\n",
       "Triplex            12625\n",
       "Fourplex            2174\n",
       "Name: Residential, dtype: int64"
      ]
     },
     "execution_count": 181,
     "metadata": {},
     "output_type": "execute_result"
    }
   ],
   "source": [
    "df['Residential'].value_counts()"
   ]
  },
  {
   "cell_type": "code",
   "execution_count": 182,
   "id": "911fb55b-d50f-482c-b27f-7b3b4c337139",
   "metadata": {},
   "outputs": [
    {
     "data": {
      "text/plain": [
       "Detached House    30969\n",
       "Condominium        9238\n",
       "Duplex             2414\n",
       "Triplex            1125\n",
       "Fourplex            208\n",
       "Name: Residential, dtype: int64"
      ]
     },
     "execution_count": 182,
     "metadata": {},
     "output_type": "execute_result"
    }
   ],
   "source": [
    "df_test['Residential'].value_counts()"
   ]
  },
  {
   "cell_type": "code",
   "execution_count": 183,
   "id": "6db7c694-31b6-43d0-8c17-3ddd215b0277",
   "metadata": {},
   "outputs": [
    {
     "data": {
      "image/png": "[encoded data removed]",
      "text/plain": [
       "<Figure size 720x432 with 1 Axes>"
      ]
     },
     "metadata": {
      "needs_background": "light"
     },
     "output_type": "display_data"
    }
   ],
   "source": [
    "import seaborn as sns\n",
    "import matplotlib.pyplot as plt\n",
    "\n",
    "combined_df = pd.concat([df['Residential'].value_counts().rename('df'), \n",
    "                         df_test['Residential'].value_counts().rename('df_test')],\n",
    "                        axis=1)\n",
    "\n",
    "melted_df = pd.melt(combined_df.reset_index(), id_vars='index', var_name='Dataset', value_name='Count')\n",
    "\n",
    "plt.figure(figsize=(10, 6))\n",
    "sns.barplot(x='index', y='Count', hue='Dataset', data=melted_df)\n",
    "plt.title('Value Counts - Residential')\n",
    "plt.xlabel('Residential')\n",
    "plt.ylabel('Count')\n",
    "plt.xticks(rotation=45) \n",
    "plt.show()\n"
   ]
  },
  {
   "cell_type": "code",
   "execution_count": null,
   "id": "6cacdf5f-d3b8-4d80-919c-a14e7ef12988",
   "metadata": {},
   "outputs": [],
   "source": []
  },
  {
   "cell_type": "code",
   "execution_count": 150,
   "id": "bfa80b26-a023-4dd7-a60c-bf39b5d2588c",
   "metadata": {},
   "outputs": [
    {
     "data": {
      "text/plain": [
       "count    5.539520e+05\n",
       "mean     3.395377e+05\n",
       "std      1.829786e+06\n",
       "min      0.000000e+00\n",
       "25%      1.131900e+05\n",
       "50%      1.652000e+05\n",
       "75%      2.678000e+05\n",
       "max      8.815100e+08\n",
       "Name: Estimated Value, dtype: float64"
      ]
     },
     "execution_count": 150,
     "metadata": {},
     "output_type": "execute_result"
    }
   ],
   "source": [
    "df['Estimated Value'].describe()"
   ]
  },
  {
   "cell_type": "code",
   "execution_count": 151,
   "id": "54f3621c-2736-41bf-a9ef-00f0ea84bd12",
   "metadata": {},
   "outputs": [
    {
     "data": {
      "text/plain": [
       "count    4.395400e+04\n",
       "mean     3.423068e+05\n",
       "std      2.677833e+06\n",
       "min      1.000000e+02\n",
       "25%      1.059625e+05\n",
       "50%      1.599300e+05\n",
       "75%      2.660150e+05\n",
       "max      3.367660e+08\n",
       "Name: Estimated Value, dtype: float64"
      ]
     },
     "execution_count": 151,
     "metadata": {},
     "output_type": "execute_result"
    }
   ],
   "source": [
    "df_test['Estimated Value'].describe()"
   ]
  },
  {
   "cell_type": "code",
   "execution_count": null,
   "id": "dd36a55e-5f01-44d4-9df0-84c242787e1f",
   "metadata": {},
   "outputs": [],
   "source": []
  },
  {
   "cell_type": "code",
   "execution_count": 152,
   "id": "0c549a97-0aa8-497f-8a90-075078b6418c",
   "metadata": {},
   "outputs": [
    {
     "data": {
      "text/plain": [
       "count    5.539520e+05\n",
       "mean     3.514670e+05\n",
       "std      6.708937e+05\n",
       "min      0.000000e+00\n",
       "25%      1.480000e+05\n",
       "50%      2.300000e+05\n",
       "75%      3.647000e+05\n",
       "max      1.570000e+08\n",
       "Name: Sale Price, dtype: float64"
      ]
     },
     "execution_count": 152,
     "metadata": {},
     "output_type": "execute_result"
    }
   ],
   "source": [
    "df['Sale Price'].describe()"
   ]
  },
  {
   "cell_type": "code",
   "execution_count": 153,
   "id": "8df295be-72c7-4e6c-a193-d8c1584f043d",
   "metadata": {},
   "outputs": [
    {
     "data": {
      "text/plain": [
       "0       In 2009, this condo located in Greenwich at 40...\n",
       "1       In 2009, this single family located in East Ha...\n",
       "2       In 2009, this single family located in Ridgefi...\n",
       "3       In 2009, this single family located in Old Lym...\n",
       "4       In 2009, this single family located in Naugatu...\n",
       "                              ...                        \n",
       "3947    In 2022, this residential located in Enfield a...\n",
       "3948    In 2022, this residential located in Naugatuck...\n",
       "3949    In 2022, this residential located in South Win...\n",
       "3950    In 2022, this residential located in Bloomfiel...\n",
       "3951    In 2022, this residential located in Stamford ...\n",
       "Name: specifications, Length: 553952, dtype: object"
      ]
     },
     "execution_count": 153,
     "metadata": {},
     "output_type": "execute_result"
    }
   ],
   "source": [
    "df['specifications']"
   ]
  },
  {
   "cell_type": "code",
   "execution_count": 154,
   "id": "06963b13-9ff0-4d7d-beca-b0a498e73050",
   "metadata": {},
   "outputs": [
    {
     "data": {
      "text/plain": [
       "0        In 2023, this residential located in Old Lyme ...\n",
       "1        In 2023, this residential located in Ridgefiel...\n",
       "2        In 2023, this residential located in Cromwell ...\n",
       "3        In 2023, this residential located in New Haven...\n",
       "4        In 2023, this residential located in Beacon Fa...\n",
       "                               ...                        \n",
       "43949    In 2023, this residential located in Ansonia a...\n",
       "43950    In 2023, this residential located in Enfield a...\n",
       "43951    In 2023, this residential located in Simsbury ...\n",
       "43952    In 2023, this residential located in Essex at ...\n",
       "43953    In 2023, this residential located in Milford a...\n",
       "Name: specifications, Length: 43954, dtype: object"
      ]
     },
     "execution_count": 154,
     "metadata": {},
     "output_type": "execute_result"
    }
   ],
   "source": [
    "df_test['specifications']"
   ]
  },
  {
   "cell_type": "code",
   "execution_count": null,
   "id": "e7337263-a43f-4af3-a55e-0be8b1a234d1",
   "metadata": {},
   "outputs": [],
   "source": []
  },
  {
   "cell_type": "code",
   "execution_count": 155,
   "id": "bde938b2-1122-432c-b4de-120d29a92403",
   "metadata": {},
   "outputs": [],
   "source": [
    "df.drop(columns=['specifications','day','month','Address'],inplace=True)\n",
    "df_test.drop(columns=['specifications','day','month','Address'],inplace=True)"
   ]
  },
  {
   "cell_type": "code",
   "execution_count": 159,
   "id": "4e903159-5664-4d37-b59f-7fa5bd7fe7fe",
   "metadata": {},
   "outputs": [
    {
     "data": {
      "text/html": [
       "<div>\n",
       "<style scoped>\n",
       "    .dataframe tbody tr th:only-of-type {\n",
       "        vertical-align: middle;\n",
       "    }\n",
       "\n",
       "    .dataframe tbody tr th {\n",
       "        vertical-align: top;\n",
       "    }\n",
       "\n",
       "    .dataframe thead th {\n",
       "        text-align: right;\n",
       "    }\n",
       "</style>\n",
       "<table border=\"1\" class=\"dataframe\">\n",
       "  <thead>\n",
       "    <tr style=\"text-align: right;\">\n",
       "      <th></th>\n",
       "      <th>crime_rate</th>\n",
       "      <th>renovation_level</th>\n",
       "      <th>Year</th>\n",
       "      <th>num_rooms</th>\n",
       "      <th>Property</th>\n",
       "      <th>amenities_rating</th>\n",
       "      <th>carpet_area</th>\n",
       "      <th>nearby_restaurants</th>\n",
       "      <th>public_transport_availability</th>\n",
       "      <th>property_tax_rate</th>\n",
       "      <th>distance_to_school</th>\n",
       "      <th>Locality</th>\n",
       "      <th>Residential</th>\n",
       "      <th>Estimated Value</th>\n",
       "      <th>Sale Price</th>\n",
       "    </tr>\n",
       "  </thead>\n",
       "  <tbody>\n",
       "    <tr>\n",
       "      <th>0</th>\n",
       "      <td>2.656826</td>\n",
       "      <td>Minor</td>\n",
       "      <td>2009</td>\n",
       "      <td>Two rooms</td>\n",
       "      <td>Condo</td>\n",
       "      <td>Mediocre</td>\n",
       "      <td>760.000000</td>\n",
       "      <td>19.0</td>\n",
       "      <td>Scattered</td>\n",
       "      <td>1.025953</td>\n",
       "      <td>6.586707</td>\n",
       "      <td>Greenwich</td>\n",
       "      <td>Condominium</td>\n",
       "      <td>711270.0</td>\n",
       "      <td>975000.0</td>\n",
       "    </tr>\n",
       "    <tr>\n",
       "      <th>1</th>\n",
       "      <td>5.328727</td>\n",
       "      <td>Basic</td>\n",
       "      <td>2009</td>\n",
       "      <td>Three rooms</td>\n",
       "      <td>Single Family</td>\n",
       "      <td>Superb</td>\n",
       "      <td>7967.337677</td>\n",
       "      <td>17.0</td>\n",
       "      <td>Extensive</td>\n",
       "      <td>1.025953</td>\n",
       "      <td>8.224127</td>\n",
       "      <td>East Hampton</td>\n",
       "      <td>Detached House</td>\n",
       "      <td>119970.0</td>\n",
       "      <td>189900.0</td>\n",
       "    </tr>\n",
       "    <tr>\n",
       "      <th>2</th>\n",
       "      <td>4.037759</td>\n",
       "      <td>Basic</td>\n",
       "      <td>2009</td>\n",
       "      <td>Three rooms</td>\n",
       "      <td>Single Family</td>\n",
       "      <td>Satisfactory</td>\n",
       "      <td>982.000000</td>\n",
       "      <td>1.0</td>\n",
       "      <td>Accessible</td>\n",
       "      <td>1.025953</td>\n",
       "      <td>8.019369</td>\n",
       "      <td>Ridgefield</td>\n",
       "      <td>Detached House</td>\n",
       "      <td>494530.0</td>\n",
       "      <td>825000.0</td>\n",
       "    </tr>\n",
       "    <tr>\n",
       "      <th>3</th>\n",
       "      <td>2.085309</td>\n",
       "      <td>Extensive</td>\n",
       "      <td>2009</td>\n",
       "      <td>Three rooms</td>\n",
       "      <td>Single Family</td>\n",
       "      <td>Superb</td>\n",
       "      <td>976.000000</td>\n",
       "      <td>5.0</td>\n",
       "      <td>Insufficient</td>\n",
       "      <td>1.025953</td>\n",
       "      <td>6.175522</td>\n",
       "      <td>Old Lyme</td>\n",
       "      <td>Detached House</td>\n",
       "      <td>197600.0</td>\n",
       "      <td>450000.0</td>\n",
       "    </tr>\n",
       "    <tr>\n",
       "      <th>4</th>\n",
       "      <td>4.397712</td>\n",
       "      <td>Partial</td>\n",
       "      <td>2009</td>\n",
       "      <td>Three rooms</td>\n",
       "      <td>Single Family</td>\n",
       "      <td>Below Average</td>\n",
       "      <td>947.000000</td>\n",
       "      <td>14.0</td>\n",
       "      <td>Inadequate</td>\n",
       "      <td>NaN</td>\n",
       "      <td>1.677037</td>\n",
       "      <td>Naugatuck</td>\n",
       "      <td>Detached House</td>\n",
       "      <td>105440.0</td>\n",
       "      <td>200000.0</td>\n",
       "    </tr>\n",
       "  </tbody>\n",
       "</table>\n",
       "</div>"
      ],
      "text/plain": [
       "   crime_rate renovation_level  Year    num_rooms       Property  \\\n",
       "0    2.656826            Minor  2009    Two rooms          Condo   \n",
       "1    5.328727            Basic  2009  Three rooms  Single Family   \n",
       "2    4.037759            Basic  2009  Three rooms  Single Family   \n",
       "3    2.085309        Extensive  2009  Three rooms  Single Family   \n",
       "4    4.397712          Partial  2009  Three rooms  Single Family   \n",
       "\n",
       "  amenities_rating  carpet_area  nearby_restaurants  \\\n",
       "0         Mediocre   760.000000                19.0   \n",
       "1           Superb  7967.337677                17.0   \n",
       "2     Satisfactory   982.000000                 1.0   \n",
       "3           Superb   976.000000                 5.0   \n",
       "4    Below Average   947.000000                14.0   \n",
       "\n",
       "  public_transport_availability  property_tax_rate  distance_to_school  \\\n",
       "0                     Scattered           1.025953            6.586707   \n",
       "1                     Extensive           1.025953            8.224127   \n",
       "2                    Accessible           1.025953            8.019369   \n",
       "3                  Insufficient           1.025953            6.175522   \n",
       "4                    Inadequate                NaN            1.677037   \n",
       "\n",
       "       Locality     Residential  Estimated Value  Sale Price  \n",
       "0     Greenwich     Condominium         711270.0    975000.0  \n",
       "1  East Hampton  Detached House         119970.0    189900.0  \n",
       "2    Ridgefield  Detached House         494530.0    825000.0  \n",
       "3      Old Lyme  Detached House         197600.0    450000.0  \n",
       "4     Naugatuck  Detached House         105440.0    200000.0  "
      ]
     },
     "execution_count": 159,
     "metadata": {},
     "output_type": "execute_result"
    }
   ],
   "source": [
    "df.head()"
   ]
  },
  {
   "cell_type": "code",
   "execution_count": 160,
   "id": "1896070c-e72b-406b-9910-5fd28bda2e59",
   "metadata": {},
   "outputs": [
    {
     "data": {
      "text/html": [
       "<div>\n",
       "<style scoped>\n",
       "    .dataframe tbody tr th:only-of-type {\n",
       "        vertical-align: middle;\n",
       "    }\n",
       "\n",
       "    .dataframe tbody tr th {\n",
       "        vertical-align: top;\n",
       "    }\n",
       "\n",
       "    .dataframe thead th {\n",
       "        text-align: right;\n",
       "    }\n",
       "</style>\n",
       "<table border=\"1\" class=\"dataframe\">\n",
       "  <thead>\n",
       "    <tr style=\"text-align: right;\">\n",
       "      <th></th>\n",
       "      <th>crime_rate</th>\n",
       "      <th>renovation_level</th>\n",
       "      <th>Year</th>\n",
       "      <th>num_rooms</th>\n",
       "      <th>Property</th>\n",
       "      <th>amenities_rating</th>\n",
       "      <th>carpet_area</th>\n",
       "      <th>nearby_restaurants</th>\n",
       "      <th>public_transport_availability</th>\n",
       "      <th>property_tax_rate</th>\n",
       "      <th>distance_to_school</th>\n",
       "      <th>Locality</th>\n",
       "      <th>Residential</th>\n",
       "      <th>Estimated Value</th>\n",
       "      <th>Sale Price</th>\n",
       "    </tr>\n",
       "  </thead>\n",
       "  <tbody>\n",
       "    <tr>\n",
       "      <th>0</th>\n",
       "      <td>3.382568</td>\n",
       "      <td>Essential</td>\n",
       "      <td>2023</td>\n",
       "      <td>Three rooms</td>\n",
       "      <td>Residential</td>\n",
       "      <td>Satisfactory</td>\n",
       "      <td>947.0</td>\n",
       "      <td>20.0</td>\n",
       "      <td>Abundant</td>\n",
       "      <td>1.46</td>\n",
       "      <td>2.215594</td>\n",
       "      <td>Old Lyme</td>\n",
       "      <td>Detached House</td>\n",
       "      <td>151400.0</td>\n",
       "      <td>0</td>\n",
       "    </tr>\n",
       "    <tr>\n",
       "      <th>1</th>\n",
       "      <td>9.362040</td>\n",
       "      <td>Standard</td>\n",
       "      <td>2023</td>\n",
       "      <td>Three rooms</td>\n",
       "      <td>Residential</td>\n",
       "      <td>Luxurious</td>\n",
       "      <td>1051.0</td>\n",
       "      <td>11.0</td>\n",
       "      <td>Scattered</td>\n",
       "      <td>1.46</td>\n",
       "      <td>5.898198</td>\n",
       "      <td>Ridgefield</td>\n",
       "      <td>Detached House</td>\n",
       "      <td>686900.0</td>\n",
       "      <td>0</td>\n",
       "    </tr>\n",
       "    <tr>\n",
       "      <th>2</th>\n",
       "      <td>8.247432</td>\n",
       "      <td>Extensive</td>\n",
       "      <td>2023</td>\n",
       "      <td>Three rooms</td>\n",
       "      <td>Residential</td>\n",
       "      <td>Superb</td>\n",
       "      <td>925.0</td>\n",
       "      <td>11.0</td>\n",
       "      <td>Insufficient</td>\n",
       "      <td>1.46</td>\n",
       "      <td>8.829687</td>\n",
       "      <td>Cromwell</td>\n",
       "      <td>Detached House</td>\n",
       "      <td>152030.0</td>\n",
       "      <td>0</td>\n",
       "    </tr>\n",
       "    <tr>\n",
       "      <th>3</th>\n",
       "      <td>1.511424</td>\n",
       "      <td>Complete</td>\n",
       "      <td>2023</td>\n",
       "      <td>Four rooms</td>\n",
       "      <td>Residential</td>\n",
       "      <td>Unimpressive</td>\n",
       "      <td>1210.0</td>\n",
       "      <td>8.0</td>\n",
       "      <td>Limited</td>\n",
       "      <td>1.46</td>\n",
       "      <td>5.842769</td>\n",
       "      <td>New Haven</td>\n",
       "      <td>Duplex</td>\n",
       "      <td>156130.0</td>\n",
       "      <td>0</td>\n",
       "    </tr>\n",
       "    <tr>\n",
       "      <th>4</th>\n",
       "      <td>3.452794</td>\n",
       "      <td>Minor</td>\n",
       "      <td>2023</td>\n",
       "      <td>Three rooms</td>\n",
       "      <td>Residential</td>\n",
       "      <td>Satisfactory</td>\n",
       "      <td>1089.0</td>\n",
       "      <td>5.0</td>\n",
       "      <td>Limited</td>\n",
       "      <td>1.46</td>\n",
       "      <td>2.598910</td>\n",
       "      <td>Beacon Falls</td>\n",
       "      <td>Detached House</td>\n",
       "      <td>108970.0</td>\n",
       "      <td>0</td>\n",
       "    </tr>\n",
       "  </tbody>\n",
       "</table>\n",
       "</div>"
      ],
      "text/plain": [
       "   crime_rate renovation_level  Year    num_rooms     Property  \\\n",
       "0    3.382568        Essential  2023  Three rooms  Residential   \n",
       "1    9.362040         Standard  2023  Three rooms  Residential   \n",
       "2    8.247432        Extensive  2023  Three rooms  Residential   \n",
       "3    1.511424         Complete  2023   Four rooms  Residential   \n",
       "4    3.452794            Minor  2023  Three rooms  Residential   \n",
       "\n",
       "  amenities_rating  carpet_area  nearby_restaurants  \\\n",
       "0     Satisfactory        947.0                20.0   \n",
       "1        Luxurious       1051.0                11.0   \n",
       "2           Superb        925.0                11.0   \n",
       "3     Unimpressive       1210.0                 8.0   \n",
       "4     Satisfactory       1089.0                 5.0   \n",
       "\n",
       "  public_transport_availability  property_tax_rate  distance_to_school  \\\n",
       "0                      Abundant               1.46            2.215594   \n",
       "1                     Scattered               1.46            5.898198   \n",
       "2                  Insufficient               1.46            8.829687   \n",
       "3                       Limited               1.46            5.842769   \n",
       "4                       Limited               1.46            2.598910   \n",
       "\n",
       "       Locality     Residential  Estimated Value  Sale Price  \n",
       "0      Old Lyme  Detached House         151400.0           0  \n",
       "1    Ridgefield  Detached House         686900.0           0  \n",
       "2      Cromwell  Detached House         152030.0           0  \n",
       "3     New Haven          Duplex         156130.0           0  \n",
       "4  Beacon Falls  Detached House         108970.0           0  "
      ]
     },
     "execution_count": 160,
     "metadata": {},
     "output_type": "execute_result"
    }
   ],
   "source": [
    "df_test.head()"
   ]
  },
  {
   "cell_type": "code",
   "execution_count": 163,
   "id": "dca4c271-b535-4fbc-8c9b-57069ce0c427",
   "metadata": {},
   "outputs": [
    {
     "data": {
      "text/plain": [
       "array([1.46      ,        nan, 5.24759326])"
      ]
     },
     "execution_count": 163,
     "metadata": {},
     "output_type": "execute_result"
    }
   ],
   "source": [
    "df_test['property_tax_rate'].unique()"
   ]
  },
  {
   "cell_type": "code",
   "execution_count": 166,
   "id": "9a448fb3-122b-4fa0-b814-267c1c20d5d5",
   "metadata": {},
   "outputs": [
    {
     "data": {
      "text/plain": [
       "(array([], dtype=int64),)"
      ]
     },
     "execution_count": 166,
     "metadata": {},
     "output_type": "execute_result"
    }
   ],
   "source": [
    "np.where(df_test['property_tax_rate']==np.nan)"
   ]
  },
  {
   "cell_type": "code",
   "execution_count": 169,
   "id": "461c346a-2703-45ad-bf5b-bc0688670388",
   "metadata": {},
   "outputs": [
    {
     "data": {
      "text/plain": [
       "(array([    0,     1,     2, ..., 43951, 43952, 43953], dtype=int64),)"
      ]
     },
     "execution_count": 169,
     "metadata": {},
     "output_type": "execute_result"
    }
   ],
   "source": [
    "np.where(df_test['property_tax_rate']==1.46)"
   ]
  },
  {
   "cell_type": "code",
   "execution_count": null,
   "id": "ab3336df-b22d-4230-9b72-696eda1da68b",
   "metadata": {},
   "outputs": [],
   "source": []
  },
  {
   "cell_type": "code",
   "execution_count": null,
   "id": "7d069d03-edff-4ae0-b1d3-2fbddaf6aa1a",
   "metadata": {},
   "outputs": [],
   "source": []
  }
 ],
 "metadata": {
  "kernelspec": {
   "display_name": "Python 3 (ipykernel)",
   "language": "python",
   "name": "python3"
  },
  "language_info": {
   "codemirror_mode": {
    "name": "ipython",
    "version": 3
   },
   "file_extension": ".py",
   "mimetype": "text/x-python",
   "name": "python",
   "nbconvert_exporter": "python",
   "pygments_lexer": "ipython3",
   "version": "3.10.6"
  }
 },
 "nbformat": 4,
 "nbformat_minor": 5
}
