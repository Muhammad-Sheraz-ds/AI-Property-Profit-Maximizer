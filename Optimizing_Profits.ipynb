{
 "cells": [
  {
   "cell_type": "markdown",
   "id": "1744df4b-c3d5-4ae2-b0fb-e2ccc1a258f6",
   "metadata": {},
   "source": [
    "# Optimizing Profits: Discover Property Treasures Using Cutting-Edge AI and Data Mining\r\n",
    "\r\n",
    "## Business Problem\r\n",
    "\r\n",
    "### Introduction:\r\n",
    "\r\n",
    "Welcome to the Property Investment Challenge! Our client, an investment fund, is on a mission to maximize returns on real estate investments. In this dynamic and competitive market, the fund is looking to leverage cutting-edge AI and data mining techniques to identify and invest in properties with the highest potential for profitability. The goal is to optimize the allocation of resources and strategically select properties that can yield substantial returns on investment.\r\n",
    "\r\n",
    "### Challenge Overview:\r\n",
    "\r\n",
    "The investment fund is planning to make a significant number of property investments, and the key to success lies in the ability to identify properties that offer substantial returns. The challenge is rooted in a vast dataset that spans the last 23 years, encompassing millions of property sales. The fund envisions a solution that can effectively segment these properties, enabling them to leverage sophisticated machine learning and analytics to quickly identify target properties for investment.\r\n",
    "\r\n",
    "### Key Objectives:\r\n",
    "\r\n",
    "1. **Predictive Modeling:**\r\n",
    "   - Develop robust machine learning models capable of accurately predicting property sale prices. These models should take into account various factors such as location, estimated price, and other relevant features.\r\n",
    "\r\n",
    "2. **Segmentation:**\r\n",
    "   - After predicting sale prices, segment the properties into four distinct categories based on the calculated gain. The gain is calculated using the formula: `(Sale price - Estimated price)/100`.\r\n",
    "     - **Segment 0: Premium Properties 💰🏰**\r\n",
    "     - **Segment 1: Valuable Properties 💎🏡**\r\n",
    "     - **Segment 2: Standard Properties 🏘️💸**\r\n",
    "     - **Segment 3: Budget Properties 🏠💵**\r\n",
    "\r\n",
    "### Dataset:\r\n",
    "\r\n",
    "Participants will be provided with a comprehensive property dataset spanning the last 23 years. This dataset includes information such as property location, estimated price, selling price, and other relevant details.\r\n",
    "\r\n",
    "### Expected Outcome:\r\n",
    "\r\n",
    "The investment fund anticipates a solution that can not only accurately predict property sale prices but also categorize them into distinct segments. This segmentation will empower the fund to make well-informed decisions, strategically investing in properties that align with their overarching goal of maximizing returns.\r\n",
    "\r\n",
    "### Evaluation:\r\n",
    "\r\n",
    "Submissions will be assessed based on the performance metric relevant to regression tasks. The chosen metric should accurately reflect the model's ability to predict continuous numerical values, such as property sale prices. Participants are encouraged to select a metric aligned with the competition's goals and dataset characteristics, using it as a guiding measure for model accuracy and improvement.\r\n",
    "\r\n",
    "Let the challenge begin, and may the best solution unlock the potential of property treasures! 🏡💎\r\n"
   ]
  },
  {
   "cell_type": "code",
   "execution_count": null,
   "id": "697bc9fe-7c13-48a5-916b-c7f832d7562b",
   "metadata": {},
   "outputs": [],
   "source": []
  },
  {
   "cell_type": "code",
   "execution_count": null,
   "id": "c48276f9-5e03-42ae-ac2b-f838d83e859d",
   "metadata": {},
   "outputs": [],
   "source": []
  },
  {
   "cell_type": "code",
   "execution_count": null,
   "id": "d3948a1b-ec29-493b-a603-adefee620dc5",
   "metadata": {},
   "outputs": [],
   "source": []
  },
  {
   "cell_type": "markdown",
   "id": "fa155958-c74c-4383-b24d-43e9bb22f055",
   "metadata": {},
   "source": [
    "# 1. Data Acquisition"
   ]
  },
  {
   "cell_type": "code",
   "execution_count": 1,
   "id": "ab20c310-c15c-47ce-aa71-59a9ee1195ff",
   "metadata": {},
   "outputs": [],
   "source": [
    "import os\n",
    "import requests"
   ]
  },
  {
   "cell_type": "code",
   "execution_count": 2,
   "id": "971cc893-e2ed-440d-afdf-f46b008fa8cc",
   "metadata": {},
   "outputs": [],
   "source": [
    "from Dataset import credentials\n",
    "\n",
    "ACCESS = credentials.ACCESS\n",
    "BUCKET_NAME = credentials.BUCKET_NAME\n",
    "DATABASE_URL = credentials.DATABASE_URL\n",
    "\n",
    "# IMPORTANT: Credentials are not shared in this public notebook.\n",
    "\n",
    "# with your own credentials if you intend to run this code.\n",
    "\n",
    "# Never share sensitive information like credentials publicly.\n",
    "\n",
    "# See Rest of code "
   ]
  },
  {
   "cell_type": "code",
   "execution_count": 148,
   "id": "52f90264-d897-4c3f-a000-07b2ea242542",
   "metadata": {},
   "outputs": [],
   "source": [
    "file_names = [f'pucon24_ai_train_{i}.csv' for i in range(1, 13)]\n",
    "file_names += ['pucon24-ai-test.csv', 'pucon24-ai-sample_submission.csv', 'pucon24_ai_description.txt']"
   ]
  },
  {
   "cell_type": "code",
   "execution_count": 149,
   "id": "17d9dbad-7cea-46a6-a2f0-e7fae374845c",
   "metadata": {},
   "outputs": [],
   "source": [
    "def access_dataset(file_name):\n",
    "    url = f'{DATABASE_URL}/{ACCESS}/{BUCKET_NAME}/{file_name}'\n",
    "    response = requests.get(url)\n",
    "    \n",
    "    if response.status_code == 200:\n",
    "        with open(f'./Dataset/{file_name}', 'wb') as file:\n",
    "            file.write(response.content)\n",
    "        print(f'File {file_name} saved successfully.')\n",
    "    else:\n",
    "        print(f'Failed to download file. Status code: {response.status_code}')"
   ]
  },
  {
   "cell_type": "code",
   "execution_count": null,
   "id": "b5b319db-0793-4da7-b81f-16a866e8ba90",
   "metadata": {},
   "outputs": [],
   "source": [
    "for file_name in file_names:\n",
    "    access_dataset(file_name)"
   ]
  },
  {
   "cell_type": "code",
   "execution_count": null,
   "id": "4937bd2b-40d9-4cef-aa38-99b478623b40",
   "metadata": {},
   "outputs": [],
   "source": []
  },
  {
   "cell_type": "code",
   "execution_count": 150,
   "id": "00c04ee4-b0d0-4910-94cf-e9ee3e90b24f",
   "metadata": {},
   "outputs": [],
   "source": [
    "import pandas as pd\n",
    "import numpy as np\n",
    "import matplotlib.pyplot as plt\n",
    "import seaborn as sns"
   ]
  },
  {
   "cell_type": "code",
   "execution_count": 157,
   "id": "68426c75-de6b-4335-8eea-de0df5317bff",
   "metadata": {},
   "outputs": [
    {
     "data": {
      "text/html": [
       "<div>\n",
       "<style scoped>\n",
       "    .dataframe tbody tr th:only-of-type {\n",
       "        vertical-align: middle;\n",
       "    }\n",
       "\n",
       "    .dataframe tbody tr th {\n",
       "        vertical-align: top;\n",
       "    }\n",
       "\n",
       "    .dataframe thead th {\n",
       "        text-align: right;\n",
       "    }\n",
       "</style>\n",
       "<table border=\"1\" class=\"dataframe\">\n",
       "  <thead>\n",
       "    <tr style=\"text-align: right;\">\n",
       "      <th></th>\n",
       "      <th>Date</th>\n",
       "      <th>crime_rate</th>\n",
       "      <th>renovation_level</th>\n",
       "      <th>Year</th>\n",
       "      <th>Address</th>\n",
       "      <th>num_rooms</th>\n",
       "      <th>Property</th>\n",
       "      <th>amenities_rating</th>\n",
       "      <th>carpet_area</th>\n",
       "      <th>nearby_restaurants</th>\n",
       "      <th>public_transport_availability</th>\n",
       "      <th>property_tax_rate</th>\n",
       "      <th>distance_to_school</th>\n",
       "      <th>Locality</th>\n",
       "      <th>Residential</th>\n",
       "      <th>Estimated Value</th>\n",
       "      <th>Sale Price</th>\n",
       "      <th>specifications</th>\n",
       "    </tr>\n",
       "  </thead>\n",
       "  <tbody>\n",
       "    <tr>\n",
       "      <th>0</th>\n",
       "      <td>2009-01-02-00:00:00</td>\n",
       "      <td>2.6568262407789027</td>\n",
       "      <td>Minor</td>\n",
       "      <td>2009</td>\n",
       "      <td>40 ETTL LN UT 24</td>\n",
       "      <td>Two rooms</td>\n",
       "      <td>Condo</td>\n",
       "      <td>Mediocre</td>\n",
       "      <td>760.0</td>\n",
       "      <td>19.0</td>\n",
       "      <td>Scattered</td>\n",
       "      <td>1.025953</td>\n",
       "      <td>6.586707</td>\n",
       "      <td>Greenwich</td>\n",
       "      <td>Condominium</td>\n",
       "      <td>711270.0</td>\n",
       "      <td>975000.0</td>\n",
       "      <td>In 2009, this condo located in Greenwich at 40...</td>\n",
       "    </tr>\n",
       "    <tr>\n",
       "      <th>1</th>\n",
       "      <td>2009-01-02-00:00:00</td>\n",
       "      <td>5.328727031244374</td>\n",
       "      <td>Basic</td>\n",
       "      <td>2009</td>\n",
       "      <td>18 BAUER RD</td>\n",
       "      <td>Three rooms</td>\n",
       "      <td>Single Family</td>\n",
       "      <td>Superb</td>\n",
       "      <td>7967.337677159014</td>\n",
       "      <td>17.0</td>\n",
       "      <td>Extensive</td>\n",
       "      <td>1.025953</td>\n",
       "      <td>8.224127</td>\n",
       "      <td>East Hampton</td>\n",
       "      <td>Detached House</td>\n",
       "      <td>119970.0</td>\n",
       "      <td>189900.0</td>\n",
       "      <td>In 2009, this single family located in East Ha...</td>\n",
       "    </tr>\n",
       "    <tr>\n",
       "      <th>2</th>\n",
       "      <td>2009-01-02-00:00:00</td>\n",
       "      <td>4.037758682930219</td>\n",
       "      <td>Basic</td>\n",
       "      <td>2009</td>\n",
       "      <td>48 HIGH VALLEY RD.</td>\n",
       "      <td>Three rooms</td>\n",
       "      <td>Single Family</td>\n",
       "      <td>Satisfactory</td>\n",
       "      <td>982.0</td>\n",
       "      <td>1.0</td>\n",
       "      <td>Accessible</td>\n",
       "      <td>1.025953</td>\n",
       "      <td>8.019369</td>\n",
       "      <td>Ridgefield</td>\n",
       "      <td>Detached House</td>\n",
       "      <td>494530.0</td>\n",
       "      <td>825000.0</td>\n",
       "      <td>In 2009, this single family located in Ridgefi...</td>\n",
       "    </tr>\n",
       "    <tr>\n",
       "      <th>3</th>\n",
       "      <td>2009-01-02-00:00:00</td>\n",
       "      <td>2.085308997846847</td>\n",
       "      <td>Extensive</td>\n",
       "      <td>2009</td>\n",
       "      <td>56 MERIDEN RD</td>\n",
       "      <td>Three rooms</td>\n",
       "      <td>Single Family</td>\n",
       "      <td>Superb</td>\n",
       "      <td>976.0</td>\n",
       "      <td>5.0</td>\n",
       "      <td>Insufficient</td>\n",
       "      <td>1.025953</td>\n",
       "      <td>6.175522</td>\n",
       "      <td>Old Lyme</td>\n",
       "      <td>Detached House</td>\n",
       "      <td>197600.0</td>\n",
       "      <td>450000.0</td>\n",
       "      <td>In 2009, this single family located in Old Lym...</td>\n",
       "    </tr>\n",
       "    <tr>\n",
       "      <th>4</th>\n",
       "      <td>02-01-2009-00:00:00</td>\n",
       "      <td>4.397712193695299</td>\n",
       "      <td>Partial</td>\n",
       "      <td>2009</td>\n",
       "      <td>13 CELENTANO DR</td>\n",
       "      <td>Three rooms</td>\n",
       "      <td>Single Family</td>\n",
       "      <td>Below Average</td>\n",
       "      <td>947.0</td>\n",
       "      <td>14.0</td>\n",
       "      <td>Inadequate</td>\n",
       "      <td>NaN</td>\n",
       "      <td>1.677037</td>\n",
       "      <td>Naugatuck</td>\n",
       "      <td>Detached House</td>\n",
       "      <td>105440.0</td>\n",
       "      <td>200000.0</td>\n",
       "      <td>In 2009, this single family located in Naugatu...</td>\n",
       "    </tr>\n",
       "  </tbody>\n",
       "</table>\n",
       "</div>"
      ],
      "text/plain": [
       "                  Date          crime_rate renovation_level  Year  \\\n",
       "0  2009-01-02-00:00:00  2.6568262407789027            Minor  2009   \n",
       "1  2009-01-02-00:00:00   5.328727031244374            Basic  2009   \n",
       "2  2009-01-02-00:00:00   4.037758682930219            Basic  2009   \n",
       "3  2009-01-02-00:00:00   2.085308997846847        Extensive  2009   \n",
       "4  02-01-2009-00:00:00   4.397712193695299          Partial  2009   \n",
       "\n",
       "              Address    num_rooms       Property amenities_rating  \\\n",
       "0    40 ETTL LN UT 24    Two rooms          Condo         Mediocre   \n",
       "1         18 BAUER RD  Three rooms  Single Family           Superb   \n",
       "2  48 HIGH VALLEY RD.  Three rooms  Single Family     Satisfactory   \n",
       "3       56 MERIDEN RD  Three rooms  Single Family           Superb   \n",
       "4     13 CELENTANO DR  Three rooms  Single Family    Below Average   \n",
       "\n",
       "         carpet_area  nearby_restaurants public_transport_availability  \\\n",
       "0              760.0                19.0                     Scattered   \n",
       "1  7967.337677159014                17.0                     Extensive   \n",
       "2              982.0                 1.0                    Accessible   \n",
       "3              976.0                 5.0                  Insufficient   \n",
       "4              947.0                14.0                    Inadequate   \n",
       "\n",
       "  property_tax_rate  distance_to_school      Locality     Residential  \\\n",
       "0          1.025953            6.586707     Greenwich     Condominium   \n",
       "1          1.025953            8.224127  East Hampton  Detached House   \n",
       "2          1.025953            8.019369    Ridgefield  Detached House   \n",
       "3          1.025953            6.175522      Old Lyme  Detached House   \n",
       "4               NaN            1.677037     Naugatuck  Detached House   \n",
       "\n",
       "   Estimated Value  Sale Price  \\\n",
       "0         711270.0    975000.0   \n",
       "1         119970.0    189900.0   \n",
       "2         494530.0    825000.0   \n",
       "3         197600.0    450000.0   \n",
       "4         105440.0    200000.0   \n",
       "\n",
       "                                      specifications  \n",
       "0  In 2009, this condo located in Greenwich at 40...  \n",
       "1  In 2009, this single family located in East Ha...  \n",
       "2  In 2009, this single family located in Ridgefi...  \n",
       "3  In 2009, this single family located in Old Lym...  \n",
       "4  In 2009, this single family located in Naugatu...  "
      ]
     },
     "execution_count": 157,
     "metadata": {},
     "output_type": "execute_result"
    }
   ],
   "source": [
    "df = pd.DataFrame()\n",
    "\n",
    "for i in range(1, 13):\n",
    "    tmp_df = pd.read_csv(f'./Dataset/pucon24_ai_train_{i}.csv')\n",
    "    df = pd.concat([df, tmp_df], axis=0)\n",
    "\n",
    "df.head()"
   ]
  },
  {
   "cell_type": "code",
   "execution_count": 158,
   "id": "7b9dc96c-e483-4107-af6f-29a620472555",
   "metadata": {},
   "outputs": [
    {
     "data": {
      "text/html": [
       "<div>\n",
       "<style scoped>\n",
       "    .dataframe tbody tr th:only-of-type {\n",
       "        vertical-align: middle;\n",
       "    }\n",
       "\n",
       "    .dataframe tbody tr th {\n",
       "        vertical-align: top;\n",
       "    }\n",
       "\n",
       "    .dataframe thead th {\n",
       "        text-align: right;\n",
       "    }\n",
       "</style>\n",
       "<table border=\"1\" class=\"dataframe\">\n",
       "  <thead>\n",
       "    <tr style=\"text-align: right;\">\n",
       "      <th></th>\n",
       "      <th>Year</th>\n",
       "      <th>amenities_rating</th>\n",
       "      <th>public_transport_availability</th>\n",
       "      <th>Property</th>\n",
       "      <th>Locality</th>\n",
       "      <th>num_rooms</th>\n",
       "      <th>nearby_restaurants</th>\n",
       "      <th>Address</th>\n",
       "      <th>Date</th>\n",
       "      <th>Residential</th>\n",
       "      <th>renovation_level</th>\n",
       "      <th>property_tax_rate</th>\n",
       "      <th>crime_rate</th>\n",
       "      <th>distance_to_school</th>\n",
       "      <th>carpet_area</th>\n",
       "      <th>Segment</th>\n",
       "      <th>Estimated Value</th>\n",
       "      <th>Sale Price</th>\n",
       "      <th>specifications</th>\n",
       "    </tr>\n",
       "  </thead>\n",
       "  <tbody>\n",
       "    <tr>\n",
       "      <th>0</th>\n",
       "      <td>2023</td>\n",
       "      <td>Satisfactory</td>\n",
       "      <td>Abundant</td>\n",
       "      <td>Residential</td>\n",
       "      <td>Old Lyme</td>\n",
       "      <td>Three rooms</td>\n",
       "      <td>20.0</td>\n",
       "      <td>12 SWAN AVE</td>\n",
       "      <td>2023-01-01-00:00:00</td>\n",
       "      <td>Detached House</td>\n",
       "      <td>Essential</td>\n",
       "      <td>1.46</td>\n",
       "      <td>3.3825675226607</td>\n",
       "      <td>2.215594</td>\n",
       "      <td>947.0</td>\n",
       "      <td>0</td>\n",
       "      <td>151400.0</td>\n",
       "      <td>0</td>\n",
       "      <td>In 2023, this residential located in Old Lyme ...</td>\n",
       "    </tr>\n",
       "    <tr>\n",
       "      <th>1</th>\n",
       "      <td>2023</td>\n",
       "      <td>Luxurious</td>\n",
       "      <td>Scattered</td>\n",
       "      <td>Residential</td>\n",
       "      <td>Ridgefield</td>\n",
       "      <td>Three rooms</td>\n",
       "      <td>11.0</td>\n",
       "      <td>59 LINCOLN LANE</td>\n",
       "      <td>2023-01-01-00:00:00</td>\n",
       "      <td>Detached House</td>\n",
       "      <td>Standard</td>\n",
       "      <td>1.46</td>\n",
       "      <td>9.36204013360774</td>\n",
       "      <td>5.898198</td>\n",
       "      <td>1051.0</td>\n",
       "      <td>0</td>\n",
       "      <td>686900.0</td>\n",
       "      <td>0</td>\n",
       "      <td>In 2023, this residential located in Ridgefiel...</td>\n",
       "    </tr>\n",
       "    <tr>\n",
       "      <th>2</th>\n",
       "      <td>2023</td>\n",
       "      <td>Superb</td>\n",
       "      <td>Insufficient</td>\n",
       "      <td>Residential</td>\n",
       "      <td>Cromwell</td>\n",
       "      <td>Three rooms</td>\n",
       "      <td>11.0</td>\n",
       "      <td>6 GROVE RD</td>\n",
       "      <td>2023-01-04-00:00:00</td>\n",
       "      <td>Detached House</td>\n",
       "      <td>Extensive</td>\n",
       "      <td>1.46</td>\n",
       "      <td>8.24743200094001</td>\n",
       "      <td>8.829687</td>\n",
       "      <td>925.0</td>\n",
       "      <td>0</td>\n",
       "      <td>152030.0</td>\n",
       "      <td>0</td>\n",
       "      <td>In 2023, this residential located in Cromwell ...</td>\n",
       "    </tr>\n",
       "    <tr>\n",
       "      <th>3</th>\n",
       "      <td>2023</td>\n",
       "      <td>Unimpressive</td>\n",
       "      <td>Limited</td>\n",
       "      <td>Residential</td>\n",
       "      <td>New Haven</td>\n",
       "      <td>Four rooms</td>\n",
       "      <td>8.0</td>\n",
       "      <td>346 CONCORD ST</td>\n",
       "      <td>2023-01-04-00:00:00</td>\n",
       "      <td>Duplex</td>\n",
       "      <td>Complete</td>\n",
       "      <td>1.46</td>\n",
       "      <td>1.5114243305380757</td>\n",
       "      <td>5.842769</td>\n",
       "      <td>1210.0</td>\n",
       "      <td>0</td>\n",
       "      <td>156130.0</td>\n",
       "      <td>0</td>\n",
       "      <td>In 2023, this residential located in New Haven...</td>\n",
       "    </tr>\n",
       "    <tr>\n",
       "      <th>4</th>\n",
       "      <td>2023</td>\n",
       "      <td>Satisfactory</td>\n",
       "      <td>Limited</td>\n",
       "      <td>Residential</td>\n",
       "      <td>Beacon Falls</td>\n",
       "      <td>Three rooms</td>\n",
       "      <td>5.0</td>\n",
       "      <td>14 LASKY ROAD</td>\n",
       "      <td>2023-01-04-00:00:00</td>\n",
       "      <td>Detached House</td>\n",
       "      <td>Minor</td>\n",
       "      <td>1.46</td>\n",
       "      <td>3.4527936889483795</td>\n",
       "      <td>2.598910</td>\n",
       "      <td>1089.0</td>\n",
       "      <td>0</td>\n",
       "      <td>108970.0</td>\n",
       "      <td>0</td>\n",
       "      <td>In 2023, this residential located in Beacon Fa...</td>\n",
       "    </tr>\n",
       "  </tbody>\n",
       "</table>\n",
       "</div>"
      ],
      "text/plain": [
       "   Year amenities_rating public_transport_availability     Property  \\\n",
       "0  2023     Satisfactory                      Abundant  Residential   \n",
       "1  2023        Luxurious                     Scattered  Residential   \n",
       "2  2023           Superb                  Insufficient  Residential   \n",
       "3  2023     Unimpressive                       Limited  Residential   \n",
       "4  2023     Satisfactory                       Limited  Residential   \n",
       "\n",
       "       Locality    num_rooms  nearby_restaurants          Address  \\\n",
       "0      Old Lyme  Three rooms                20.0      12 SWAN AVE   \n",
       "1    Ridgefield  Three rooms                11.0  59 LINCOLN LANE   \n",
       "2      Cromwell  Three rooms                11.0       6 GROVE RD   \n",
       "3     New Haven   Four rooms                 8.0   346 CONCORD ST   \n",
       "4  Beacon Falls  Three rooms                 5.0    14 LASKY ROAD   \n",
       "\n",
       "                  Date     Residential renovation_level property_tax_rate  \\\n",
       "0  2023-01-01-00:00:00  Detached House        Essential              1.46   \n",
       "1  2023-01-01-00:00:00  Detached House         Standard              1.46   \n",
       "2  2023-01-04-00:00:00  Detached House        Extensive              1.46   \n",
       "3  2023-01-04-00:00:00          Duplex         Complete              1.46   \n",
       "4  2023-01-04-00:00:00  Detached House            Minor              1.46   \n",
       "\n",
       "           crime_rate  distance_to_school carpet_area  Segment  \\\n",
       "0     3.3825675226607            2.215594       947.0        0   \n",
       "1    9.36204013360774            5.898198      1051.0        0   \n",
       "2    8.24743200094001            8.829687       925.0        0   \n",
       "3  1.5114243305380757            5.842769      1210.0        0   \n",
       "4  3.4527936889483795            2.598910      1089.0        0   \n",
       "\n",
       "   Estimated Value  Sale Price  \\\n",
       "0         151400.0           0   \n",
       "1         686900.0           0   \n",
       "2         152030.0           0   \n",
       "3         156130.0           0   \n",
       "4         108970.0           0   \n",
       "\n",
       "                                      specifications  \n",
       "0  In 2023, this residential located in Old Lyme ...  \n",
       "1  In 2023, this residential located in Ridgefiel...  \n",
       "2  In 2023, this residential located in Cromwell ...  \n",
       "3  In 2023, this residential located in New Haven...  \n",
       "4  In 2023, this residential located in Beacon Fa...  "
      ]
     },
     "execution_count": 158,
     "metadata": {},
     "output_type": "execute_result"
    }
   ],
   "source": [
    "df_test = pd.read_csv(f'./Dataset/pucon24-ai-test.csv')\n",
    "df_test.head()"
   ]
  },
  {
   "cell_type": "code",
   "execution_count": null,
   "id": "f4bedecf-58d2-455d-8604-ce3f2eeebeb3",
   "metadata": {},
   "outputs": [],
   "source": []
  },
  {
   "cell_type": "code",
   "execution_count": 153,
   "id": "91cffb3e-7506-4b94-bddb-e5cbd3258bea",
   "metadata": {},
   "outputs": [
    {
     "name": "stdout",
     "output_type": "stream",
     "text": [
      "<class 'pandas.core.frame.DataFrame'>\n",
      "Int64Index: 553952 entries, 0 to 3951\n",
      "Data columns (total 18 columns):\n",
      " #   Column                         Non-Null Count   Dtype  \n",
      "---  ------                         --------------   -----  \n",
      " 0   Date                           553952 non-null  object \n",
      " 1   crime_rate                     539101 non-null  object \n",
      " 2   renovation_level               553952 non-null  object \n",
      " 3   Year                           553952 non-null  int64  \n",
      " 4   Address                        553952 non-null  object \n",
      " 5   num_rooms                      553952 non-null  object \n",
      " 6   Property                       553952 non-null  object \n",
      " 7   amenities_rating               553952 non-null  object \n",
      " 8   carpet_area                    550388 non-null  object \n",
      " 9   nearby_restaurants             553952 non-null  float64\n",
      " 10  public_transport_availability  553952 non-null  object \n",
      " 11  property_tax_rate              546626 non-null  object \n",
      " 12  distance_to_school             553952 non-null  float64\n",
      " 13  Locality                       553952 non-null  object \n",
      " 14  Residential                    553952 non-null  object \n",
      " 15  Estimated Value                553952 non-null  float64\n",
      " 16  Sale Price                     553952 non-null  float64\n",
      " 17  specifications                 553952 non-null  object \n",
      "dtypes: float64(4), int64(1), object(13)\n",
      "memory usage: 80.3+ MB\n"
     ]
    }
   ],
   "source": [
    "df.info()\n"
   ]
  },
  {
   "cell_type": "code",
   "execution_count": 154,
   "id": "9ecbf763-5329-4401-b2ef-fb9eaba58053",
   "metadata": {},
   "outputs": [
    {
     "name": "stdout",
     "output_type": "stream",
     "text": [
      "<class 'pandas.core.frame.DataFrame'>\n",
      "RangeIndex: 43954 entries, 0 to 43953\n",
      "Data columns (total 19 columns):\n",
      " #   Column                         Non-Null Count  Dtype  \n",
      "---  ------                         --------------  -----  \n",
      " 0   Year                           43954 non-null  int64  \n",
      " 1   amenities_rating               43954 non-null  object \n",
      " 2   public_transport_availability  43954 non-null  object \n",
      " 3   Property                       43954 non-null  object \n",
      " 4   Locality                       43954 non-null  object \n",
      " 5   num_rooms                      43954 non-null  object \n",
      " 6   nearby_restaurants             43954 non-null  float64\n",
      " 7   Address                        43954 non-null  object \n",
      " 8   Date                           43954 non-null  object \n",
      " 9   Residential                    43954 non-null  object \n",
      " 10  renovation_level               43954 non-null  object \n",
      " 11  property_tax_rate              43368 non-null  object \n",
      " 12  crime_rate                     42797 non-null  object \n",
      " 13  distance_to_school             43954 non-null  float64\n",
      " 14  carpet_area                    43659 non-null  object \n",
      " 15  Segment                        43954 non-null  int64  \n",
      " 16  Estimated Value                43954 non-null  float64\n",
      " 17  Sale Price                     43954 non-null  int64  \n",
      " 18  specifications                 43954 non-null  object \n",
      "dtypes: float64(3), int64(3), object(13)\n",
      "memory usage: 6.4+ MB\n"
     ]
    }
   ],
   "source": [
    "df_test.info()"
   ]
  },
  {
   "cell_type": "code",
   "execution_count": 55,
   "id": "7d6b7e73-7fa8-44e4-9e2d-3176f898b75e",
   "metadata": {},
   "outputs": [
    {
     "data": {
      "text/plain": [
       "((553952, 18), (43954, 19))"
      ]
     },
     "execution_count": 55,
     "metadata": {},
     "output_type": "execute_result"
    }
   ],
   "source": [
    "df.shape,df_test.shape"
   ]
  },
  {
   "cell_type": "code",
   "execution_count": 56,
   "id": "4412d70b-1123-4353-80b7-f2b3230796bc",
   "metadata": {},
   "outputs": [
    {
     "data": {
      "text/plain": [
       "Date                                 0\n",
       "crime_rate                       14851\n",
       "renovation_level                     0\n",
       "Year                                 0\n",
       "Address                              0\n",
       "num_rooms                            0\n",
       "Property                             0\n",
       "amenities_rating                     0\n",
       "carpet_area                       3564\n",
       "nearby_restaurants                   0\n",
       "public_transport_availability        0\n",
       "property_tax_rate                 7326\n",
       "distance_to_school                   0\n",
       "Locality                             0\n",
       "Residential                          0\n",
       "Estimated Value                      0\n",
       "Sale Price                           0\n",
       "specifications                       0\n",
       "dtype: int64"
      ]
     },
     "execution_count": 56,
     "metadata": {},
     "output_type": "execute_result"
    }
   ],
   "source": [
    "df.isnull().sum()"
   ]
  },
  {
   "cell_type": "code",
   "execution_count": 57,
   "id": "3b25fdeb-fea7-4486-b2dc-d1a18695f610",
   "metadata": {},
   "outputs": [
    {
     "data": {
      "text/plain": [
       "Year                                0\n",
       "amenities_rating                    0\n",
       "public_transport_availability       0\n",
       "Property                            0\n",
       "Locality                            0\n",
       "num_rooms                           0\n",
       "nearby_restaurants                  0\n",
       "Address                             0\n",
       "Date                                0\n",
       "Residential                         0\n",
       "renovation_level                    0\n",
       "property_tax_rate                 586\n",
       "crime_rate                       1157\n",
       "distance_to_school                  0\n",
       "carpet_area                       295\n",
       "Segment                             0\n",
       "Estimated Value                     0\n",
       "Sale Price                          0\n",
       "specifications                      0\n",
       "dtype: int64"
      ]
     },
     "execution_count": 57,
     "metadata": {},
     "output_type": "execute_result"
    }
   ],
   "source": [
    "df_test.isnull().sum()\n"
   ]
  },
  {
   "cell_type": "markdown",
   "id": "a7a93dde-3427-408d-8838-dd1a43760115",
   "metadata": {},
   "source": [
    "# Data Cleaning"
   ]
  },
  {
   "cell_type": "markdown",
   "id": "754902f4-7cdd-4909-9a96-c011edc072fd",
   "metadata": {},
   "source": [
    "### Problems in Features\r\n",
    "\r\n",
    "1. **crime_rate**\r\n",
    "   - **Issue:** 14,851 null values.\r\n",
    "   - **Resolution:** Handle null values appropriately.\r\n",
    "   - **Additional Info:** Contains the value 'Not Provided' in string format, making it challenging to convert to an integer.\r\n",
    "\r\n",
    "2. **carpet_area**\r\n",
    "   - **Issue:** 3,564 null values.\r\n",
    "   - **Resolution:** Address null values using an appropriate strategy.\r\n",
    "   - **Additional Info:** Contains the value 'Not Provided' in string format, causing difficulties in conversion to an integer.\r\n",
    "\r\n",
    "3. **property_tax_rate**\r\n",
    "   - **Issue:** 7,326 null values.\r\n",
    "   - **Resolution:** Develop a strategy to manage null values effectively.\r\n",
    "   - **Additional Info:** Includes the value 'Not Provided' in string format, posing challenges for conversion to an integer.\r\n",
    "\r\n",
    "These issues should be addressed during the data preprocessing phase to ensure the dataset's integrity and suitability for machine learning modeling.\r\n"
   ]
  },
  {
   "cell_type": "code",
   "execution_count": 159,
   "id": "222c22bf-8c76-42ea-99a9-49b922b5f447",
   "metadata": {},
   "outputs": [],
   "source": [
    "df_test = df_test[df.columns]"
   ]
  },
  {
   "cell_type": "code",
   "execution_count": 160,
   "id": "255f0106-e7b1-40c0-88d7-c74972a8ebb1",
   "metadata": {},
   "outputs": [],
   "source": [
    "import matplotlib.pyplot as plt\n",
    "import matplotlib as mpl\n",
    "\n",
    "# Set font size for the entire notebook\n",
    "mpl.rcParams['font.size'] = 14\n",
    "\n",
    "# Set font size for specific elements (e.g., x-axis and y-axis labels)\n",
    "mpl.rcParams['axes.labelsize'] = 16\n",
    "\n",
    "# Set font size for tick labels\n",
    "mpl.rcParams['xtick.labelsize'] = 14\n",
    "mpl.rcParams['ytick.labelsize'] = 14\n",
    "\n",
    "# Set font size for legend\n",
    "mpl.rcParams['legend.fontsize'] = 14\n",
    "\n",
    "# Set font size for title\n",
    "mpl.rcParams['axes.titlesize'] = 18\n"
   ]
  },
  {
   "cell_type": "code",
   "execution_count": 161,
   "id": "f6a44a48-e2fb-41a4-be64-519dc6476af0",
   "metadata": {},
   "outputs": [],
   "source": [
    "sns.set_context('paper', font_scale = 1.5)\n",
    "#sns.set_style('darkgrid')\n",
    "plt.rcParams['figure.figsize'] = (10, 6)"
   ]
  },
  {
   "cell_type": "markdown",
   "id": "b0b60ee7-8cc3-4360-a9e6-dc9f754e0376",
   "metadata": {},
   "source": [
    "### Handling with Dates"
   ]
  },
  {
   "cell_type": "code",
   "execution_count": 162,
   "id": "e88126c2-d3fc-4b2c-b43f-d432f14187ee",
   "metadata": {},
   "outputs": [
    {
     "data": {
      "text/html": [
       "<div>\n",
       "<style scoped>\n",
       "    .dataframe tbody tr th:only-of-type {\n",
       "        vertical-align: middle;\n",
       "    }\n",
       "\n",
       "    .dataframe tbody tr th {\n",
       "        vertical-align: top;\n",
       "    }\n",
       "\n",
       "    .dataframe thead th {\n",
       "        text-align: right;\n",
       "    }\n",
       "</style>\n",
       "<table border=\"1\" class=\"dataframe\">\n",
       "  <thead>\n",
       "    <tr style=\"text-align: right;\">\n",
       "      <th></th>\n",
       "      <th>crime_rate</th>\n",
       "      <th>renovation_level</th>\n",
       "      <th>Year</th>\n",
       "      <th>Address</th>\n",
       "      <th>num_rooms</th>\n",
       "      <th>Property</th>\n",
       "      <th>amenities_rating</th>\n",
       "      <th>carpet_area</th>\n",
       "      <th>nearby_restaurants</th>\n",
       "      <th>public_transport_availability</th>\n",
       "      <th>property_tax_rate</th>\n",
       "      <th>distance_to_school</th>\n",
       "      <th>Locality</th>\n",
       "      <th>Residential</th>\n",
       "      <th>Estimated Value</th>\n",
       "      <th>Sale Price</th>\n",
       "      <th>specifications</th>\n",
       "      <th>month</th>\n",
       "      <th>day</th>\n",
       "    </tr>\n",
       "  </thead>\n",
       "  <tbody>\n",
       "    <tr>\n",
       "      <th>0</th>\n",
       "      <td>2.6568262407789027</td>\n",
       "      <td>Minor</td>\n",
       "      <td>2009</td>\n",
       "      <td>40 ETTL LN UT 24</td>\n",
       "      <td>Two rooms</td>\n",
       "      <td>Condo</td>\n",
       "      <td>Mediocre</td>\n",
       "      <td>760.0</td>\n",
       "      <td>19.0</td>\n",
       "      <td>Scattered</td>\n",
       "      <td>1.025953</td>\n",
       "      <td>6.586707</td>\n",
       "      <td>Greenwich</td>\n",
       "      <td>Condominium</td>\n",
       "      <td>711270.0</td>\n",
       "      <td>975000.0</td>\n",
       "      <td>In 2009, this condo located in Greenwich at 40...</td>\n",
       "      <td>1</td>\n",
       "      <td>2</td>\n",
       "    </tr>\n",
       "    <tr>\n",
       "      <th>1</th>\n",
       "      <td>5.328727031244374</td>\n",
       "      <td>Basic</td>\n",
       "      <td>2009</td>\n",
       "      <td>18 BAUER RD</td>\n",
       "      <td>Three rooms</td>\n",
       "      <td>Single Family</td>\n",
       "      <td>Superb</td>\n",
       "      <td>7967.337677159014</td>\n",
       "      <td>17.0</td>\n",
       "      <td>Extensive</td>\n",
       "      <td>1.025953</td>\n",
       "      <td>8.224127</td>\n",
       "      <td>East Hampton</td>\n",
       "      <td>Detached House</td>\n",
       "      <td>119970.0</td>\n",
       "      <td>189900.0</td>\n",
       "      <td>In 2009, this single family located in East Ha...</td>\n",
       "      <td>1</td>\n",
       "      <td>2</td>\n",
       "    </tr>\n",
       "    <tr>\n",
       "      <th>2</th>\n",
       "      <td>4.037758682930219</td>\n",
       "      <td>Basic</td>\n",
       "      <td>2009</td>\n",
       "      <td>48 HIGH VALLEY RD.</td>\n",
       "      <td>Three rooms</td>\n",
       "      <td>Single Family</td>\n",
       "      <td>Satisfactory</td>\n",
       "      <td>982.0</td>\n",
       "      <td>1.0</td>\n",
       "      <td>Accessible</td>\n",
       "      <td>1.025953</td>\n",
       "      <td>8.019369</td>\n",
       "      <td>Ridgefield</td>\n",
       "      <td>Detached House</td>\n",
       "      <td>494530.0</td>\n",
       "      <td>825000.0</td>\n",
       "      <td>In 2009, this single family located in Ridgefi...</td>\n",
       "      <td>1</td>\n",
       "      <td>2</td>\n",
       "    </tr>\n",
       "    <tr>\n",
       "      <th>3</th>\n",
       "      <td>2.085308997846847</td>\n",
       "      <td>Extensive</td>\n",
       "      <td>2009</td>\n",
       "      <td>56 MERIDEN RD</td>\n",
       "      <td>Three rooms</td>\n",
       "      <td>Single Family</td>\n",
       "      <td>Superb</td>\n",
       "      <td>976.0</td>\n",
       "      <td>5.0</td>\n",
       "      <td>Insufficient</td>\n",
       "      <td>1.025953</td>\n",
       "      <td>6.175522</td>\n",
       "      <td>Old Lyme</td>\n",
       "      <td>Detached House</td>\n",
       "      <td>197600.0</td>\n",
       "      <td>450000.0</td>\n",
       "      <td>In 2009, this single family located in Old Lym...</td>\n",
       "      <td>1</td>\n",
       "      <td>2</td>\n",
       "    </tr>\n",
       "    <tr>\n",
       "      <th>4</th>\n",
       "      <td>4.397712193695299</td>\n",
       "      <td>Partial</td>\n",
       "      <td>2009</td>\n",
       "      <td>13 CELENTANO DR</td>\n",
       "      <td>Three rooms</td>\n",
       "      <td>Single Family</td>\n",
       "      <td>Below Average</td>\n",
       "      <td>947.0</td>\n",
       "      <td>14.0</td>\n",
       "      <td>Inadequate</td>\n",
       "      <td>NaN</td>\n",
       "      <td>1.677037</td>\n",
       "      <td>Naugatuck</td>\n",
       "      <td>Detached House</td>\n",
       "      <td>105440.0</td>\n",
       "      <td>200000.0</td>\n",
       "      <td>In 2009, this single family located in Naugatu...</td>\n",
       "      <td>2</td>\n",
       "      <td>1</td>\n",
       "    </tr>\n",
       "  </tbody>\n",
       "</table>\n",
       "</div>"
      ],
      "text/plain": [
       "           crime_rate renovation_level  Year             Address    num_rooms  \\\n",
       "0  2.6568262407789027            Minor  2009    40 ETTL LN UT 24    Two rooms   \n",
       "1   5.328727031244374            Basic  2009         18 BAUER RD  Three rooms   \n",
       "2   4.037758682930219            Basic  2009  48 HIGH VALLEY RD.  Three rooms   \n",
       "3   2.085308997846847        Extensive  2009       56 MERIDEN RD  Three rooms   \n",
       "4   4.397712193695299          Partial  2009     13 CELENTANO DR  Three rooms   \n",
       "\n",
       "        Property amenities_rating        carpet_area  nearby_restaurants  \\\n",
       "0          Condo         Mediocre              760.0                19.0   \n",
       "1  Single Family           Superb  7967.337677159014                17.0   \n",
       "2  Single Family     Satisfactory              982.0                 1.0   \n",
       "3  Single Family           Superb              976.0                 5.0   \n",
       "4  Single Family    Below Average              947.0                14.0   \n",
       "\n",
       "  public_transport_availability property_tax_rate  distance_to_school  \\\n",
       "0                     Scattered          1.025953            6.586707   \n",
       "1                     Extensive          1.025953            8.224127   \n",
       "2                    Accessible          1.025953            8.019369   \n",
       "3                  Insufficient          1.025953            6.175522   \n",
       "4                    Inadequate               NaN            1.677037   \n",
       "\n",
       "       Locality     Residential  Estimated Value  Sale Price  \\\n",
       "0     Greenwich     Condominium         711270.0    975000.0   \n",
       "1  East Hampton  Detached House         119970.0    189900.0   \n",
       "2    Ridgefield  Detached House         494530.0    825000.0   \n",
       "3      Old Lyme  Detached House         197600.0    450000.0   \n",
       "4     Naugatuck  Detached House         105440.0    200000.0   \n",
       "\n",
       "                                      specifications  month  day  \n",
       "0  In 2009, this condo located in Greenwich at 40...      1    2  \n",
       "1  In 2009, this single family located in East Ha...      1    2  \n",
       "2  In 2009, this single family located in Ridgefi...      1    2  \n",
       "3  In 2009, this single family located in Old Lym...      1    2  \n",
       "4  In 2009, this single family located in Naugatu...      2    1  "
      ]
     },
     "execution_count": 162,
     "metadata": {},
     "output_type": "execute_result"
    }
   ],
   "source": [
    "df['Date'] = pd.to_datetime(df['Date'])\n",
    "df['month'] = df['Date'].dt.month\n",
    "df['day'] = df['Date'].dt.day\n",
    "df.drop(columns=['Date'],inplace=True)\n",
    "df.head()"
   ]
  },
  {
   "cell_type": "code",
   "execution_count": 163,
   "id": "887258c6-8f94-4a72-ab7c-2ac312033338",
   "metadata": {},
   "outputs": [
    {
     "data": {
      "text/html": [
       "<div>\n",
       "<style scoped>\n",
       "    .dataframe tbody tr th:only-of-type {\n",
       "        vertical-align: middle;\n",
       "    }\n",
       "\n",
       "    .dataframe tbody tr th {\n",
       "        vertical-align: top;\n",
       "    }\n",
       "\n",
       "    .dataframe thead th {\n",
       "        text-align: right;\n",
       "    }\n",
       "</style>\n",
       "<table border=\"1\" class=\"dataframe\">\n",
       "  <thead>\n",
       "    <tr style=\"text-align: right;\">\n",
       "      <th></th>\n",
       "      <th>crime_rate</th>\n",
       "      <th>renovation_level</th>\n",
       "      <th>Year</th>\n",
       "      <th>Address</th>\n",
       "      <th>num_rooms</th>\n",
       "      <th>Property</th>\n",
       "      <th>amenities_rating</th>\n",
       "      <th>carpet_area</th>\n",
       "      <th>nearby_restaurants</th>\n",
       "      <th>public_transport_availability</th>\n",
       "      <th>property_tax_rate</th>\n",
       "      <th>distance_to_school</th>\n",
       "      <th>Locality</th>\n",
       "      <th>Residential</th>\n",
       "      <th>Estimated Value</th>\n",
       "      <th>Sale Price</th>\n",
       "      <th>specifications</th>\n",
       "      <th>month</th>\n",
       "      <th>day</th>\n",
       "    </tr>\n",
       "  </thead>\n",
       "  <tbody>\n",
       "    <tr>\n",
       "      <th>0</th>\n",
       "      <td>3.3825675226607</td>\n",
       "      <td>Essential</td>\n",
       "      <td>2023</td>\n",
       "      <td>12 SWAN AVE</td>\n",
       "      <td>Three rooms</td>\n",
       "      <td>Residential</td>\n",
       "      <td>Satisfactory</td>\n",
       "      <td>947.0</td>\n",
       "      <td>20.0</td>\n",
       "      <td>Abundant</td>\n",
       "      <td>1.46</td>\n",
       "      <td>2.215594</td>\n",
       "      <td>Old Lyme</td>\n",
       "      <td>Detached House</td>\n",
       "      <td>151400.0</td>\n",
       "      <td>0</td>\n",
       "      <td>In 2023, this residential located in Old Lyme ...</td>\n",
       "      <td>1</td>\n",
       "      <td>1</td>\n",
       "    </tr>\n",
       "    <tr>\n",
       "      <th>1</th>\n",
       "      <td>9.36204013360774</td>\n",
       "      <td>Standard</td>\n",
       "      <td>2023</td>\n",
       "      <td>59 LINCOLN LANE</td>\n",
       "      <td>Three rooms</td>\n",
       "      <td>Residential</td>\n",
       "      <td>Luxurious</td>\n",
       "      <td>1051.0</td>\n",
       "      <td>11.0</td>\n",
       "      <td>Scattered</td>\n",
       "      <td>1.46</td>\n",
       "      <td>5.898198</td>\n",
       "      <td>Ridgefield</td>\n",
       "      <td>Detached House</td>\n",
       "      <td>686900.0</td>\n",
       "      <td>0</td>\n",
       "      <td>In 2023, this residential located in Ridgefiel...</td>\n",
       "      <td>1</td>\n",
       "      <td>1</td>\n",
       "    </tr>\n",
       "    <tr>\n",
       "      <th>2</th>\n",
       "      <td>8.24743200094001</td>\n",
       "      <td>Extensive</td>\n",
       "      <td>2023</td>\n",
       "      <td>6 GROVE RD</td>\n",
       "      <td>Three rooms</td>\n",
       "      <td>Residential</td>\n",
       "      <td>Superb</td>\n",
       "      <td>925.0</td>\n",
       "      <td>11.0</td>\n",
       "      <td>Insufficient</td>\n",
       "      <td>1.46</td>\n",
       "      <td>8.829687</td>\n",
       "      <td>Cromwell</td>\n",
       "      <td>Detached House</td>\n",
       "      <td>152030.0</td>\n",
       "      <td>0</td>\n",
       "      <td>In 2023, this residential located in Cromwell ...</td>\n",
       "      <td>1</td>\n",
       "      <td>4</td>\n",
       "    </tr>\n",
       "    <tr>\n",
       "      <th>3</th>\n",
       "      <td>1.5114243305380757</td>\n",
       "      <td>Complete</td>\n",
       "      <td>2023</td>\n",
       "      <td>346 CONCORD ST</td>\n",
       "      <td>Four rooms</td>\n",
       "      <td>Residential</td>\n",
       "      <td>Unimpressive</td>\n",
       "      <td>1210.0</td>\n",
       "      <td>8.0</td>\n",
       "      <td>Limited</td>\n",
       "      <td>1.46</td>\n",
       "      <td>5.842769</td>\n",
       "      <td>New Haven</td>\n",
       "      <td>Duplex</td>\n",
       "      <td>156130.0</td>\n",
       "      <td>0</td>\n",
       "      <td>In 2023, this residential located in New Haven...</td>\n",
       "      <td>1</td>\n",
       "      <td>4</td>\n",
       "    </tr>\n",
       "    <tr>\n",
       "      <th>4</th>\n",
       "      <td>3.4527936889483795</td>\n",
       "      <td>Minor</td>\n",
       "      <td>2023</td>\n",
       "      <td>14 LASKY ROAD</td>\n",
       "      <td>Three rooms</td>\n",
       "      <td>Residential</td>\n",
       "      <td>Satisfactory</td>\n",
       "      <td>1089.0</td>\n",
       "      <td>5.0</td>\n",
       "      <td>Limited</td>\n",
       "      <td>1.46</td>\n",
       "      <td>2.598910</td>\n",
       "      <td>Beacon Falls</td>\n",
       "      <td>Detached House</td>\n",
       "      <td>108970.0</td>\n",
       "      <td>0</td>\n",
       "      <td>In 2023, this residential located in Beacon Fa...</td>\n",
       "      <td>1</td>\n",
       "      <td>4</td>\n",
       "    </tr>\n",
       "  </tbody>\n",
       "</table>\n",
       "</div>"
      ],
      "text/plain": [
       "           crime_rate renovation_level  Year          Address    num_rooms  \\\n",
       "0     3.3825675226607        Essential  2023      12 SWAN AVE  Three rooms   \n",
       "1    9.36204013360774         Standard  2023  59 LINCOLN LANE  Three rooms   \n",
       "2    8.24743200094001        Extensive  2023       6 GROVE RD  Three rooms   \n",
       "3  1.5114243305380757         Complete  2023   346 CONCORD ST   Four rooms   \n",
       "4  3.4527936889483795            Minor  2023    14 LASKY ROAD  Three rooms   \n",
       "\n",
       "      Property amenities_rating carpet_area  nearby_restaurants  \\\n",
       "0  Residential     Satisfactory       947.0                20.0   \n",
       "1  Residential        Luxurious      1051.0                11.0   \n",
       "2  Residential           Superb       925.0                11.0   \n",
       "3  Residential     Unimpressive      1210.0                 8.0   \n",
       "4  Residential     Satisfactory      1089.0                 5.0   \n",
       "\n",
       "  public_transport_availability property_tax_rate  distance_to_school  \\\n",
       "0                      Abundant              1.46            2.215594   \n",
       "1                     Scattered              1.46            5.898198   \n",
       "2                  Insufficient              1.46            8.829687   \n",
       "3                       Limited              1.46            5.842769   \n",
       "4                       Limited              1.46            2.598910   \n",
       "\n",
       "       Locality     Residential  Estimated Value  Sale Price  \\\n",
       "0      Old Lyme  Detached House         151400.0           0   \n",
       "1    Ridgefield  Detached House         686900.0           0   \n",
       "2      Cromwell  Detached House         152030.0           0   \n",
       "3     New Haven          Duplex         156130.0           0   \n",
       "4  Beacon Falls  Detached House         108970.0           0   \n",
       "\n",
       "                                      specifications  month  day  \n",
       "0  In 2023, this residential located in Old Lyme ...      1    1  \n",
       "1  In 2023, this residential located in Ridgefiel...      1    1  \n",
       "2  In 2023, this residential located in Cromwell ...      1    4  \n",
       "3  In 2023, this residential located in New Haven...      1    4  \n",
       "4  In 2023, this residential located in Beacon Fa...      1    4  "
      ]
     },
     "execution_count": 163,
     "metadata": {},
     "output_type": "execute_result"
    }
   ],
   "source": [
    "df_test['Date'] = pd.to_datetime(df_test['Date'])\n",
    "\n",
    "df_test['month'] = df_test['Date'].dt.month\n",
    "df_test['day'] = df_test['Date'].dt.day\n",
    "df_test.drop(columns=['Date'],inplace=True)\n",
    "df_test.head()\n",
    "\n"
   ]
  },
  {
   "cell_type": "markdown",
   "id": "c75569eb-6280-481d-b0cf-eec53c91a299",
   "metadata": {},
   "source": [
    "## crime_rate"
   ]
  },
  {
   "cell_type": "code",
   "execution_count": 63,
   "id": "c0ce5ed1-3cbc-43dd-bb5b-caaf4b79ff48",
   "metadata": {},
   "outputs": [],
   "source": [
    "def find_non_numeric_values(array):\n",
    "    non_integer_values = []\n",
    "    for val in array:\n",
    "        try:\n",
    "            float_val = float(val)\n",
    "        except ValueError:\n",
    "            non_integer_values.append(val)\n",
    "\n",
    "    return np.array(non_integer_values)\n",
    "\n"
   ]
  },
  {
   "cell_type": "code",
   "execution_count": 64,
   "id": "11fa572a-4954-49f1-ac4a-192231d5d99e",
   "metadata": {},
   "outputs": [
    {
     "data": {
      "text/plain": [
       "array(['Not Provided'], dtype='<U12')"
      ]
     },
     "execution_count": 64,
     "metadata": {},
     "output_type": "execute_result"
    }
   ],
   "source": [
    "non_numeric_values = find_non_numeric_values(df['crime_rate'].to_list())\n",
    "np.unique(non_numeric_values)"
   ]
  },
  {
   "cell_type": "code",
   "execution_count": 65,
   "id": "f93f5fc5-2e6a-4472-951b-2bb6efea4b22",
   "metadata": {},
   "outputs": [
    {
     "data": {
      "text/plain": [
       "array(['Not Provided'], dtype='<U12')"
      ]
     },
     "execution_count": 65,
     "metadata": {},
     "output_type": "execute_result"
    }
   ],
   "source": [
    "non_numeric_values = find_non_numeric_values(df_test['crime_rate'].to_list())\n",
    "np.unique(non_numeric_values)"
   ]
  },
  {
   "cell_type": "code",
   "execution_count": 164,
   "id": "74a1dc08-8c3e-4be5-bca5-43f08d66e196",
   "metadata": {},
   "outputs": [
    {
     "name": "stdout",
     "output_type": "stream",
     "text": [
      "<class 'pandas.core.frame.DataFrame'>\n",
      "Int64Index: 553952 entries, 0 to 3951\n",
      "Data columns (total 19 columns):\n",
      " #   Column                         Non-Null Count   Dtype  \n",
      "---  ------                         --------------   -----  \n",
      " 0   crime_rate                     531768 non-null  float64\n",
      " 1   renovation_level               553952 non-null  object \n",
      " 2   Year                           553952 non-null  int64  \n",
      " 3   Address                        553952 non-null  object \n",
      " 4   num_rooms                      553952 non-null  object \n",
      " 5   Property                       553952 non-null  object \n",
      " 6   amenities_rating               553952 non-null  object \n",
      " 7   carpet_area                    550388 non-null  object \n",
      " 8   nearby_restaurants             553952 non-null  float64\n",
      " 9   public_transport_availability  553952 non-null  object \n",
      " 10  property_tax_rate              546626 non-null  object \n",
      " 11  distance_to_school             553952 non-null  float64\n",
      " 12  Locality                       553952 non-null  object \n",
      " 13  Residential                    553952 non-null  object \n",
      " 14  Estimated Value                553952 non-null  float64\n",
      " 15  Sale Price                     553952 non-null  float64\n",
      " 16  specifications                 553952 non-null  object \n",
      " 17  month                          553952 non-null  int64  \n",
      " 18  day                            553952 non-null  int64  \n",
      "dtypes: float64(5), int64(3), object(11)\n",
      "memory usage: 84.5+ MB\n"
     ]
    }
   ],
   "source": [
    "df['crime_rate'] = np.where(df['crime_rate']=='Not Provided',np.nan,df['crime_rate'])\n",
    "df['crime_rate'] = df['crime_rate'].astype(float)\n",
    "df.info()"
   ]
  },
  {
   "cell_type": "code",
   "execution_count": 165,
   "id": "0959dca5-3e9e-4637-b093-d8cd6af62876",
   "metadata": {},
   "outputs": [
    {
     "name": "stdout",
     "output_type": "stream",
     "text": [
      "<class 'pandas.core.frame.DataFrame'>\n",
      "RangeIndex: 43954 entries, 0 to 43953\n",
      "Data columns (total 19 columns):\n",
      " #   Column                         Non-Null Count  Dtype  \n",
      "---  ------                         --------------  -----  \n",
      " 0   crime_rate                     42232 non-null  float64\n",
      " 1   renovation_level               43954 non-null  object \n",
      " 2   Year                           43954 non-null  int64  \n",
      " 3   Address                        43954 non-null  object \n",
      " 4   num_rooms                      43954 non-null  object \n",
      " 5   Property                       43954 non-null  object \n",
      " 6   amenities_rating               43954 non-null  object \n",
      " 7   carpet_area                    43659 non-null  object \n",
      " 8   nearby_restaurants             43954 non-null  float64\n",
      " 9   public_transport_availability  43954 non-null  object \n",
      " 10  property_tax_rate              43368 non-null  object \n",
      " 11  distance_to_school             43954 non-null  float64\n",
      " 12  Locality                       43954 non-null  object \n",
      " 13  Residential                    43954 non-null  object \n",
      " 14  Estimated Value                43954 non-null  float64\n",
      " 15  Sale Price                     43954 non-null  int64  \n",
      " 16  specifications                 43954 non-null  object \n",
      " 17  month                          43954 non-null  int64  \n",
      " 18  day                            43954 non-null  int64  \n",
      "dtypes: float64(4), int64(4), object(11)\n",
      "memory usage: 6.4+ MB\n"
     ]
    }
   ],
   "source": [
    "df_test['crime_rate'] = np.where(df_test['crime_rate'] == 'Not Provided', np.nan, df_test['crime_rate'])\n",
    "\n",
    "df_test['crime_rate'] = df_test['crime_rate'].astype(float)\n",
    "\n",
    "df_test.info()"
   ]
  },
  {
   "cell_type": "code",
   "execution_count": 166,
   "id": "818a68e2-d9e6-40df-96c5-137c016cb914",
   "metadata": {},
   "outputs": [
    {
     "data": {
      "text/plain": [
       "Minor        110349\n",
       "Extensive     82704\n",
       "Complete      55800\n",
       "Essential     55757\n",
       "Advanced      55593\n",
       "Basic         55563\n",
       "Standard      55348\n",
       "Limited       27677\n",
       "Premium       27611\n",
       "Partial       27550\n",
       "Name: renovation_level, dtype: int64"
      ]
     },
     "execution_count": 166,
     "metadata": {},
     "output_type": "execute_result"
    }
   ],
   "source": [
    "df['renovation_level'].value_counts()"
   ]
  },
  {
   "cell_type": "code",
   "execution_count": 167,
   "id": "b692269f-d8e3-4d54-82be-26746c3d73ef",
   "metadata": {},
   "outputs": [
    {
     "data": {
      "text/plain": [
       "Minor        8822\n",
       "Extensive    6535\n",
       "Standard     4459\n",
       "Advanced     4434\n",
       "Essential    4414\n",
       "Complete     4342\n",
       "Basic        4328\n",
       "Limited      2268\n",
       "Partial      2196\n",
       "Premium      2156\n",
       "Name: renovation_level, dtype: int64"
      ]
     },
     "execution_count": 167,
     "metadata": {},
     "output_type": "execute_result"
    }
   ],
   "source": [
    "df_test['renovation_level'].value_counts()"
   ]
  },
  {
   "cell_type": "code",
   "execution_count": null,
   "id": "d8ebff27-a4c7-43e8-8b1b-f4315b026a8c",
   "metadata": {},
   "outputs": [],
   "source": []
  },
  {
   "cell_type": "code",
   "execution_count": 70,
   "id": "836d17e7-30d7-480a-ac25-9e2af4207a0a",
   "metadata": {},
   "outputs": [
    {
     "data": {
      "image/png": "[encoded data removed]",
      "text/plain": [
       "<Figure size 720x432 with 1 Axes>"
      ]
     },
     "metadata": {
      "needs_background": "light"
     },
     "output_type": "display_data"
    }
   ],
   "source": [
    "import seaborn as sns\n",
    "import matplotlib.pyplot as plt\n",
    "\n",
    "combined_df = pd.concat([df['renovation_level'].value_counts().rename('df'), \n",
    "                         df_test['renovation_level'].value_counts().rename('df_test')],\n",
    "                        axis=1)\n",
    "\n",
    "melted_df = pd.melt(combined_df.reset_index(), id_vars='index', var_name='Dataset', value_name='Count')\n",
    "\n",
    "# Plot using Seaborn\n",
    "plt.figure(figsize=(10, 6))\n",
    "sns.barplot(x='index', y='Count', hue='Dataset', data=melted_df)\n",
    "plt.title('Value Counts - Renovation Level')\n",
    "plt.xlabel('Renovation Level')\n",
    "plt.ylabel('Count')\n",
    "plt.xticks(rotation=45)\n",
    "plt.show()\n"
   ]
  },
  {
   "cell_type": "code",
   "execution_count": 168,
   "id": "ef977faf-6a36-4a04-b0ce-50c6795446a8",
   "metadata": {},
   "outputs": [
    {
     "data": {
      "text/plain": [
       "33 NORTH WATER ST    54\n",
       "POCONO POINT RD      39\n",
       "71 AIKEN ST          32\n",
       "WEST KENOSIA AV      30\n",
       "50 AIKEN ST          19\n",
       "                     ..\n",
       "7 MARBLE LANE         1\n",
       "3 CRAIGMORE RD        1\n",
       "444 VALLEY ROAD       1\n",
       "26 SEA BREEZE AVE     1\n",
       "154 GAYMOOR DRIVE     1\n",
       "Name: Address, Length: 441774, dtype: int64"
      ]
     },
     "execution_count": 168,
     "metadata": {},
     "output_type": "execute_result"
    }
   ],
   "source": [
    "df['Address'].value_counts()"
   ]
  },
  {
   "cell_type": "code",
   "execution_count": 169,
   "id": "ba1911c5-d206-43d2-a062-224b284a95a8",
   "metadata": {},
   "outputs": [
    {
     "data": {
      "text/plain": [
       "2022    57762\n",
       "2021    48348\n",
       "2017    44940\n",
       "2019    44607\n",
       "2018    43681\n",
       "2020    43084\n",
       "2009    40955\n",
       "2016    38112\n",
       "2012    35715\n",
       "2015    34223\n",
       "2011    33457\n",
       "2010    30749\n",
       "2014    29427\n",
       "2013    28892\n",
       "Name: Year, dtype: int64"
      ]
     },
     "execution_count": 169,
     "metadata": {},
     "output_type": "execute_result"
    }
   ],
   "source": [
    "df['Year'].value_counts()\t"
   ]
  },
  {
   "cell_type": "code",
   "execution_count": 170,
   "id": "d17b5432-c40d-4c24-b716-46a30d0b2dfa",
   "metadata": {},
   "outputs": [
    {
     "data": {
      "text/plain": [
       "2023    43954\n",
       "Name: Year, dtype: int64"
      ]
     },
     "execution_count": 170,
     "metadata": {},
     "output_type": "execute_result"
    }
   ],
   "source": [
    "df_test['Year'].value_counts()\t"
   ]
  },
  {
   "cell_type": "code",
   "execution_count": 74,
   "id": "47e036c7-93eb-4f98-9911-88943760f132",
   "metadata": {},
   "outputs": [
    {
     "data": {
      "image/png": "[encoded data removed]",
      "text/plain": [
       "<Figure size 720x432 with 1 Axes>"
      ]
     },
     "metadata": {
      "needs_background": "light"
     },
     "output_type": "display_data"
    }
   ],
   "source": [
    "import seaborn as sns\n",
    "import matplotlib.pyplot as plt\n",
    "\n",
    "combined_df = pd.concat([df['Year'].value_counts().rename('df'), \n",
    "                         df_test['Year'].value_counts().rename('df_test')],\n",
    "                        axis=1)\n",
    "\n",
    "melted_df = pd.melt(combined_df.reset_index(), id_vars='index', var_name='Dataset', value_name='Count')\n",
    "\n",
    "# Plot using Seaborn\n",
    "plt.figure(figsize=(10, 6))\n",
    "sns.barplot(x='index', y='Count', hue='Dataset', data=melted_df)\n",
    "plt.title('Value Counts - Year')  \n",
    "plt.xlabel('Year')  \n",
    "plt.ylabel('Count')\n",
    "plt.xticks(rotation=45)\n",
    "plt.show()\n"
   ]
  },
  {
   "cell_type": "code",
   "execution_count": null,
   "id": "1d548259-e0e1-447c-9611-c85cbdcf4a25",
   "metadata": {},
   "outputs": [],
   "source": []
  },
  {
   "cell_type": "code",
   "execution_count": null,
   "id": "441e4dfd-5825-434a-b5cd-a532342ccda4",
   "metadata": {},
   "outputs": [],
   "source": []
  },
  {
   "cell_type": "code",
   "execution_count": 171,
   "id": "76fe99ce-56d6-441f-b6e5-d359bfb1b9fe",
   "metadata": {},
   "outputs": [
    {
     "data": {
      "text/plain": [
       "Three rooms    406463\n",
       "Two rooms      106103\n",
       "Four rooms      26587\n",
       "Six rooms       12625\n",
       "Eight rooms      2174\n",
       "Name: num_rooms, dtype: int64"
      ]
     },
     "execution_count": 171,
     "metadata": {},
     "output_type": "execute_result"
    }
   ],
   "source": [
    "df['num_rooms'].value_counts()\t"
   ]
  },
  {
   "cell_type": "code",
   "execution_count": 172,
   "id": "dac81da0-d049-4f6c-88b1-8f2c1fb1519b",
   "metadata": {},
   "outputs": [
    {
     "data": {
      "text/plain": [
       "Three rooms    30969\n",
       "Two rooms       9238\n",
       "Four rooms      2414\n",
       "Six rooms       1125\n",
       "Eight rooms      208\n",
       "Name: num_rooms, dtype: int64"
      ]
     },
     "execution_count": 172,
     "metadata": {},
     "output_type": "execute_result"
    }
   ],
   "source": [
    "df_test['num_rooms'].value_counts()\t"
   ]
  },
  {
   "cell_type": "code",
   "execution_count": 13,
   "id": "5cb1a078-cda3-4b3c-bd7d-9b81015501bb",
   "metadata": {},
   "outputs": [
    {
     "data": {
      "image/png": "[encoded data removed]",
      "text/plain": [
       "<Figure size 720x432 with 1 Axes>"
      ]
     },
     "metadata": {
      "needs_background": "light"
     },
     "output_type": "display_data"
    }
   ],
   "source": [
    "combined_df = pd.concat([df['num_rooms'].value_counts().rename('df'), \n",
    "                         df_test['num_rooms'].value_counts().rename('df_test')],\n",
    "                        axis=1)\n",
    "\n",
    "melted_df = pd.melt(combined_df.reset_index(), id_vars='index', var_name='Dataset', value_name='Count')\n",
    "\n",
    "plt.figure(figsize=(10, 6))\n",
    "sns.barplot(x='index', y='Count', hue='Dataset', data=melted_df)\n",
    "plt.title('Value Counts - Num Rooms')  \n",
    "plt.xlabel('Num Rooms') \n",
    "plt.ylabel('Count')\n",
    "plt.xticks(rotation=45)\n",
    "plt.show()\n"
   ]
  },
  {
   "cell_type": "code",
   "execution_count": 173,
   "id": "aed50de3-563b-440a-993e-db5247421523",
   "metadata": {},
   "outputs": [
    {
     "data": {
      "text/plain": [
       "array(['Three rooms', 'Four rooms', 'Two rooms', 'Six rooms',\n",
       "       'Eight rooms'], dtype=object)"
      ]
     },
     "execution_count": 173,
     "metadata": {},
     "output_type": "execute_result"
    }
   ],
   "source": [
    "df_test['num_rooms'].unique()"
   ]
  },
  {
   "cell_type": "code",
   "execution_count": 174,
   "id": "dc89ccca-3864-4338-ace6-c4e28b049f19",
   "metadata": {},
   "outputs": [],
   "source": [
    "def str_to_int(text):\n",
    "    d = {'Three rooms':3, 'Four rooms':4, 'Two rooms':2, 'Six rooms':6,\n",
    "       'Eight rooms':8}\n",
    "    return d[text]"
   ]
  },
  {
   "cell_type": "code",
   "execution_count": 175,
   "id": "4cc2cae6-17dc-4fa3-844d-bda84acddc2b",
   "metadata": {},
   "outputs": [
    {
     "data": {
      "text/plain": [
       "0       2\n",
       "1       3\n",
       "2       3\n",
       "3       3\n",
       "4       3\n",
       "       ..\n",
       "3947    3\n",
       "3948    3\n",
       "3949    3\n",
       "3950    3\n",
       "3951    3\n",
       "Name: num_rooms, Length: 553952, dtype: int64"
      ]
     },
     "execution_count": 175,
     "metadata": {},
     "output_type": "execute_result"
    }
   ],
   "source": [
    "df['num_rooms']= df['num_rooms'].apply(str_to_int)\n",
    "df_test['num_rooms'] = df_test['num_rooms'].apply(str_to_int)\n",
    "df['num_rooms']"
   ]
  },
  {
   "cell_type": "code",
   "execution_count": 176,
   "id": "6804a860-2f4c-4e97-b691-f9458898f029",
   "metadata": {},
   "outputs": [
    {
     "data": {
      "text/plain": [
       "0        3\n",
       "1        3\n",
       "2        3\n",
       "3        4\n",
       "4        3\n",
       "        ..\n",
       "43949    3\n",
       "43950    3\n",
       "43951    3\n",
       "43952    3\n",
       "43953    3\n",
       "Name: num_rooms, Length: 43954, dtype: int64"
      ]
     },
     "execution_count": 176,
     "metadata": {},
     "output_type": "execute_result"
    }
   ],
   "source": [
    "df_test['num_rooms']"
   ]
  },
  {
   "cell_type": "code",
   "execution_count": 83,
   "id": "376c5516-4c92-406f-9a22-0dae87fc9c43",
   "metadata": {},
   "outputs": [
    {
     "data": {
      "text/plain": [
       "Single Family    394028\n",
       "Condo            102981\n",
       "Two Family        25800\n",
       "Residential       16774\n",
       "Three Family      12255\n",
       "Four Family        2114\n",
       "Name: Property, dtype: int64"
      ]
     },
     "execution_count": 83,
     "metadata": {},
     "output_type": "execute_result"
    }
   ],
   "source": [
    "df['Property'].value_counts()"
   ]
  },
  {
   "cell_type": "code",
   "execution_count": 84,
   "id": "6745cd80-7cd4-4261-a8cf-b37e3df98f0e",
   "metadata": {},
   "outputs": [
    {
     "data": {
      "text/plain": [
       "Residential    43954\n",
       "Name: Property, dtype: int64"
      ]
     },
     "execution_count": 84,
     "metadata": {},
     "output_type": "execute_result"
    }
   ],
   "source": [
    "df_test['Property'].value_counts()"
   ]
  },
  {
   "cell_type": "code",
   "execution_count": 85,
   "id": "f316c878-a162-4413-865d-1129b0d7c84f",
   "metadata": {},
   "outputs": [
    {
     "data": {
      "image/png": "[encoded data removed]",
      "text/plain": [
       "<Figure size 720x432 with 1 Axes>"
      ]
     },
     "metadata": {
      "needs_background": "light"
     },
     "output_type": "display_data"
    }
   ],
   "source": [
    "import seaborn as sns\n",
    "import matplotlib.pyplot as plt\n",
    "\n",
    "combined_df = pd.concat([df['Property'].value_counts().rename('df'), \n",
    "                         df_test['Property'].value_counts().rename('df_test')],\n",
    "                        axis=1)\n",
    "\n",
    "melted_df = pd.melt(combined_df.reset_index(), id_vars='index', var_name='Dataset', value_name='Count')\n",
    "\n",
    "plt.figure(figsize=(10, 6))\n",
    "sns.barplot(x='index', y='Count', hue='Dataset', data=melted_df)\n",
    "plt.title('Value Counts - Property')\n",
    "plt.xlabel('Property')\n",
    "plt.ylabel('Count')\n",
    "plt.xticks(rotation=45)\n",
    "plt.show()\n"
   ]
  },
  {
   "cell_type": "code",
   "execution_count": 86,
   "id": "f5b6e3ae-e564-40bb-b1ae-30588ae06ff6",
   "metadata": {},
   "outputs": [
    {
     "data": {
      "text/plain": [
       "array(['Condo', 'Single Family', 'Three Family', 'Two Family',\n",
       "       'Four Family', 'Residential'], dtype=object)"
      ]
     },
     "execution_count": 86,
     "metadata": {},
     "output_type": "execute_result"
    }
   ],
   "source": [
    "df['Property'].unique()"
   ]
  },
  {
   "cell_type": "code",
   "execution_count": 177,
   "id": "4482f12d-4644-4a07-8c5b-6223fefcebbe",
   "metadata": {},
   "outputs": [],
   "source": [
    "def str_to_int(text):\n",
    "    d = {'Single Family':1, 'Two Family':2, 'Three Family':3, 'Four Family':4,\n",
    "       'Condo':8,'Residential':5}\n",
    "    return d[text]"
   ]
  },
  {
   "cell_type": "code",
   "execution_count": 178,
   "id": "5a6b16c3-ec02-4d7e-bc4c-c0a06892ccf3",
   "metadata": {},
   "outputs": [
    {
     "data": {
      "text/plain": [
       "0       8\n",
       "1       1\n",
       "2       1\n",
       "3       1\n",
       "4       1\n",
       "       ..\n",
       "3947    5\n",
       "3948    5\n",
       "3949    5\n",
       "3950    5\n",
       "3951    5\n",
       "Name: Property, Length: 553952, dtype: int64"
      ]
     },
     "execution_count": 178,
     "metadata": {},
     "output_type": "execute_result"
    }
   ],
   "source": [
    "df['Property']= df['Property'].apply(str_to_int)\n",
    "df_test['Property'] = df_test['Property'].apply(str_to_int)\n",
    "df['Property']"
   ]
  },
  {
   "cell_type": "code",
   "execution_count": 179,
   "id": "f356a47f-613d-4ed2-a0d0-878e2a5d1f6a",
   "metadata": {},
   "outputs": [
    {
     "data": {
      "text/plain": [
       "Outstanding      110984\n",
       "Superb            83032\n",
       "Luxurious         55648\n",
       "Satisfactory      55522\n",
       "Mediocre          55223\n",
       "Exceptional       55178\n",
       "Marginal          55130\n",
       "Unimpressive      27803\n",
       "Commonplace       27790\n",
       "Below Average     27642\n",
       "Name: amenities_rating, dtype: int64"
      ]
     },
     "execution_count": 179,
     "metadata": {},
     "output_type": "execute_result"
    }
   ],
   "source": [
    "df['amenities_rating'].value_counts()"
   ]
  },
  {
   "cell_type": "code",
   "execution_count": 20,
   "id": "ad1d700d-b458-4ba4-93e8-41b4ffa8aa63",
   "metadata": {},
   "outputs": [
    {
     "data": {
      "text/plain": [
       "Outstanding      8821\n",
       "Superb           6507\n",
       "Exceptional      4447\n",
       "Luxurious        4422\n",
       "Marginal         4387\n",
       "Satisfactory     4379\n",
       "Mediocre         4375\n",
       "Commonplace      2300\n",
       "Below Average    2220\n",
       "Unimpressive     2096\n",
       "Name: amenities_rating, dtype: int64"
      ]
     },
     "execution_count": 20,
     "metadata": {},
     "output_type": "execute_result"
    }
   ],
   "source": [
    "df_test['amenities_rating'].value_counts()"
   ]
  },
  {
   "cell_type": "code",
   "execution_count": 91,
   "id": "a006de24-8f4b-46de-81e3-f0a67f098852",
   "metadata": {},
   "outputs": [
    {
     "data": {
      "image/png": "[encoded data removed]",
      "text/plain": [
       "<Figure size 720x432 with 1 Axes>"
      ]
     },
     "metadata": {
      "needs_background": "light"
     },
     "output_type": "display_data"
    }
   ],
   "source": [
    "combined_df = pd.concat([df['amenities_rating'].value_counts().rename('df'), \n",
    "                         df_test['amenities_rating'].value_counts().rename('df_test')],\n",
    "                        axis=1)\n",
    "\n",
    "melted_df = pd.melt(combined_df.reset_index(), id_vars='index', var_name='Dataset', value_name='Count')\n",
    "\n",
    "plt.figure(figsize=(10, 6))\n",
    "sns.barplot(x='index', y='Count', hue='Dataset', data=melted_df)\n",
    "plt.title('Value Counts - Amenities Rating')\n",
    "plt.xlabel('Amenities Rating')\n",
    "plt.ylabel('Count')\n",
    "plt.xticks(rotation=45)\n",
    "plt.grid(True)\n",
    "plt.show()\n"
   ]
  },
  {
   "cell_type": "code",
   "execution_count": 92,
   "id": "8bb3d56b-3c1c-433d-9274-6ae2975527b8",
   "metadata": {},
   "outputs": [
    {
     "data": {
      "text/plain": [
       "array(['Not Provided'], dtype='<U12')"
      ]
     },
     "execution_count": 92,
     "metadata": {},
     "output_type": "execute_result"
    }
   ],
   "source": [
    "non_numeric_values = find_non_numeric_values(df['carpet_area'].to_list())\n",
    "np.unique(non_numeric_values)"
   ]
  },
  {
   "cell_type": "code",
   "execution_count": 93,
   "id": "9d1fc3ff-6283-443d-9259-2ec100f2006b",
   "metadata": {},
   "outputs": [
    {
     "data": {
      "text/plain": [
       "array(['Not Provided'], dtype='<U12')"
      ]
     },
     "execution_count": 93,
     "metadata": {},
     "output_type": "execute_result"
    }
   ],
   "source": [
    "non_numeric_values = find_non_numeric_values(df_test['carpet_area'].to_list())\n",
    "np.unique(non_numeric_values)"
   ]
  },
  {
   "cell_type": "code",
   "execution_count": 180,
   "id": "f1e311f7-487f-4584-a420-0ab82f7531f5",
   "metadata": {},
   "outputs": [
    {
     "name": "stdout",
     "output_type": "stream",
     "text": [
      "<class 'pandas.core.series.Series'>\n",
      "Int64Index: 553952 entries, 0 to 3951\n",
      "Series name: carpet_area\n",
      "Non-Null Count   Dtype  \n",
      "--------------   -----  \n",
      "548548 non-null  float64\n",
      "dtypes: float64(1)\n",
      "memory usage: 8.5 MB\n"
     ]
    }
   ],
   "source": [
    "df['carpet_area'] = np.where(df['carpet_area'] == 'Not Provided', np.nan, df['carpet_area'])\n",
    "df['carpet_area'] = df['carpet_area'].astype(float)\n",
    "df['carpet_area'].info()"
   ]
  },
  {
   "cell_type": "code",
   "execution_count": 181,
   "id": "af2d71ce-2db2-4450-bc43-093ba074ec72",
   "metadata": {},
   "outputs": [
    {
     "name": "stdout",
     "output_type": "stream",
     "text": [
      "<class 'pandas.core.series.Series'>\n",
      "RangeIndex: 43954 entries, 0 to 43953\n",
      "Series name: carpet_area\n",
      "Non-Null Count  Dtype  \n",
      "--------------  -----  \n",
      "43534 non-null  float64\n",
      "dtypes: float64(1)\n",
      "memory usage: 343.5 KB\n"
     ]
    }
   ],
   "source": [
    "df_test['carpet_area'] = np.where(df_test['carpet_area'] == 'Not Provided', np.nan, df_test['carpet_area'])\n",
    "\n",
    "df_test['carpet_area'] = df_test['carpet_area'].astype(float)\n",
    "\n",
    "df_test['carpet_area'].info()"
   ]
  },
  {
   "cell_type": "code",
   "execution_count": 96,
   "id": "a567662b-6243-49b4-9efd-439f188c2a7f",
   "metadata": {},
   "outputs": [
    {
     "name": "stdout",
     "output_type": "stream",
     "text": [
      "<class 'pandas.core.series.Series'>\n",
      "Int64Index: 553952 entries, 0 to 3951\n",
      "Series name: nearby_restaurants\n",
      "Non-Null Count   Dtype  \n",
      "--------------   -----  \n",
      "553952 non-null  float64\n",
      "dtypes: float64(1)\n",
      "memory usage: 8.5 MB\n"
     ]
    }
   ],
   "source": [
    "df['nearby_restaurants'].info()"
   ]
  },
  {
   "cell_type": "code",
   "execution_count": 97,
   "id": "5729838f-fe76-4f5d-97b8-7377f9101b66",
   "metadata": {},
   "outputs": [
    {
     "data": {
      "text/plain": [
       "Scattered         110785\n",
       "Abundant           83008\n",
       "Inadequate         55584\n",
       "Extensive          55572\n",
       "Insufficient       55556\n",
       "Accessible         55517\n",
       "Well-connected     55103\n",
       "Limited            27756\n",
       "Sparse             27678\n",
       "Patchy             27393\n",
       "Name: public_transport_availability, dtype: int64"
      ]
     },
     "execution_count": 97,
     "metadata": {},
     "output_type": "execute_result"
    }
   ],
   "source": [
    "df['public_transport_availability'].value_counts()"
   ]
  },
  {
   "cell_type": "code",
   "execution_count": 98,
   "id": "534f2fad-8021-4d3f-89f3-45a96d6f7209",
   "metadata": {},
   "outputs": [
    {
     "data": {
      "text/plain": [
       "Scattered         8738\n",
       "Abundant          6613\n",
       "Accessible        4553\n",
       "Insufficient      4478\n",
       "Inadequate        4376\n",
       "Extensive         4338\n",
       "Well-connected    4253\n",
       "Patchy            2261\n",
       "Sparse            2213\n",
       "Limited           2131\n",
       "Name: public_transport_availability, dtype: int64"
      ]
     },
     "execution_count": 98,
     "metadata": {},
     "output_type": "execute_result"
    }
   ],
   "source": [
    "df_test['public_transport_availability'].value_counts()"
   ]
  },
  {
   "cell_type": "code",
   "execution_count": 99,
   "id": "7d96a02c-89d1-4005-9434-b21fb21c5db6",
   "metadata": {},
   "outputs": [
    {
     "data": {
      "image/png": "[encoded data removed]",
      "text/plain": [
       "<Figure size 720x432 with 1 Axes>"
      ]
     },
     "metadata": {
      "needs_background": "light"
     },
     "output_type": "display_data"
    }
   ],
   "source": [
    "import seaborn as sns\n",
    "import matplotlib.pyplot as plt\n",
    "\n",
    "combined_df = pd.concat([df['public_transport_availability'].value_counts().rename('df'), \n",
    "                         df_test['public_transport_availability'].value_counts().rename('df_test')],\n",
    "                        axis=1)\n",
    "\n",
    "melted_df = pd.melt(combined_df.reset_index(), id_vars='index', var_name='Dataset', value_name='Count')\n",
    "\n",
    "plt.figure(figsize=(10, 6))\n",
    "sns.barplot(x='index', y='Count', hue='Dataset', data=melted_df)\n",
    "plt.title('Value Counts - Public Transport Availability')\n",
    "plt.xlabel('Public Transport Availability')\n",
    "plt.ylabel('Count')\n",
    "plt.xticks(rotation=45) \n",
    "plt.show()\n"
   ]
  },
  {
   "cell_type": "code",
   "execution_count": null,
   "id": "06c6c212-ff7a-44e2-a9f7-53b97fa59854",
   "metadata": {},
   "outputs": [],
   "source": []
  },
  {
   "cell_type": "code",
   "execution_count": 100,
   "id": "e2aa735f-7c8c-4156-bd8e-162845666ee9",
   "metadata": {},
   "outputs": [
    {
     "data": {
      "text/plain": [
       "array(['Not Provided'], dtype='<U12')"
      ]
     },
     "execution_count": 100,
     "metadata": {},
     "output_type": "execute_result"
    }
   ],
   "source": [
    "non_numeric_values = find_non_numeric_values(df['property_tax_rate'].to_list())\n",
    "np.unique(non_numeric_values)"
   ]
  },
  {
   "cell_type": "code",
   "execution_count": 101,
   "id": "b8c8d423-2274-4ae8-9cce-40e5b8e3fccc",
   "metadata": {},
   "outputs": [
    {
     "data": {
      "text/plain": [
       "array(['Not Provided'], dtype='<U12')"
      ]
     },
     "execution_count": 101,
     "metadata": {},
     "output_type": "execute_result"
    }
   ],
   "source": [
    "non_numeric_values = find_non_numeric_values(df_test['property_tax_rate'].to_list())\n",
    "np.unique(non_numeric_values)"
   ]
  },
  {
   "cell_type": "code",
   "execution_count": 182,
   "id": "c4541d4c-1ac5-4628-b691-133c31dad170",
   "metadata": {},
   "outputs": [
    {
     "name": "stdout",
     "output_type": "stream",
     "text": [
      "<class 'pandas.core.series.Series'>\n",
      "Int64Index: 553952 entries, 0 to 3951\n",
      "Series name: property_tax_rate\n",
      "Non-Null Count   Dtype  \n",
      "--------------   -----  \n",
      "542722 non-null  float64\n",
      "dtypes: float64(1)\n",
      "memory usage: 8.5 MB\n"
     ]
    }
   ],
   "source": [
    "df['property_tax_rate'] = np.where(df['property_tax_rate'] == 'Not Provided', np.nan, df['property_tax_rate'])\n",
    "df['property_tax_rate'] = df['property_tax_rate'].astype(float)\n",
    "df['property_tax_rate'].info()\n"
   ]
  },
  {
   "cell_type": "code",
   "execution_count": 183,
   "id": "702e59a7-396f-4727-8d2e-1d4331ab50d5",
   "metadata": {},
   "outputs": [
    {
     "name": "stdout",
     "output_type": "stream",
     "text": [
      "<class 'pandas.core.series.Series'>\n",
      "RangeIndex: 43954 entries, 0 to 43953\n",
      "Series name: property_tax_rate\n",
      "Non-Null Count  Dtype  \n",
      "--------------  -----  \n",
      "43077 non-null  float64\n",
      "dtypes: float64(1)\n",
      "memory usage: 343.5 KB\n"
     ]
    }
   ],
   "source": [
    "df_test['property_tax_rate'] = np.where(df_test['property_tax_rate'] == 'Not Provided', np.nan, df_test['property_tax_rate'])\n",
    "df_test['property_tax_rate'] = df_test['property_tax_rate'].astype(float)\n",
    "df_test['property_tax_rate'].info()\n"
   ]
  },
  {
   "cell_type": "code",
   "execution_count": 104,
   "id": "d8748510-b3e0-43ab-8cec-f80a9003a279",
   "metadata": {},
   "outputs": [
    {
     "name": "stdout",
     "output_type": "stream",
     "text": [
      "<class 'pandas.core.series.Series'>\n",
      "Int64Index: 553952 entries, 0 to 3951\n",
      "Series name: distance_to_school\n",
      "Non-Null Count   Dtype  \n",
      "--------------   -----  \n",
      "553952 non-null  float64\n",
      "dtypes: float64(1)\n",
      "memory usage: 8.5 MB\n",
      "<class 'pandas.core.series.Series'>\n",
      "RangeIndex: 43954 entries, 0 to 43953\n",
      "Series name: distance_to_school\n",
      "Non-Null Count  Dtype  \n",
      "--------------  -----  \n",
      "43954 non-null  float64\n",
      "dtypes: float64(1)\n",
      "memory usage: 343.5 KB\n"
     ]
    }
   ],
   "source": [
    "df['distance_to_school'].info()\n",
    "df_test['distance_to_school'].info()"
   ]
  },
  {
   "cell_type": "code",
   "execution_count": 105,
   "id": "748e055d-5463-4535-a629-e1c108d8396f",
   "metadata": {},
   "outputs": [
    {
     "data": {
      "text/plain": [
       "array(['Greenwich', 'East Hampton', 'Ridgefield', 'Old Lyme', 'Naugatuck',\n",
       "       'Killingly', 'Glastonbury', 'Bridgeport', 'Danbury', 'Hamden',\n",
       "       'Branford', 'Norwalk', 'East Granby', 'Windsor', 'Oxford',\n",
       "       'Chester', 'Thompson', 'Eastford', 'Newington', 'Harwinton',\n",
       "       'Canterbury', 'West Haven', 'Waterbury', 'Bristol', 'Bloomfield',\n",
       "       'Plainfield', 'Wallingford', 'Farmington', 'Berlin', 'Ellington',\n",
       "       'Stratford', 'Woodstock', 'Fairfield', 'New Britain', 'Waterford',\n",
       "       'Redding', 'Stonington', 'Derby', 'Sprague', 'East Haddam',\n",
       "       'Cromwell', 'New Milford', 'Southington', 'Wethersfield',\n",
       "       'South Windsor', 'New London', 'Windham', 'Trumbull', 'Newtown',\n",
       "       'Winchester', 'Durham', 'Wilton', 'Middletown', 'Putnam',\n",
       "       'Windsor Locks', 'Preston', 'Suffield', 'Roxbury', 'Granby',\n",
       "       'Marlborough', 'Tolland', 'Simsbury', 'Avon', 'Essex', 'Darien',\n",
       "       'Madison', 'Sterling', 'Haddam', 'Somers', 'Cheshire',\n",
       "       'Torrington', 'Rocky Hill', 'Westport', 'Ashford', 'Ledyard',\n",
       "       'Stafford', 'Voluntown', 'Bethlehem', 'Seymour', 'Norwich', 'Lyme',\n",
       "       'Guilford', 'North Branford', 'Bolton', 'Bethel', 'Burlington',\n",
       "       'New Fairfield', 'Watertown', 'Woodbridge', 'Litchfield', 'Sharon',\n",
       "       'Kent', 'Weston', 'Brooklyn', 'Sherman', 'East Windsor',\n",
       "       'New Canaan', 'Southbury', 'Colebrook', 'Woodbury', 'New Hartford',\n",
       "       'North Haven', 'Barkhamsted', 'Willington', 'Monroe', 'Deep River',\n",
       "       'Clinton', 'Mansfield', 'Ansonia', 'New Haven', 'Warren',\n",
       "       'Chaplin', 'Washington', 'Old Saybrook', 'Bethany', 'Canton',\n",
       "       'Prospect', 'Coventry', 'North Stonington', 'Hampton', 'Lebanon',\n",
       "       'Salisbury', 'Morris', 'Norfolk', 'Union', 'Goshen',\n",
       "       'North Canaan', 'Franklin', 'Canaan', 'Pomfret', 'Scotland',\n",
       "       'Hartland', 'Bozrah', 'Milford', 'East Hartford', 'Westbrook',\n",
       "       'Salem', 'Brookfield', 'Wolcott', 'Manchester', 'East Haven',\n",
       "       'West Hartford', 'Plainville', 'Vernon', 'Orange', 'Portland',\n",
       "       'Groton', 'Shelton', 'Columbia', 'Hartford', 'Thomaston',\n",
       "       'Meriden', 'Easton', 'Enfield', 'Griswold', 'Cornwall',\n",
       "       'East Lyme', 'Lisbon', 'Hebron', 'Montville', 'Colchester',\n",
       "       'Killingworth', 'Bridgewater', 'Andover', 'Plymouth', 'Middlebury',\n",
       "       'Beacon Falls', 'Middlefield', '***Unknown***', 'Stamford'],\n",
       "      dtype=object)"
      ]
     },
     "execution_count": 105,
     "metadata": {},
     "output_type": "execute_result"
    }
   ],
   "source": [
    "df['Locality'].unique()"
   ]
  },
  {
   "cell_type": "code",
   "execution_count": 106,
   "id": "a1522b1f-a138-4efb-8d68-1b198d8409c0",
   "metadata": {},
   "outputs": [
    {
     "data": {
      "text/plain": [
       "array(['Old Lyme', 'Ridgefield', 'Cromwell', 'New Haven', 'Beacon Falls',\n",
       "       'Derby', 'West Hartford', 'Wolcott', 'Guilford', 'Goshen',\n",
       "       'Granby', 'Plainfield', 'Stonington', 'Branford', 'Manchester',\n",
       "       'Bristol', 'Berlin', 'Naugatuck', 'New Fairfield', 'Kent',\n",
       "       'Rocky Hill', 'Enfield', 'Milford', 'Stamford', 'Thomaston',\n",
       "       'Old Saybrook', 'Norwalk', 'Greenwich', 'Sharon', 'East Lyme',\n",
       "       'New Britain', 'Middletown', 'Norwich', 'Trumbull', 'Farmington',\n",
       "       'Wethersfield', 'Hartford', 'Torrington', 'East Hartford',\n",
       "       'Windsor', 'Bethel', 'Avon', 'Mansfield', 'North Haven',\n",
       "       'Bloomfield', 'Plymouth', 'Weston', 'Bethany', 'Meriden',\n",
       "       'Killingworth', 'Colchester', 'Hebron', 'Darien', 'South Windsor',\n",
       "       'Winchester', 'Glastonbury', 'Brookfield', 'East Windsor',\n",
       "       'Waterbury', 'Thompson', 'Easton', 'New Canaan', 'Sprague',\n",
       "       'Watertown', 'Burlington', 'Stratford', 'Redding', 'Woodbury',\n",
       "       'Monroe', 'Putnam', 'Lyme', 'Barkhamsted', 'East Haven', 'Wilton',\n",
       "       'Newtown', 'Ansonia', 'Salem', 'Suffield', 'Tolland', 'Waterford',\n",
       "       'Coventry', 'Madison', 'Chaplin', 'Windsor Locks', 'Willington',\n",
       "       'Killingly', 'Andover', 'Portland', 'Griswold', 'New London',\n",
       "       'Litchfield', 'Ashford', 'Simsbury', 'Danbury', 'Roxbury',\n",
       "       'Cheshire', 'Columbia', 'Preston', 'Woodstock', 'Eastford',\n",
       "       'Orange', 'Vernon', 'East Granby', 'Chester', 'Morris',\n",
       "       'Woodbridge', 'Sterling', 'Southbury', 'Bethlehem', 'Lebanon',\n",
       "       'Groton', 'Harwinton', 'Sherman', 'Middlebury', 'Shelton',\n",
       "       'Windham', 'Bozrah', 'Westbrook', 'Montville', 'Lisbon',\n",
       "       'Plainville', 'Essex', 'East Haddam', 'Bridgewater',\n",
       "       'New Hartford', 'Scotland', 'Warren', 'Canton', 'North Canaan',\n",
       "       'Canaan', 'Colebrook', 'Washington', 'Bolton', 'Norfolk',\n",
       "       'Cornwall', 'Middlefield', 'Franklin', 'Hampton', 'Union'],\n",
       "      dtype=object)"
      ]
     },
     "execution_count": 106,
     "metadata": {},
     "output_type": "execute_result"
    }
   ],
   "source": [
    "df_test['Locality'].unique()"
   ]
  },
  {
   "cell_type": "code",
   "execution_count": 107,
   "id": "36368e19-8f97-4838-baf3-c2e0ee147e70",
   "metadata": {},
   "outputs": [
    {
     "data": {
      "text/plain": [
       "(array([39859], dtype=int64),)"
      ]
     },
     "execution_count": 107,
     "metadata": {},
     "output_type": "execute_result"
    }
   ],
   "source": [
    "np.where(df['Locality']=='***Unknown***')"
   ]
  },
  {
   "cell_type": "code",
   "execution_count": 108,
   "id": "14a0666d-919e-45f1-961f-7d4a6ed494ba",
   "metadata": {},
   "outputs": [
    {
     "data": {
      "text/plain": [
       "(array([], dtype=int64),)"
      ]
     },
     "execution_count": 108,
     "metadata": {},
     "output_type": "execute_result"
    }
   ],
   "source": [
    "np.where(df_test['Locality']=='***Unknown***')"
   ]
  },
  {
   "cell_type": "code",
   "execution_count": 25,
   "id": "376f0597-bcb3-478b-abae-4fb542560368",
   "metadata": {},
   "outputs": [
    {
     "data": {
      "text/plain": [
       "170"
      ]
     },
     "execution_count": 25,
     "metadata": {},
     "output_type": "execute_result"
    }
   ],
   "source": [
    "df['Locality'].nunique()"
   ]
  },
  {
   "cell_type": "code",
   "execution_count": 26,
   "id": "fc20ad4c-6452-41de-ad20-1f173440a329",
   "metadata": {},
   "outputs": [
    {
     "data": {
      "text/plain": [
       "139"
      ]
     },
     "execution_count": 26,
     "metadata": {},
     "output_type": "execute_result"
    }
   ],
   "source": [
    "df_test['Locality'].nunique()\n"
   ]
  },
  {
   "cell_type": "code",
   "execution_count": 111,
   "id": "0d47d3f4-2a6c-49fd-b125-3b816fb906ab",
   "metadata": {},
   "outputs": [
    {
     "data": {
      "text/plain": [
       "Detached House    406463\n",
       "Condominium       106103\n",
       "Duplex             26587\n",
       "Triplex            12625\n",
       "Fourplex            2174\n",
       "Name: Residential, dtype: int64"
      ]
     },
     "execution_count": 111,
     "metadata": {},
     "output_type": "execute_result"
    }
   ],
   "source": [
    "df['Residential'].value_counts()"
   ]
  },
  {
   "cell_type": "code",
   "execution_count": 112,
   "id": "911fb55b-d50f-482c-b27f-7b3b4c337139",
   "metadata": {},
   "outputs": [
    {
     "data": {
      "text/plain": [
       "Detached House    30969\n",
       "Condominium        9238\n",
       "Duplex             2414\n",
       "Triplex            1125\n",
       "Fourplex            208\n",
       "Name: Residential, dtype: int64"
      ]
     },
     "execution_count": 112,
     "metadata": {},
     "output_type": "execute_result"
    }
   ],
   "source": [
    "df_test['Residential'].value_counts()"
   ]
  },
  {
   "cell_type": "code",
   "execution_count": 113,
   "id": "6db7c694-31b6-43d0-8c17-3ddd215b0277",
   "metadata": {},
   "outputs": [
    {
     "data": {
      "image/png": "[encoded data removed]",
      "text/plain": [
       "<Figure size 720x432 with 1 Axes>"
      ]
     },
     "metadata": {
      "needs_background": "light"
     },
     "output_type": "display_data"
    }
   ],
   "source": [
    "import seaborn as sns\n",
    "import matplotlib.pyplot as plt\n",
    "\n",
    "combined_df = pd.concat([df['Residential'].value_counts().rename('df'), \n",
    "                         df_test['Residential'].value_counts().rename('df_test')],\n",
    "                        axis=1)\n",
    "\n",
    "melted_df = pd.melt(combined_df.reset_index(), id_vars='index', var_name='Dataset', value_name='Count')\n",
    "\n",
    "plt.figure(figsize=(10, 6))\n",
    "sns.barplot(x='index', y='Count', hue='Dataset', data=melted_df)\n",
    "plt.title('Value Counts - Residential')\n",
    "plt.xlabel('Residential')\n",
    "plt.ylabel('Count')\n",
    "plt.xticks(rotation=45) \n",
    "plt.show()\n"
   ]
  },
  {
   "cell_type": "code",
   "execution_count": 114,
   "id": "54f3621c-2736-41bf-a9ef-00f0ea84bd12",
   "metadata": {},
   "outputs": [
    {
     "data": {
      "text/plain": [
       "count    4.395400e+04\n",
       "mean     3.423068e+05\n",
       "std      2.677833e+06\n",
       "min      1.000000e+02\n",
       "25%      1.059625e+05\n",
       "50%      1.599300e+05\n",
       "75%      2.660150e+05\n",
       "max      3.367660e+08\n",
       "Name: Estimated Value, dtype: float64"
      ]
     },
     "execution_count": 114,
     "metadata": {},
     "output_type": "execute_result"
    }
   ],
   "source": [
    "df_test['Estimated Value'].describe()"
   ]
  },
  {
   "cell_type": "code",
   "execution_count": null,
   "id": "dd36a55e-5f01-44d4-9df0-84c242787e1f",
   "metadata": {},
   "outputs": [],
   "source": []
  },
  {
   "cell_type": "code",
   "execution_count": 115,
   "id": "0c549a97-0aa8-497f-8a90-075078b6418c",
   "metadata": {},
   "outputs": [
    {
     "data": {
      "text/plain": [
       "count    5.539520e+05\n",
       "mean     3.514670e+05\n",
       "std      6.708937e+05\n",
       "min      0.000000e+00\n",
       "25%      1.480000e+05\n",
       "50%      2.300000e+05\n",
       "75%      3.647000e+05\n",
       "max      1.570000e+08\n",
       "Name: Sale Price, dtype: float64"
      ]
     },
     "execution_count": 115,
     "metadata": {},
     "output_type": "execute_result"
    }
   ],
   "source": [
    "df['Sale Price'].describe()"
   ]
  },
  {
   "cell_type": "code",
   "execution_count": 116,
   "id": "8df295be-72c7-4e6c-a193-d8c1584f043d",
   "metadata": {},
   "outputs": [
    {
     "data": {
      "text/plain": [
       "0       In 2009, this condo located in Greenwich at 40...\n",
       "1       In 2009, this single family located in East Ha...\n",
       "2       In 2009, this single family located in Ridgefi...\n",
       "3       In 2009, this single family located in Old Lym...\n",
       "4       In 2009, this single family located in Naugatu...\n",
       "                              ...                        \n",
       "3947    In 2022, this residential located in Enfield a...\n",
       "3948    In 2022, this residential located in Naugatuck...\n",
       "3949    In 2022, this residential located in South Win...\n",
       "3950    In 2022, this residential located in Bloomfiel...\n",
       "3951    In 2022, this residential located in Stamford ...\n",
       "Name: specifications, Length: 553952, dtype: object"
      ]
     },
     "execution_count": 116,
     "metadata": {},
     "output_type": "execute_result"
    }
   ],
   "source": [
    "df['specifications']"
   ]
  },
  {
   "cell_type": "code",
   "execution_count": 117,
   "id": "06963b13-9ff0-4d7d-beca-b0a498e73050",
   "metadata": {},
   "outputs": [
    {
     "data": {
      "text/plain": [
       "0        In 2023, this residential located in Old Lyme ...\n",
       "1        In 2023, this residential located in Ridgefiel...\n",
       "2        In 2023, this residential located in Cromwell ...\n",
       "3        In 2023, this residential located in New Haven...\n",
       "4        In 2023, this residential located in Beacon Fa...\n",
       "                               ...                        \n",
       "43949    In 2023, this residential located in Ansonia a...\n",
       "43950    In 2023, this residential located in Enfield a...\n",
       "43951    In 2023, this residential located in Simsbury ...\n",
       "43952    In 2023, this residential located in Essex at ...\n",
       "43953    In 2023, this residential located in Milford a...\n",
       "Name: specifications, Length: 43954, dtype: object"
      ]
     },
     "execution_count": 117,
     "metadata": {},
     "output_type": "execute_result"
    }
   ],
   "source": [
    "df_test['specifications']"
   ]
  },
  {
   "cell_type": "code",
   "execution_count": null,
   "id": "e7337263-a43f-4af3-a55e-0be8b1a234d1",
   "metadata": {},
   "outputs": [],
   "source": []
  },
  {
   "cell_type": "code",
   "execution_count": 121,
   "id": "dca4c271-b535-4fbc-8c9b-57069ce0c427",
   "metadata": {},
   "outputs": [
    {
     "data": {
      "text/plain": [
       "array([1.46      ,        nan, 5.24759326])"
      ]
     },
     "execution_count": 121,
     "metadata": {},
     "output_type": "execute_result"
    }
   ],
   "source": [
    "df_test['property_tax_rate'].unique()"
   ]
  },
  {
   "cell_type": "code",
   "execution_count": 122,
   "id": "9a448fb3-122b-4fa0-b814-267c1c20d5d5",
   "metadata": {},
   "outputs": [
    {
     "data": {
      "text/plain": [
       "(array([], dtype=int64),)"
      ]
     },
     "execution_count": 122,
     "metadata": {},
     "output_type": "execute_result"
    }
   ],
   "source": [
    "np.where(df_test['property_tax_rate']==np.nan)"
   ]
  },
  {
   "cell_type": "code",
   "execution_count": 123,
   "id": "461c346a-2703-45ad-bf5b-bc0688670388",
   "metadata": {},
   "outputs": [
    {
     "data": {
      "text/plain": [
       "(array([    0,     1,     2, ..., 43951, 43952, 43953], dtype=int64),)"
      ]
     },
     "execution_count": 123,
     "metadata": {},
     "output_type": "execute_result"
    }
   ],
   "source": [
    "np.where(df_test['property_tax_rate']==1.46)"
   ]
  },
  {
   "cell_type": "code",
   "execution_count": 124,
   "id": "ab3336df-b22d-4230-9b72-696eda1da68b",
   "metadata": {},
   "outputs": [
    {
     "name": "stdout",
     "output_type": "stream",
     "text": [
      "<class 'pandas.core.frame.DataFrame'>\n",
      "Int64Index: 553952 entries, 0 to 3951\n",
      "Data columns (total 11 columns):\n",
      " #   Column             Non-Null Count   Dtype  \n",
      "---  ------             --------------   -----  \n",
      " 0   crime_rate         531768 non-null  float64\n",
      " 1   renovation_level   553952 non-null  object \n",
      " 2   num_rooms          553952 non-null  int64  \n",
      " 3   Property           553952 non-null  int64  \n",
      " 4   amenities_rating   553952 non-null  object \n",
      " 5   carpet_area        548548 non-null  float64\n",
      " 6   property_tax_rate  542722 non-null  float64\n",
      " 7   Locality           553952 non-null  object \n",
      " 8   Residential        553952 non-null  object \n",
      " 9   Estimated Value    553952 non-null  float64\n",
      " 10  Sale Price         553952 non-null  float64\n",
      "dtypes: float64(5), int64(2), object(4)\n",
      "memory usage: 50.7+ MB\n"
     ]
    }
   ],
   "source": [
    "df.info()"
   ]
  },
  {
   "cell_type": "code",
   "execution_count": null,
   "id": "7d069d03-edff-4ae0-b1d3-2fbddaf6aa1a",
   "metadata": {},
   "outputs": [],
   "source": []
  },
  {
   "cell_type": "markdown",
   "id": "7e07c2b7-6dae-444d-8ae5-2cecbea960b2",
   "metadata": {},
   "source": [
    "# Exploratory Data Analysis (EDA)"
   ]
  },
  {
   "cell_type": "code",
   "execution_count": 125,
   "id": "a50d3db4-2d92-4bf6-a4c5-cc610bc6d7bf",
   "metadata": {},
   "outputs": [
    {
     "data": {
      "image/png": "[encoded data removed]",
      "text/plain": [
       "<Figure size 864x360 with 2 Axes>"
      ]
     },
     "metadata": {
      "needs_background": "light"
     },
     "output_type": "display_data"
    }
   ],
   "source": [
    "import seaborn as sns\n",
    "import matplotlib.pyplot as plt\n",
    "\n",
    "fig, axes = plt.subplots(1, 2, figsize=(12, 5))\n",
    "\n",
    "sns.histplot(df['crime_rate'], kde=True, ax=axes[0],bins=20)\n",
    "axes[0].set_title('Histogram with KDE - df')\n",
    "axes[0].set_xlabel('Crime Rate')\n",
    "axes[0].set_ylabel('Frequency')\n",
    "\n",
    "sns.histplot(df_test['crime_rate'],bins=20, kde=True, ax=axes[1])\n",
    "axes[1].set_title('Histogram with KDE - df_test')\n",
    "axes[1].set_xlabel('Crime Rate')\n",
    "axes[1].set_ylabel('Frequency')\n",
    "\n",
    "plt.tight_layout()\n",
    "plt.show()\n"
   ]
  },
  {
   "cell_type": "markdown",
   "id": "dad245fb-1c93-44b1-b83c-d907fbebcc71",
   "metadata": {},
   "source": [
    "# Detecting Outliers"
   ]
  },
  {
   "cell_type": "code",
   "execution_count": 126,
   "id": "dbd5b2a6-b667-4499-97a4-7e744a498542",
   "metadata": {},
   "outputs": [
    {
     "data": {
      "image/png": "[encoded data removed]",
      "text/plain": [
       "<Figure size 864x288 with 2 Axes>"
      ]
     },
     "metadata": {
      "needs_background": "light"
     },
     "output_type": "display_data"
    }
   ],
   "source": [
    "df_reset = df.reset_index(drop=True)\n",
    "df_test_reset = df_test.reset_index(drop=True)\n",
    "fig, axes = plt.subplots(1, 2, figsize=(12, 4))\n",
    "sns.boxplot(x=df_reset['crime_rate'], ax=axes[0])\n",
    "axes[0].set_title('Box Plot - df')\n",
    "axes[0].set_xlabel('Crime Rate')\n",
    "\n",
    "sns.boxplot(x=df_test_reset['crime_rate'], ax=axes[1])\n",
    "axes[1].set_title('Box Plot - df_test')\n",
    "axes[1].set_xlabel('Crime Rate')\n",
    "\n",
    "plt.tight_layout()\n",
    "plt.show()\n"
   ]
  },
  {
   "cell_type": "code",
   "execution_count": 184,
   "id": "8cf93c46-7c17-4246-bdc0-9a2491ab758e",
   "metadata": {},
   "outputs": [
    {
     "data": {
      "text/plain": [
       "1.5250418808849864"
      ]
     },
     "execution_count": 184,
     "metadata": {},
     "output_type": "execute_result"
    }
   ],
   "source": [
    "iqr = df['crime_rate'].quantile(0.75) - df['crime_rate'].quantile(0.25)\n",
    "upper_limit= df['crime_rate'].quantile(0.75) + iqr *1.5\n",
    "df[df['crime_rate']>upper_limit].shape[0]/df.shape[0]*100"
   ]
  },
  {
   "cell_type": "code",
   "execution_count": 185,
   "id": "6afabc97-86d1-42af-93b3-27a54d509f41",
   "metadata": {},
   "outputs": [
    {
     "data": {
      "text/plain": [
       "0.30941438776903124"
      ]
     },
     "execution_count": 185,
     "metadata": {},
     "output_type": "execute_result"
    }
   ],
   "source": [
    "iqr = df_test['crime_rate'].quantile(0.75) - df_test['crime_rate'].quantile(0.25)\n",
    "upper_limit= df_test['crime_rate'].quantile(0.75) + iqr *1.5\n",
    "df_test[df_test['crime_rate']>upper_limit].shape[0]/df_test.shape[0]*100"
   ]
  },
  {
   "cell_type": "markdown",
   "id": "3868ca85-c1b8-4399-9225-35b44d49b786",
   "metadata": {},
   "source": [
    "> - There are Outliers in Crime Rate Column  Which Is 1.5% of the training data  and 0.3 % of the testing data "
   ]
  },
  {
   "cell_type": "code",
   "execution_count": 186,
   "id": "c8970d42-03e1-4ae2-a992-b881738d325e",
   "metadata": {},
   "outputs": [],
   "source": [
    "df['crime_rate']= np.where(df['crime_rate'] >upper_limit,upper_limit,df['crime_rate'])\n",
    "df_test['crime_rate']= np.where(df_test['crime_rate'] >upper_limit,upper_limit,df_test['crime_rate'])"
   ]
  },
  {
   "cell_type": "markdown",
   "id": "4095dc73-e28f-46f3-8923-77bc9dd8f669",
   "metadata": {},
   "source": [
    "### After Removal of Outliers"
   ]
  },
  {
   "cell_type": "code",
   "execution_count": 130,
   "id": "a784fe58-26cd-42f9-b038-0263633abdd6",
   "metadata": {},
   "outputs": [
    {
     "data": {
      "image/png": "[encoded data removed]",
      "text/plain": [
       "<Figure size 864x288 with 2 Axes>"
      ]
     },
     "metadata": {
      "needs_background": "light"
     },
     "output_type": "display_data"
    }
   ],
   "source": [
    "df_reset = df.reset_index(drop=True)\n",
    "df_test_reset = df_test.reset_index(drop=True)\n",
    "fig, axes = plt.subplots(1, 2, figsize=(12, 4))\n",
    "sns.boxplot(x=df_reset['crime_rate'], ax=axes[0])\n",
    "axes[0].set_title('Box Plot - df')\n",
    "axes[0].set_xlabel('Crime Rate')\n",
    "\n",
    "sns.boxplot(x=df_test_reset['crime_rate'], ax=axes[1])\n",
    "axes[1].set_title('Box Plot - df_test')\n",
    "axes[1].set_xlabel('Crime Rate')\n",
    "plt.suptitle(\"After Removal of Outliers\")\n",
    "plt.tight_layout()\n",
    "plt.show()\n"
   ]
  },
  {
   "cell_type": "code",
   "execution_count": 131,
   "id": "4098a7d7-85de-41ca-a2b1-7ffc6fd3e4a1",
   "metadata": {},
   "outputs": [
    {
     "data": {
      "image/png": "[encoded data removed]",
      "text/plain": [
       "<Figure size 864x288 with 2 Axes>"
      ]
     },
     "metadata": {
      "needs_background": "light"
     },
     "output_type": "display_data"
    }
   ],
   "source": [
    "import seaborn as sns\n",
    "import matplotlib.pyplot as plt\n",
    "\n",
    "fig, axes = plt.subplots(1, 2, figsize=(12, 4))\n",
    "\n",
    "sns.histplot(df['carpet_area'], kde=True, ax=axes[0])\n",
    "axes[0].set_title('Histogram with KDE - df')\n",
    "axes[0].set_xlabel('Carpet Area')\n",
    "axes[0].set_ylabel('Frequency')\n",
    "\n",
    "sns.histplot(df_test['carpet_area'], kde=True, ax=axes[1])\n",
    "axes[1].set_title('Histogram with KDE - df_test')\n",
    "axes[1].set_xlabel('Carpet Area')\n",
    "axes[1].set_ylabel('Frequency')\n",
    "\n",
    "plt.tight_layout()\n",
    "plt.show()\n"
   ]
  },
  {
   "cell_type": "code",
   "execution_count": 132,
   "id": "4d9af783-39f1-44f7-80b6-23a73b2d58ab",
   "metadata": {},
   "outputs": [
    {
     "data": {
      "image/png": "[encoded data removed]",
      "text/plain": [
       "<Figure size 864x288 with 2 Axes>"
      ]
     },
     "metadata": {
      "needs_background": "light"
     },
     "output_type": "display_data"
    }
   ],
   "source": [
    "df_reset = df.reset_index(drop=True)\n",
    "df_test_reset = df_test.reset_index(drop=True)\n",
    "fig, axes = plt.subplots(1, 2, figsize=(12, 4))\n",
    "\n",
    "\n",
    "sns.boxplot(x=df_reset['carpet_area'], ax=axes[0])\n",
    "axes[0].set_title('Box Plot - df')\n",
    "axes[0].set_xlabel('Carpet Area')\n",
    "\n",
    "# Boxplot for df_test\n",
    "sns.boxplot(x=df_test_reset['carpet_area'], ax=axes[1])\n",
    "axes[1].set_title('Box Plot - df_test')\n",
    "axes[1].set_xlabel('Carpet Area')\n",
    "\n",
    "plt.tight_layout()\n",
    "plt.show()\n"
   ]
  },
  {
   "cell_type": "markdown",
   "id": "61036226-3aa0-4b41-824e-9981ac49bce8",
   "metadata": {},
   "source": [
    "# Detecting Outliers"
   ]
  },
  {
   "cell_type": "code",
   "execution_count": 30,
   "id": "0e862705-963f-4510-87af-2f9068d6b707",
   "metadata": {},
   "outputs": [
    {
     "data": {
      "text/plain": [
       "(1275.5, 846.5)"
      ]
     },
     "execution_count": 30,
     "metadata": {},
     "output_type": "execute_result"
    }
   ],
   "source": [
    "iqr = df['carpet_area'].quantile(0.75) - df['carpet_area'].quantile(0.25)\n",
    "upper_limit= df['carpet_area'].quantile(0.75) + iqr *1.5\n",
    "lower_limit= df['carpet_area'].quantile(0.75) - iqr *1.5\n",
    "upper_limit,lower_limit"
   ]
  },
  {
   "cell_type": "code",
   "execution_count": 31,
   "id": "44af8301-fc80-469e-bdd2-ad2df2ef5d45",
   "metadata": {},
   "outputs": [
    {
     "data": {
      "text/plain": [
       "55270"
      ]
     },
     "execution_count": 31,
     "metadata": {},
     "output_type": "execute_result"
    }
   ],
   "source": [
    "df[df['carpet_area']>upper_limit].shape[0]"
   ]
  },
  {
   "cell_type": "code",
   "execution_count": 32,
   "id": "f57d4dd3-6811-4cb2-a0d5-9dcf0fac598e",
   "metadata": {},
   "outputs": [
    {
     "data": {
      "text/plain": [
       "100745"
      ]
     },
     "execution_count": 32,
     "metadata": {},
     "output_type": "execute_result"
    }
   ],
   "source": [
    "df[df['carpet_area']< lower_limit].shape[0]"
   ]
  },
  {
   "cell_type": "code",
   "execution_count": 33,
   "id": "44e8794b-7523-40cc-9a35-e112aea45375",
   "metadata": {},
   "outputs": [
    {
     "data": {
      "text/plain": [
       "28.16399254809081"
      ]
     },
     "execution_count": 33,
     "metadata": {},
     "output_type": "execute_result"
    }
   ],
   "source": [
    "(df[df['carpet_area']>upper_limit].shape[0] + df[df['carpet_area']< lower_limit].shape[0]) /df.shape[0]*100"
   ]
  },
  {
   "cell_type": "markdown",
   "id": "fefa68e3-7564-4775-ba1b-64f4c5973897",
   "metadata": {},
   "source": [
    "> 28 % of Data is Outlier.\n",
    "> - If 28% Data is outlier it means it is not outlier"
   ]
  },
  {
   "cell_type": "code",
   "execution_count": 137,
   "id": "39777f91-3f9f-42c9-9520-db3c3d91981e",
   "metadata": {},
   "outputs": [
    {
     "data": {
      "image/png": "[encoded data removed]",
      "text/plain": [
       "<Figure size 864x288 with 2 Axes>"
      ]
     },
     "metadata": {
      "needs_background": "light"
     },
     "output_type": "display_data"
    }
   ],
   "source": [
    "import seaborn as sns\n",
    "import matplotlib.pyplot as plt\n",
    "\n",
    "fig, axes = plt.subplots(1, 2, figsize=(12, 4))\n",
    "\n",
    "sns.histplot(df['property_tax_rate'], kde=True, ax=axes[0])\n",
    "axes[0].set_title('Histogram with KDE - df')\n",
    "axes[0].set_xlabel('Property Tax Rate')\n",
    "axes[0].set_ylabel('Frequency')\n",
    "\n",
    "sns.histplot(df_test['property_tax_rate'], kde=True, ax=axes[1])\n",
    "axes[1].set_title('Histogram with KDE - df_test')\n",
    "axes[1].set_xlabel('Property Tax Rate')\n",
    "axes[1].set_ylabel('Frequency')\n",
    "\n",
    "plt.tight_layout()\n",
    "plt.show()\n"
   ]
  },
  {
   "cell_type": "code",
   "execution_count": null,
   "id": "fbaceede-7870-4566-abe1-303ce0430704",
   "metadata": {},
   "outputs": [],
   "source": []
  },
  {
   "cell_type": "code",
   "execution_count": null,
   "id": "549528f6-021f-4495-a748-f00938a7fb05",
   "metadata": {},
   "outputs": [],
   "source": [
    "import seaborn as sns\n",
    "import matplotlib.pyplot as plt\n",
    "\n",
    "fig, axes = plt.subplots(1, 2, figsize=(12, 6))\n",
    "\n",
    "sns.histplot(df['Estimated Value'], kde=True, ax=axes[0])\n",
    "axes[0].set_title('Histogram with KDE - df')\n",
    "axes[0].set_xlabel('Estimated Value')\n",
    "axes[0].set_ylabel('Frequency')\n",
    "\n",
    "sns.histplot(df_test['Estimated Value'], kde=True, ax=axes[1])\n",
    "axes[1].set_title('Histogram with KDE - df_test')\n",
    "axes[1].set_xlabel('Estimated Value')\n",
    "axes[1].set_ylabel('Frequency')\n",
    "\n",
    "plt.tight_layout()\n",
    "plt.show()\n"
   ]
  },
  {
   "cell_type": "code",
   "execution_count": null,
   "id": "999e00d9-de3a-49d2-a061-4d9ac23ce27d",
   "metadata": {},
   "outputs": [],
   "source": []
  },
  {
   "cell_type": "code",
   "execution_count": null,
   "id": "731732a2-8a42-4f52-8c94-1a824ac98a8b",
   "metadata": {},
   "outputs": [],
   "source": [
    "df.columns.shape"
   ]
  },
  {
   "cell_type": "code",
   "execution_count": null,
   "id": "06de6582-0777-4226-a06e-42dd91f315fb",
   "metadata": {},
   "outputs": [],
   "source": [
    "df_test.columns"
   ]
  },
  {
   "cell_type": "code",
   "execution_count": null,
   "id": "92580600-d385-43cc-a563-74df31934a90",
   "metadata": {},
   "outputs": [],
   "source": []
  },
  {
   "cell_type": "code",
   "execution_count": null,
   "id": "9deeedb4-0eb8-40d7-8db5-8d05207cea25",
   "metadata": {},
   "outputs": [],
   "source": [
    "df['Residential'].unique()"
   ]
  },
  {
   "cell_type": "code",
   "execution_count": 50,
   "id": "4ff8d0c9-0f7b-4e6c-b057-4e6025f37d92",
   "metadata": {},
   "outputs": [
    {
     "data": {
      "image/png": "[encoded data removed]",
      "text/plain": [
       "<Figure size 432x288 with 1 Axes>"
      ]
     },
     "metadata": {
      "needs_background": "light"
     },
     "output_type": "display_data"
    }
   ],
   "source": [
    "df_reset = df.reset_index(drop=True)\n",
    "\n",
    "sns.scatterplot(x=df_reset['crime_rate'],y=df_reset['Sale Price'])\n",
    "plt.grid(True);"
   ]
  },
  {
   "cell_type": "code",
   "execution_count": 51,
   "id": "9bd019b8-73fa-4ea0-9e07-ce51d2cbb00e",
   "metadata": {},
   "outputs": [
    {
     "data": {
      "image/png": "[encoded data removed]",
      "text/plain": [
       "<Figure size 432x288 with 1 Axes>"
      ]
     },
     "metadata": {
      "needs_background": "light"
     },
     "output_type": "display_data"
    }
   ],
   "source": [
    "import pandas as pd\n",
    "import seaborn as sns\n",
    "\n",
    "# Assuming 'df' is your DataFrame\n",
    "# Reset the index to avoid duplicate labels\n",
    "df_reset = df.reset_index(drop=True)\n",
    "\n",
    "# Now, you can use the 'df_reset' DataFrame for plotting\n",
    "sns.scatterplot(x=df_reset['carpet_area'], y=df_reset['Sale Price']);"
   ]
  },
  {
   "cell_type": "code",
   "execution_count": 52,
   "id": "9199c150-d208-4e30-b2b5-98a79f56198c",
   "metadata": {},
   "outputs": [],
   "source": [
    "df = df[df['Sale Price']<0.7e8]"
   ]
  },
  {
   "cell_type": "code",
   "execution_count": 53,
   "id": "0381c8a9-6880-42c8-9dfa-610911c05b71",
   "metadata": {},
   "outputs": [
    {
     "data": {
      "image/png": "[encoded data removed]",
      "text/plain": [
       "<Figure size 432x288 with 1 Axes>"
      ]
     },
     "metadata": {
      "needs_background": "light"
     },
     "output_type": "display_data"
    }
   ],
   "source": [
    "df_reset = df.reset_index(drop=True)\n",
    "\n",
    "# Now, you can use the 'df_reset' DataFrame for plotting\n",
    "sns.scatterplot(x=df_reset['carpet_area'], y=df_reset['Sale Price']);"
   ]
  },
  {
   "cell_type": "code",
   "execution_count": 54,
   "id": "7de97bfe-a3a3-456f-9dde-eb089dc92c34",
   "metadata": {},
   "outputs": [
    {
     "data": {
      "image/png": "[encoded data removed]",
      "text/plain": [
       "<Figure size 432x288 with 1 Axes>"
      ]
     },
     "metadata": {
      "needs_background": "light"
     },
     "output_type": "display_data"
    }
   ],
   "source": [
    "sns.barplot(x=df['num_rooms'],y=df['Sale Price'])\n",
    "plt.xticks(rotation=45);"
   ]
  },
  {
   "cell_type": "code",
   "execution_count": null,
   "id": "9937618b-d08c-443f-abab-a7b841acc2da",
   "metadata": {},
   "outputs": [],
   "source": []
  },
  {
   "cell_type": "code",
   "execution_count": 34,
   "id": "1ba1d09a-9fc6-4c45-b7c2-fa86649ce0b3",
   "metadata": {},
   "outputs": [
    {
     "data": {
      "image/png": "[encoded data removed]",
      "text/plain": [
       "<Figure size 432x288 with 1 Axes>"
      ]
     },
     "metadata": {
      "needs_background": "light"
     },
     "output_type": "display_data"
    }
   ],
   "source": [
    "sns.scatterplot(x=df['distance_to_school'],y=df['Sale Price']);"
   ]
  },
  {
   "cell_type": "code",
   "execution_count": null,
   "id": "dc452b9e-cc0e-4b88-a62a-2d9af9646a26",
   "metadata": {},
   "outputs": [],
   "source": []
  },
  {
   "cell_type": "code",
   "execution_count": 56,
   "id": "5c99932a-9841-4208-9c9a-af24d8203749",
   "metadata": {},
   "outputs": [
    {
     "data": {
      "image/png": "[encoded data removed]",
      "text/plain": [
       "<Figure size 864x288 with 2 Axes>"
      ]
     },
     "metadata": {
      "needs_background": "light"
     },
     "output_type": "display_data"
    }
   ],
   "source": [
    "\n",
    "fig, axes = plt.subplots(1, 2, figsize=(12, 4))\n",
    "\n",
    "sns.scatterplot(x=df['Estimated Value'],y=df['Sale Price'], ax=axes[0])\n",
    "\n",
    "sns.scatterplot(x=df_test['Estimated Value'],y=df_test['Sale Price'], ax=axes[1])\n",
    "\n",
    "plt.tight_layout()\n",
    "plt.show()\n"
   ]
  },
  {
   "cell_type": "code",
   "execution_count": 187,
   "id": "bc166b2a-8aee-466d-ac74-b41c625b9955",
   "metadata": {},
   "outputs": [],
   "source": [
    "df = df[df['Sale Price'] < 0.8e8]\n",
    "df = df[df['Estimated Value'] < 2e8]"
   ]
  },
  {
   "cell_type": "code",
   "execution_count": 58,
   "id": "be7736cd-2b37-427c-9a5f-4e57a7fab804",
   "metadata": {},
   "outputs": [
    {
     "data": {
      "image/png": "[encoded data removed]",
      "text/plain": [
       "<Figure size 432x288 with 1 Axes>"
      ]
     },
     "metadata": {
      "needs_background": "light"
     },
     "output_type": "display_data"
    }
   ],
   "source": [
    "sns.scatterplot(x=df['Estimated Value'],y=df['Sale Price']);"
   ]
  },
  {
   "cell_type": "code",
   "execution_count": null,
   "id": "a32d46ef-7583-423c-a3e7-c83daf58923f",
   "metadata": {},
   "outputs": [],
   "source": [
    "df.columns"
   ]
  },
  {
   "cell_type": "code",
   "execution_count": 36,
   "id": "cfd30af3-2a94-4b5b-bdef-9fc08c96f878",
   "metadata": {},
   "outputs": [
    {
     "data": {
      "image/png": "[encoded data removed]",
      "text/plain": [
       "<Figure size 720x432 with 1 Axes>"
      ]
     },
     "metadata": {
      "needs_background": "light"
     },
     "output_type": "display_data"
    }
   ],
   "source": [
    "import matplotlib.pyplot as plt\n",
    "\n",
    "# Assuming df is your DataFrame with columns 'Sale Price' and 'Year'\n",
    "plt.figure(figsize=(10, 6))  # Adjust the figure size as needed\n",
    "\n",
    "# Line plot between Sale Price and Year\n",
    "plt.plot(df['Year'], df['Sale Price'], marker='o', linestyle='-', color='b')\n",
    "\n",
    "# Set labels and title\n",
    "plt.xlabel('Year')\n",
    "plt.ylabel('Sale Price')\n",
    "plt.title('Line Plot: Sale Price vs Year')\n",
    "\n",
    "# Show the plot\n",
    "plt.grid(True)\n",
    "plt.show()\n"
   ]
  },
  {
   "cell_type": "code",
   "execution_count": null,
   "id": "706c9979-8b08-4480-af4f-f05af90ea5ed",
   "metadata": {},
   "outputs": [],
   "source": []
  },
  {
   "cell_type": "code",
   "execution_count": 59,
   "id": "48536614-9924-4c31-a057-7a8993224542",
   "metadata": {},
   "outputs": [
    {
     "data": {
      "image/png": "[encoded data removed]",
      "text/plain": [
       "<Figure size 1152x432 with 2 Axes>"
      ]
     },
     "metadata": {
      "needs_background": "light"
     },
     "output_type": "display_data"
    },
    {
     "data": {
      "image/png": "[encoded data removed]",
      "text/plain": [
       "<Figure size 1152x432 with 2 Axes>"
      ]
     },
     "metadata": {
      "needs_background": "light"
     },
     "output_type": "display_data"
    },
    {
     "data": {
      "image/png": "[encoded data removed]",
      "text/plain": [
       "<Figure size 1152x432 with 2 Axes>"
      ]
     },
     "metadata": {
      "needs_background": "light"
     },
     "output_type": "display_data"
    },
    {
     "data": {
      "image/png": "[encoded data removed]",
      "text/plain": [
       "<Figure size 1152x432 with 2 Axes>"
      ]
     },
     "metadata": {
      "needs_background": "light"
     },
     "output_type": "display_data"
    }
   ],
   "source": [
    "from copy import deepcopy\n",
    "\n",
    "def log1p_transformation(val):\n",
    "    return np.log1p(val)\n",
    "    \n",
    "import scipy.stats as stats\n",
    "num_cols = ['crime_rate','carpet_area','property_tax_rate','Estimated Value']\n",
    "temp_df = deepcopy (df[num_cols])\n",
    "temp_df1 = deepcopy (df[num_cols])\n",
    "\n",
    "for col in num_cols:\n",
    "    # Original distribution plot\n",
    "    plt.figure(figsize=(16, 6))\n",
    "    plt.subplot(121)  # Adjusted subplot index\n",
    "    stats.probplot(df[col], dist=\"norm\", plot=plt)\n",
    "    plt.title(f'{col} Before Transformation')\n",
    "\n",
    "    # Log1p transformation plot\n",
    "    temp_df1[col] = df[col].apply(log1p_transformation)\n",
    "    plt.subplot(122)  # Adjusted subplot index\n",
    "    stats.probplot(temp_df1[col], dist=\"norm\", plot=plt)\n",
    "    plt.title(f'{col} After Log1p Transformation')\n",
    "\n",
    "    plt.tight_layout()  \n",
    "    plt.show()\n",
    "\n"
   ]
  },
  {
   "cell_type": "code",
   "execution_count": null,
   "id": "d65a16cb-70b2-4537-97ae-5cb1a819d984",
   "metadata": {},
   "outputs": [],
   "source": []
  },
  {
   "cell_type": "code",
   "execution_count": 37,
   "id": "5a93ba3e-af63-417c-aad2-9066c3ccb9dd",
   "metadata": {},
   "outputs": [
    {
     "data": {
      "text/plain": [
       "array([3, 4, 2, 6, 8], dtype=int64)"
      ]
     },
     "execution_count": 37,
     "metadata": {},
     "output_type": "execute_result"
    }
   ],
   "source": [
    "df_test['num_rooms'].unique()"
   ]
  },
  {
   "cell_type": "code",
   "execution_count": 38,
   "id": "c45d4ddb-d6f4-4663-a56a-b315221236ce",
   "metadata": {},
   "outputs": [
    {
     "data": {
      "image/png": "[encoded data removed]",
      "text/plain": [
       "<Figure size 1152x432 with 2 Axes>"
      ]
     },
     "metadata": {
      "needs_background": "light"
     },
     "output_type": "display_data"
    },
    {
     "data": {
      "image/png": "[encoded data removed]",
      "text/plain": [
       "<Figure size 1152x432 with 2 Axes>"
      ]
     },
     "metadata": {
      "needs_background": "light"
     },
     "output_type": "display_data"
    },
    {
     "data": {
      "image/png": "[encoded data removed]",
      "text/plain": [
       "<Figure size 1152x432 with 2 Axes>"
      ]
     },
     "metadata": {
      "needs_background": "light"
     },
     "output_type": "display_data"
    },
    {
     "data": {
      "image/png": "[encoded data removed]",
      "text/plain": [
       "<Figure size 1152x432 with 2 Axes>"
      ]
     },
     "metadata": {
      "needs_background": "light"
     },
     "output_type": "display_data"
    }
   ],
   "source": [
    "from copy import deepcopy\n",
    "import numpy as np\n",
    "import matplotlib.pyplot as plt\n",
    "import scipy.stats as stats\n",
    "\n",
    "\n",
    "def log1p_transformation(val):\n",
    "    return np.log1p(val)\n",
    "\n",
    "num_cols = ['crime_rate','carpet_area','property_tax_rate','Estimated Value']\n",
    "\n",
    "temp_df = deepcopy(df[num_cols])\n",
    "#temp_df1 = deepcopy(df[num_cols])  # Fixed typo in this line\n",
    "\n",
    "for col in num_cols:\n",
    "    plt.figure(figsize=(16, 6))\n",
    "    \n",
    "    # Original distribution plot (histogram)\n",
    "    plt.subplot(121)  # Adjusted subplot index\n",
    "    plt.hist(df[col], bins=20, color='blue', edgecolor='black')\n",
    "    plt.title(f'{col} Before Transformation')\n",
    "\n",
    "    # Log transformation plot\n",
    "    temp_df[col] = df[col].apply(log1p_transformation)\n",
    "    plt.subplot(122)  # Adjusted subplot index\n",
    "    plt.hist(temp_df[col], bins=20, color='green', edgecolor='black')\n",
    "    plt.title(f'{col} After Log Transformation')\n",
    "\n",
    "   \n",
    "    #plt.tight_layout()  # Ensures proper spacing between subplots\n",
    "plt.show()\n"
   ]
  },
  {
   "cell_type": "code",
   "execution_count": null,
   "id": "a3006030-de63-4b20-b0ed-6f3c06626306",
   "metadata": {},
   "outputs": [],
   "source": []
  },
  {
   "cell_type": "code",
   "execution_count": 196,
   "id": "1ab5ef67-8cae-4d6c-ba14-9983926b1e8c",
   "metadata": {},
   "outputs": [],
   "source": [
    "df.drop(columns=['Year','specifications','day','month','Address','Address','distance_to_school','nearby_restaurants','public_transport_availability'],inplace=True)\n",
    "df_test.drop(columns=['Year','specifications','day','month','Address','distance_to_school','nearby_restaurants','public_transport_availability'],inplace=True)"
   ]
  },
  {
   "cell_type": "code",
   "execution_count": null,
   "id": "7ab35297-2f1b-48f0-a99f-3dddee1d3cae",
   "metadata": {},
   "outputs": [],
   "source": []
  },
  {
   "cell_type": "code",
   "execution_count": 197,
   "id": "95eeef77-5b92-45b8-b08c-73292a10fd71",
   "metadata": {},
   "outputs": [],
   "source": [
    "X = df.drop(columns=['Sale Price'])\n",
    "y = df['Sale Price']"
   ]
  },
  {
   "cell_type": "code",
   "execution_count": 198,
   "id": "7f962965-566e-4fcc-a596-f80217d811f3",
   "metadata": {},
   "outputs": [],
   "source": [
    "from sklearn.model_selection import train_test_split\n",
    "X_train, X_test, y_train, y_test = train_test_split(X, y, test_size=0.2, random_state=42)"
   ]
  },
  {
   "cell_type": "code",
   "execution_count": 200,
   "id": "1e987eef-3383-486c-aa6d-873e0b5b24ca",
   "metadata": {},
   "outputs": [
    {
     "data": {
      "text/plain": [
       "((443158, 10), (110790, 10), (443158,), (110790,))"
      ]
     },
     "execution_count": 200,
     "metadata": {},
     "output_type": "execute_result"
    }
   ],
   "source": [
    "X_train.shape, X_test.shape, y_train.shape, y_test.shape"
   ]
  },
  {
   "cell_type": "code",
   "execution_count": null,
   "id": "e084156f-f17d-4552-a203-66975deaa10a",
   "metadata": {},
   "outputs": [],
   "source": []
  },
  {
   "cell_type": "code",
   "execution_count": 201,
   "id": "aab89541-3940-4c27-9db0-3965f2181555",
   "metadata": {},
   "outputs": [
    {
     "data": {
      "text/html": [
       "<div>\n",
       "<style scoped>\n",
       "    .dataframe tbody tr th:only-of-type {\n",
       "        vertical-align: middle;\n",
       "    }\n",
       "\n",
       "    .dataframe tbody tr th {\n",
       "        vertical-align: top;\n",
       "    }\n",
       "\n",
       "    .dataframe thead th {\n",
       "        text-align: right;\n",
       "    }\n",
       "</style>\n",
       "<table border=\"1\" class=\"dataframe\">\n",
       "  <thead>\n",
       "    <tr style=\"text-align: right;\">\n",
       "      <th></th>\n",
       "      <th>crime_rate</th>\n",
       "      <th>renovation_level</th>\n",
       "      <th>num_rooms</th>\n",
       "      <th>Property</th>\n",
       "      <th>amenities_rating</th>\n",
       "      <th>carpet_area</th>\n",
       "      <th>property_tax_rate</th>\n",
       "      <th>Locality</th>\n",
       "      <th>Residential</th>\n",
       "      <th>Estimated Value</th>\n",
       "    </tr>\n",
       "  </thead>\n",
       "  <tbody>\n",
       "    <tr>\n",
       "      <th>31007</th>\n",
       "      <td>4.511836</td>\n",
       "      <td>Minor</td>\n",
       "      <td>2</td>\n",
       "      <td>8</td>\n",
       "      <td>Exceptional</td>\n",
       "      <td>656.0</td>\n",
       "      <td>1.003979</td>\n",
       "      <td>Newington</td>\n",
       "      <td>Condominium</td>\n",
       "      <td>136110.0</td>\n",
       "    </tr>\n",
       "    <tr>\n",
       "      <th>36991</th>\n",
       "      <td>0.728395</td>\n",
       "      <td>Basic</td>\n",
       "      <td>2</td>\n",
       "      <td>8</td>\n",
       "      <td>Below Average</td>\n",
       "      <td>657.0</td>\n",
       "      <td>1.348259</td>\n",
       "      <td>Manchester</td>\n",
       "      <td>Condominium</td>\n",
       "      <td>46900.0</td>\n",
       "    </tr>\n",
       "    <tr>\n",
       "      <th>39042</th>\n",
       "      <td>2.103075</td>\n",
       "      <td>Minor</td>\n",
       "      <td>3</td>\n",
       "      <td>1</td>\n",
       "      <td>Outstanding</td>\n",
       "      <td>1000.0</td>\n",
       "      <td>1.021958</td>\n",
       "      <td>Stratford</td>\n",
       "      <td>Detached House</td>\n",
       "      <td>116900.0</td>\n",
       "    </tr>\n",
       "    <tr>\n",
       "      <th>30353</th>\n",
       "      <td>5.699977</td>\n",
       "      <td>Extensive</td>\n",
       "      <td>3</td>\n",
       "      <td>1</td>\n",
       "      <td>Exceptional</td>\n",
       "      <td>952.0</td>\n",
       "      <td>1.025953</td>\n",
       "      <td>Weston</td>\n",
       "      <td>Detached House</td>\n",
       "      <td>466690.0</td>\n",
       "    </tr>\n",
       "    <tr>\n",
       "      <th>6498</th>\n",
       "      <td>1.399827</td>\n",
       "      <td>Essential</td>\n",
       "      <td>3</td>\n",
       "      <td>1</td>\n",
       "      <td>Unimpressive</td>\n",
       "      <td>1013.0</td>\n",
       "      <td>1.003979</td>\n",
       "      <td>Hamden</td>\n",
       "      <td>Detached House</td>\n",
       "      <td>138950.0</td>\n",
       "    </tr>\n",
       "    <tr>\n",
       "      <th>...</th>\n",
       "      <td>...</td>\n",
       "      <td>...</td>\n",
       "      <td>...</td>\n",
       "      <td>...</td>\n",
       "      <td>...</td>\n",
       "      <td>...</td>\n",
       "      <td>...</td>\n",
       "      <td>...</td>\n",
       "      <td>...</td>\n",
       "      <td>...</td>\n",
       "    </tr>\n",
       "    <tr>\n",
       "      <th>10268</th>\n",
       "      <td>1.637676</td>\n",
       "      <td>Basic</td>\n",
       "      <td>3</td>\n",
       "      <td>1</td>\n",
       "      <td>Unimpressive</td>\n",
       "      <td>957.0</td>\n",
       "      <td>1.021958</td>\n",
       "      <td>Waterbury</td>\n",
       "      <td>Detached House</td>\n",
       "      <td>154120.0</td>\n",
       "    </tr>\n",
       "    <tr>\n",
       "      <th>9179</th>\n",
       "      <td>8.169682</td>\n",
       "      <td>Complete</td>\n",
       "      <td>3</td>\n",
       "      <td>1</td>\n",
       "      <td>Mediocre</td>\n",
       "      <td>1050.0</td>\n",
       "      <td>1.348259</td>\n",
       "      <td>Meriden</td>\n",
       "      <td>Detached House</td>\n",
       "      <td>116200.0</td>\n",
       "    </tr>\n",
       "    <tr>\n",
       "      <th>15839</th>\n",
       "      <td>3.438327</td>\n",
       "      <td>Minor</td>\n",
       "      <td>3</td>\n",
       "      <td>1</td>\n",
       "      <td>Luxurious</td>\n",
       "      <td>982.0</td>\n",
       "      <td>1.025899</td>\n",
       "      <td>Stamford</td>\n",
       "      <td>Detached House</td>\n",
       "      <td>265060.0</td>\n",
       "    </tr>\n",
       "    <tr>\n",
       "      <th>31932</th>\n",
       "      <td>2.795619</td>\n",
       "      <td>Minor</td>\n",
       "      <td>2</td>\n",
       "      <td>8</td>\n",
       "      <td>Superb</td>\n",
       "      <td>715.0</td>\n",
       "      <td>1.021958</td>\n",
       "      <td>Naugatuck</td>\n",
       "      <td>Condominium</td>\n",
       "      <td>83800.0</td>\n",
       "    </tr>\n",
       "    <tr>\n",
       "      <th>21958</th>\n",
       "      <td>5.293129</td>\n",
       "      <td>Premium</td>\n",
       "      <td>3</td>\n",
       "      <td>1</td>\n",
       "      <td>Outstanding</td>\n",
       "      <td>1009.0</td>\n",
       "      <td>1.021958</td>\n",
       "      <td>Berlin</td>\n",
       "      <td>Detached House</td>\n",
       "      <td>238400.0</td>\n",
       "    </tr>\n",
       "  </tbody>\n",
       "</table>\n",
       "<p>443158 rows × 10 columns</p>\n",
       "</div>"
      ],
      "text/plain": [
       "       crime_rate renovation_level  num_rooms  Property amenities_rating  \\\n",
       "31007    4.511836            Minor          2         8      Exceptional   \n",
       "36991    0.728395            Basic          2         8    Below Average   \n",
       "39042    2.103075            Minor          3         1      Outstanding   \n",
       "30353    5.699977        Extensive          3         1      Exceptional   \n",
       "6498     1.399827        Essential          3         1     Unimpressive   \n",
       "...           ...              ...        ...       ...              ...   \n",
       "10268    1.637676            Basic          3         1     Unimpressive   \n",
       "9179     8.169682         Complete          3         1         Mediocre   \n",
       "15839    3.438327            Minor          3         1        Luxurious   \n",
       "31932    2.795619            Minor          2         8           Superb   \n",
       "21958    5.293129          Premium          3         1      Outstanding   \n",
       "\n",
       "       carpet_area  property_tax_rate    Locality     Residential  \\\n",
       "31007        656.0           1.003979   Newington     Condominium   \n",
       "36991        657.0           1.348259  Manchester     Condominium   \n",
       "39042       1000.0           1.021958   Stratford  Detached House   \n",
       "30353        952.0           1.025953      Weston  Detached House   \n",
       "6498        1013.0           1.003979      Hamden  Detached House   \n",
       "...            ...                ...         ...             ...   \n",
       "10268        957.0           1.021958   Waterbury  Detached House   \n",
       "9179        1050.0           1.348259     Meriden  Detached House   \n",
       "15839        982.0           1.025899    Stamford  Detached House   \n",
       "31932        715.0           1.021958   Naugatuck     Condominium   \n",
       "21958       1009.0           1.021958      Berlin  Detached House   \n",
       "\n",
       "       Estimated Value  \n",
       "31007         136110.0  \n",
       "36991          46900.0  \n",
       "39042         116900.0  \n",
       "30353         466690.0  \n",
       "6498          138950.0  \n",
       "...                ...  \n",
       "10268         154120.0  \n",
       "9179          116200.0  \n",
       "15839         265060.0  \n",
       "31932          83800.0  \n",
       "21958         238400.0  \n",
       "\n",
       "[443158 rows x 10 columns]"
      ]
     },
     "execution_count": 201,
     "metadata": {},
     "output_type": "execute_result"
    }
   ],
   "source": [
    "X_train"
   ]
  },
  {
   "cell_type": "code",
   "execution_count": 202,
   "id": "d5d8707b-5c5a-4ebb-a338-87d9ef8696b4",
   "metadata": {},
   "outputs": [],
   "source": [
    "from sklearn.compose import ColumnTransformer\n",
    "from sklearn.pipeline import Pipeline, FeatureUnion\n",
    "from sklearn.impute import SimpleImputer\n",
    "from sklearn.preprocessing import RobustScaler, OneHotEncoder, OrdinalEncoder, FunctionTransformer\n",
    "import numpy as np\n",
    "\n",
    "#def custom_num_rooms_transformer(X):\n",
    "#    return X.map({'Two rooms': 2, 'Three rooms': 3, 'Six rooms': 6, 'Four rooms': 4, 'Eight rooms': 8})\n",
    "\n",
    "numeric_cols = [0, 5,6,9]\n",
    "categorical_cols_ohe = [7,8]\n",
    "categorical_cols_ord = [1, 4]\n",
    "\n",
    "numeric_transformer = Pipeline(steps=[\n",
    "    ('imputer', SimpleImputer(strategy='median')),\n",
    "    ('log_transformer', FunctionTransformer(np.log1p, validate=True)),\n",
    "    ('scaler', RobustScaler())\n",
    "])\n",
    "\n",
    "categorical_transformer_ohe = Pipeline(steps=[\n",
    "    ('imputer', SimpleImputer(strategy='most_frequent')),\n",
    "    ('onehot', OneHotEncoder(sparse=False))\n",
    "])\n",
    "\n",
    "categorical_transformer_ord = Pipeline(steps=[\n",
    "    ('imputer', SimpleImputer(strategy='most_frequent')),\n",
    "    ('ordinal', OrdinalEncoder())\n",
    "])\n",
    "\n",
    "\n",
    "\n",
    "preprocessor = ColumnTransformer(\n",
    "    transformers=[\n",
    "        ('num', numeric_transformer, numeric_cols),\n",
    "        ('cat_ohe', categorical_transformer_ohe, categorical_cols_ohe),\n",
    "        ('cat_ord', categorical_transformer_ord, categorical_cols_ord)\n",
    "    ],remainder='passthrough')\n"
   ]
  },
  {
   "cell_type": "code",
   "execution_count": null,
   "id": "eb41a8c3-4b6c-4188-99a6-b65127c577fb",
   "metadata": {},
   "outputs": [],
   "source": []
  },
  {
   "cell_type": "code",
   "execution_count": 203,
   "id": "d91b77b4-daa9-4a00-a8c8-d8c5bf8a5685",
   "metadata": {},
   "outputs": [
    {
     "name": "stderr",
     "output_type": "stream",
     "text": [
      "C:\\Users\\LENOVO\\AppData\\Roaming\\Python\\Python310\\site-packages\\sklearn\\preprocessing\\_encoders.py:828: FutureWarning: `sparse` was renamed to `sparse_output` in version 1.2 and will be removed in 1.4. `sparse_output` is ignored unless you leave `sparse` to its default value.\n",
      "  warnings.warn(\n"
     ]
    },
    {
     "data": {
      "text/html": [
       "<div>\n",
       "<style scoped>\n",
       "    .dataframe tbody tr th:only-of-type {\n",
       "        vertical-align: middle;\n",
       "    }\n",
       "\n",
       "    .dataframe tbody tr th {\n",
       "        vertical-align: top;\n",
       "    }\n",
       "\n",
       "    .dataframe thead th {\n",
       "        text-align: right;\n",
       "    }\n",
       "</style>\n",
       "<table border=\"1\" class=\"dataframe\">\n",
       "  <thead>\n",
       "    <tr style=\"text-align: right;\">\n",
       "      <th></th>\n",
       "      <th>0</th>\n",
       "      <th>1</th>\n",
       "      <th>2</th>\n",
       "      <th>3</th>\n",
       "      <th>4</th>\n",
       "      <th>5</th>\n",
       "      <th>6</th>\n",
       "      <th>7</th>\n",
       "      <th>8</th>\n",
       "      <th>9</th>\n",
       "      <th>...</th>\n",
       "      <th>173</th>\n",
       "      <th>174</th>\n",
       "      <th>175</th>\n",
       "      <th>176</th>\n",
       "      <th>177</th>\n",
       "      <th>178</th>\n",
       "      <th>179</th>\n",
       "      <th>180</th>\n",
       "      <th>181</th>\n",
       "      <th>182</th>\n",
       "    </tr>\n",
       "  </thead>\n",
       "  <tbody>\n",
       "    <tr>\n",
       "      <th>0</th>\n",
       "      <td>-0.135389</td>\n",
       "      <td>-2.882534</td>\n",
       "      <td>-0.073089</td>\n",
       "      <td>-0.224312</td>\n",
       "      <td>0.0</td>\n",
       "      <td>0.0</td>\n",
       "      <td>0.0</td>\n",
       "      <td>0.0</td>\n",
       "      <td>0.0</td>\n",
       "      <td>0.0</td>\n",
       "      <td>...</td>\n",
       "      <td>0.0</td>\n",
       "      <td>1.0</td>\n",
       "      <td>0.0</td>\n",
       "      <td>0.0</td>\n",
       "      <td>0.0</td>\n",
       "      <td>0.0</td>\n",
       "      <td>6.0</td>\n",
       "      <td>2.0</td>\n",
       "      <td>2.0</td>\n",
       "      <td>8.0</td>\n",
       "    </tr>\n",
       "    <tr>\n",
       "      <th>1</th>\n",
       "      <td>-1.529490</td>\n",
       "      <td>-2.871868</td>\n",
       "      <td>0.992023</td>\n",
       "      <td>-1.461652</td>\n",
       "      <td>0.0</td>\n",
       "      <td>0.0</td>\n",
       "      <td>0.0</td>\n",
       "      <td>0.0</td>\n",
       "      <td>0.0</td>\n",
       "      <td>0.0</td>\n",
       "      <td>...</td>\n",
       "      <td>0.0</td>\n",
       "      <td>1.0</td>\n",
       "      <td>0.0</td>\n",
       "      <td>0.0</td>\n",
       "      <td>0.0</td>\n",
       "      <td>0.0</td>\n",
       "      <td>1.0</td>\n",
       "      <td>0.0</td>\n",
       "      <td>2.0</td>\n",
       "      <td>8.0</td>\n",
       "    </tr>\n",
       "    <tr>\n",
       "      <th>2</th>\n",
       "      <td>-0.826010</td>\n",
       "      <td>0.070412</td>\n",
       "      <td>-0.013084</td>\n",
       "      <td>-0.401003</td>\n",
       "      <td>0.0</td>\n",
       "      <td>0.0</td>\n",
       "      <td>0.0</td>\n",
       "      <td>0.0</td>\n",
       "      <td>0.0</td>\n",
       "      <td>0.0</td>\n",
       "      <td>...</td>\n",
       "      <td>0.0</td>\n",
       "      <td>0.0</td>\n",
       "      <td>1.0</td>\n",
       "      <td>0.0</td>\n",
       "      <td>0.0</td>\n",
       "      <td>0.0</td>\n",
       "      <td>6.0</td>\n",
       "      <td>6.0</td>\n",
       "      <td>3.0</td>\n",
       "      <td>1.0</td>\n",
       "    </tr>\n",
       "    <tr>\n",
       "      <th>3</th>\n",
       "      <td>0.099272</td>\n",
       "      <td>-0.274204</td>\n",
       "      <td>0.000177</td>\n",
       "      <td>1.206701</td>\n",
       "      <td>0.0</td>\n",
       "      <td>0.0</td>\n",
       "      <td>0.0</td>\n",
       "      <td>0.0</td>\n",
       "      <td>0.0</td>\n",
       "      <td>0.0</td>\n",
       "      <td>...</td>\n",
       "      <td>0.0</td>\n",
       "      <td>0.0</td>\n",
       "      <td>1.0</td>\n",
       "      <td>0.0</td>\n",
       "      <td>0.0</td>\n",
       "      <td>0.0</td>\n",
       "      <td>4.0</td>\n",
       "      <td>2.0</td>\n",
       "      <td>3.0</td>\n",
       "      <td>1.0</td>\n",
       "    </tr>\n",
       "    <tr>\n",
       "      <th>4</th>\n",
       "      <td>-1.134951</td>\n",
       "      <td>0.160903</td>\n",
       "      <td>-0.073089</td>\n",
       "      <td>-0.200329</td>\n",
       "      <td>0.0</td>\n",
       "      <td>0.0</td>\n",
       "      <td>0.0</td>\n",
       "      <td>0.0</td>\n",
       "      <td>0.0</td>\n",
       "      <td>0.0</td>\n",
       "      <td>...</td>\n",
       "      <td>0.0</td>\n",
       "      <td>0.0</td>\n",
       "      <td>1.0</td>\n",
       "      <td>0.0</td>\n",
       "      <td>0.0</td>\n",
       "      <td>0.0</td>\n",
       "      <td>3.0</td>\n",
       "      <td>9.0</td>\n",
       "      <td>3.0</td>\n",
       "      <td>1.0</td>\n",
       "    </tr>\n",
       "    <tr>\n",
       "      <th>...</th>\n",
       "      <td>...</td>\n",
       "      <td>...</td>\n",
       "      <td>...</td>\n",
       "      <td>...</td>\n",
       "      <td>...</td>\n",
       "      <td>...</td>\n",
       "      <td>...</td>\n",
       "      <td>...</td>\n",
       "      <td>...</td>\n",
       "      <td>...</td>\n",
       "      <td>...</td>\n",
       "      <td>...</td>\n",
       "      <td>...</td>\n",
       "      <td>...</td>\n",
       "      <td>...</td>\n",
       "      <td>...</td>\n",
       "      <td>...</td>\n",
       "      <td>...</td>\n",
       "      <td>...</td>\n",
       "      <td>...</td>\n",
       "      <td>...</td>\n",
       "    </tr>\n",
       "    <tr>\n",
       "      <th>443153</th>\n",
       "      <td>-1.021349</td>\n",
       "      <td>-0.237506</td>\n",
       "      <td>-0.013084</td>\n",
       "      <td>-0.079994</td>\n",
       "      <td>0.0</td>\n",
       "      <td>0.0</td>\n",
       "      <td>0.0</td>\n",
       "      <td>0.0</td>\n",
       "      <td>0.0</td>\n",
       "      <td>0.0</td>\n",
       "      <td>...</td>\n",
       "      <td>0.0</td>\n",
       "      <td>0.0</td>\n",
       "      <td>1.0</td>\n",
       "      <td>0.0</td>\n",
       "      <td>0.0</td>\n",
       "      <td>0.0</td>\n",
       "      <td>1.0</td>\n",
       "      <td>9.0</td>\n",
       "      <td>3.0</td>\n",
       "      <td>1.0</td>\n",
       "    </tr>\n",
       "    <tr>\n",
       "      <th>443154</th>\n",
       "      <td>0.476495</td>\n",
       "      <td>0.412241</td>\n",
       "      <td>0.992023</td>\n",
       "      <td>-0.407978</td>\n",
       "      <td>0.0</td>\n",
       "      <td>0.0</td>\n",
       "      <td>0.0</td>\n",
       "      <td>0.0</td>\n",
       "      <td>0.0</td>\n",
       "      <td>0.0</td>\n",
       "      <td>...</td>\n",
       "      <td>0.0</td>\n",
       "      <td>0.0</td>\n",
       "      <td>1.0</td>\n",
       "      <td>0.0</td>\n",
       "      <td>0.0</td>\n",
       "      <td>0.0</td>\n",
       "      <td>2.0</td>\n",
       "      <td>5.0</td>\n",
       "      <td>3.0</td>\n",
       "      <td>1.0</td>\n",
       "    </tr>\n",
       "    <tr>\n",
       "      <th>443155</th>\n",
       "      <td>-0.395792</td>\n",
       "      <td>-0.056843</td>\n",
       "      <td>0.000000</td>\n",
       "      <td>0.549716</td>\n",
       "      <td>0.0</td>\n",
       "      <td>0.0</td>\n",
       "      <td>0.0</td>\n",
       "      <td>0.0</td>\n",
       "      <td>0.0</td>\n",
       "      <td>0.0</td>\n",
       "      <td>...</td>\n",
       "      <td>0.0</td>\n",
       "      <td>0.0</td>\n",
       "      <td>1.0</td>\n",
       "      <td>0.0</td>\n",
       "      <td>0.0</td>\n",
       "      <td>0.0</td>\n",
       "      <td>6.0</td>\n",
       "      <td>3.0</td>\n",
       "      <td>3.0</td>\n",
       "      <td>1.0</td>\n",
       "    </tr>\n",
       "    <tr>\n",
       "      <th>443156</th>\n",
       "      <td>-0.583839</td>\n",
       "      <td>-2.279448</td>\n",
       "      <td>-0.013084</td>\n",
       "      <td>-0.787597</td>\n",
       "      <td>0.0</td>\n",
       "      <td>0.0</td>\n",
       "      <td>0.0</td>\n",
       "      <td>0.0</td>\n",
       "      <td>0.0</td>\n",
       "      <td>0.0</td>\n",
       "      <td>...</td>\n",
       "      <td>0.0</td>\n",
       "      <td>1.0</td>\n",
       "      <td>0.0</td>\n",
       "      <td>0.0</td>\n",
       "      <td>0.0</td>\n",
       "      <td>0.0</td>\n",
       "      <td>6.0</td>\n",
       "      <td>8.0</td>\n",
       "      <td>2.0</td>\n",
       "      <td>8.0</td>\n",
       "    </tr>\n",
       "    <tr>\n",
       "      <th>443157</th>\n",
       "      <td>0.023965</td>\n",
       "      <td>0.133183</td>\n",
       "      <td>-0.013084</td>\n",
       "      <td>0.426606</td>\n",
       "      <td>0.0</td>\n",
       "      <td>0.0</td>\n",
       "      <td>0.0</td>\n",
       "      <td>0.0</td>\n",
       "      <td>0.0</td>\n",
       "      <td>0.0</td>\n",
       "      <td>...</td>\n",
       "      <td>0.0</td>\n",
       "      <td>0.0</td>\n",
       "      <td>1.0</td>\n",
       "      <td>0.0</td>\n",
       "      <td>0.0</td>\n",
       "      <td>0.0</td>\n",
       "      <td>8.0</td>\n",
       "      <td>6.0</td>\n",
       "      <td>3.0</td>\n",
       "      <td>1.0</td>\n",
       "    </tr>\n",
       "  </tbody>\n",
       "</table>\n",
       "<p>443158 rows × 183 columns</p>\n",
       "</div>"
      ],
      "text/plain": [
       "             0         1         2         3    4    5    6    7    8    9    \\\n",
       "0      -0.135389 -2.882534 -0.073089 -0.224312  0.0  0.0  0.0  0.0  0.0  0.0   \n",
       "1      -1.529490 -2.871868  0.992023 -1.461652  0.0  0.0  0.0  0.0  0.0  0.0   \n",
       "2      -0.826010  0.070412 -0.013084 -0.401003  0.0  0.0  0.0  0.0  0.0  0.0   \n",
       "3       0.099272 -0.274204  0.000177  1.206701  0.0  0.0  0.0  0.0  0.0  0.0   \n",
       "4      -1.134951  0.160903 -0.073089 -0.200329  0.0  0.0  0.0  0.0  0.0  0.0   \n",
       "...          ...       ...       ...       ...  ...  ...  ...  ...  ...  ...   \n",
       "443153 -1.021349 -0.237506 -0.013084 -0.079994  0.0  0.0  0.0  0.0  0.0  0.0   \n",
       "443154  0.476495  0.412241  0.992023 -0.407978  0.0  0.0  0.0  0.0  0.0  0.0   \n",
       "443155 -0.395792 -0.056843  0.000000  0.549716  0.0  0.0  0.0  0.0  0.0  0.0   \n",
       "443156 -0.583839 -2.279448 -0.013084 -0.787597  0.0  0.0  0.0  0.0  0.0  0.0   \n",
       "443157  0.023965  0.133183 -0.013084  0.426606  0.0  0.0  0.0  0.0  0.0  0.0   \n",
       "\n",
       "        ...  173  174  175  176  177  178  179  180  181  182  \n",
       "0       ...  0.0  1.0  0.0  0.0  0.0  0.0  6.0  2.0  2.0  8.0  \n",
       "1       ...  0.0  1.0  0.0  0.0  0.0  0.0  1.0  0.0  2.0  8.0  \n",
       "2       ...  0.0  0.0  1.0  0.0  0.0  0.0  6.0  6.0  3.0  1.0  \n",
       "3       ...  0.0  0.0  1.0  0.0  0.0  0.0  4.0  2.0  3.0  1.0  \n",
       "4       ...  0.0  0.0  1.0  0.0  0.0  0.0  3.0  9.0  3.0  1.0  \n",
       "...     ...  ...  ...  ...  ...  ...  ...  ...  ...  ...  ...  \n",
       "443153  ...  0.0  0.0  1.0  0.0  0.0  0.0  1.0  9.0  3.0  1.0  \n",
       "443154  ...  0.0  0.0  1.0  0.0  0.0  0.0  2.0  5.0  3.0  1.0  \n",
       "443155  ...  0.0  0.0  1.0  0.0  0.0  0.0  6.0  3.0  3.0  1.0  \n",
       "443156  ...  0.0  1.0  0.0  0.0  0.0  0.0  6.0  8.0  2.0  8.0  \n",
       "443157  ...  0.0  0.0  1.0  0.0  0.0  0.0  8.0  6.0  3.0  1.0  \n",
       "\n",
       "[443158 rows x 183 columns]"
      ]
     },
     "execution_count": 203,
     "metadata": {},
     "output_type": "execute_result"
    }
   ],
   "source": [
    "X_train_transformed = preprocessor.fit_transform(X_train)\n",
    "X_test_transformed = preprocessor.transform(X_test)\n",
    "pd.DataFrame(X_train_transformed)\n"
   ]
  },
  {
   "cell_type": "code",
   "execution_count": 204,
   "id": "87cca8c7-6ef4-445b-b9bf-ce97a3c72e42",
   "metadata": {},
   "outputs": [],
   "source": [
    "from xgboost import XGBRegressor\n",
    "pipeline = Pipeline(steps=[('preprocessor', preprocessor),\n",
    "                             ('xgboost', XGBRegressor(random_state=42))])"
   ]
  },
  {
   "cell_type": "code",
   "execution_count": 205,
   "id": "e8df53e4-35e9-4080-8648-1b44f1b8d607",
   "metadata": {},
   "outputs": [
    {
     "name": "stderr",
     "output_type": "stream",
     "text": [
      "C:\\Users\\LENOVO\\AppData\\Roaming\\Python\\Python310\\site-packages\\sklearn\\preprocessing\\_encoders.py:828: FutureWarning: `sparse` was renamed to `sparse_output` in version 1.2 and will be removed in 1.4. `sparse_output` is ignored unless you leave `sparse` to its default value.\n",
      "  warnings.warn(\n"
     ]
    }
   ],
   "source": [
    "pipeline.fit(X_train, y_train)\n",
    "\n",
    "y_pred = pipeline.predict(X_test)"
   ]
  },
  {
   "cell_type": "code",
   "execution_count": 206,
   "id": "6732147c-efed-4f4d-8794-3b793570e679",
   "metadata": {},
   "outputs": [
    {
     "name": "stdout",
     "output_type": "stream",
     "text": [
      "Mean Absolute Error: 92535.69327804972\n",
      "Mean Squared Error: 128625914738.32283\n",
      "R-squared (R2) Score: 0.6244013020557181\n"
     ]
    }
   ],
   "source": [
    "from sklearn.metrics import mean_absolute_error, mean_squared_error, r2_score\n",
    "\n",
    "mae = mean_absolute_error(y_test, y_pred)\n",
    "print(f'Mean Absolute Error: {mae}')\n",
    "\n",
    "# MSE (Mean Squared Error)\n",
    "mse = mean_squared_error(y_test, y_pred)\n",
    "print(f'Mean Squared Error: {mse}')\n",
    "\n",
    "# R2 Score\n",
    "r2 = r2_score(y_test, y_pred)\n",
    "print(f'R-squared (R2) Score: {r2}')\n"
   ]
  },
  {
   "cell_type": "code",
   "execution_count": null,
   "id": "70b56c98-2c06-4b2f-9ced-36350c70b712",
   "metadata": {},
   "outputs": [],
   "source": []
  },
  {
   "cell_type": "code",
   "execution_count": null,
   "id": "a0094322-71f0-45b2-b674-1f7e98f6bc06",
   "metadata": {},
   "outputs": [],
   "source": []
  },
  {
   "cell_type": "code",
   "execution_count": 49,
   "id": "904ab0c4-6776-465c-821e-b547e0c471e7",
   "metadata": {},
   "outputs": [],
   "source": [
    "from sklearn.ensemble import RandomForestRegressor"
   ]
  },
  {
   "cell_type": "code",
   "execution_count": 50,
   "id": "6a488d5b-5f3b-4cf2-9ec4-58d17ed723b4",
   "metadata": {},
   "outputs": [
    {
     "name": "stderr",
     "output_type": "stream",
     "text": [
      "C:\\Users\\LENOVO\\AppData\\Roaming\\Python\\Python310\\site-packages\\sklearn\\preprocessing\\_encoders.py:828: FutureWarning: `sparse` was renamed to `sparse_output` in version 1.2 and will be removed in 1.4. `sparse_output` is ignored unless you leave `sparse` to its default value.\n",
      "  warnings.warn(\n"
     ]
    }
   ],
   "source": [
    "pipeline = Pipeline(steps=[('preprocessor', preprocessor),\n",
    "                             ('model', RandomForestRegressor(random_state=42))])\n",
    "\n",
    "pipeline.fit(X_train, y_train)\n",
    "\n",
    "y_pred = pipeline.predict(X_test)"
   ]
  },
  {
   "cell_type": "code",
   "execution_count": 51,
   "id": "b11ffe67-bcbd-4314-b052-33b2ed09fba4",
   "metadata": {},
   "outputs": [
    {
     "name": "stdout",
     "output_type": "stream",
     "text": [
      "Mean Absolute Error: 89336.85131119385\n",
      "Mean Squared Error: 134034416750.20215\n",
      "R-squared (R2) Score: 0.6086080125181965\n"
     ]
    }
   ],
   "source": [
    "from sklearn.metrics import mean_absolute_error, mean_squared_error, r2_score\n",
    "\n",
    "# Assuming y_true and y_pred are your true and predicted values, respectively\n",
    "# Replace them with your actual true and predicted values\n",
    "\n",
    "# MAE (Mean Absolute Error)\n",
    "mae = mean_absolute_error(y_test, y_pred)\n",
    "print(f'Mean Absolute Error: {mae}')\n",
    "\n",
    "# MSE (Mean Squared Error)\n",
    "mse = mean_squared_error(y_test, y_pred)\n",
    "print(f'Mean Squared Error: {mse}')\n",
    "\n",
    "# R2 Score\n",
    "r2 = r2_score(y_test, y_pred)\n",
    "print(f'R-squared (R2) Score: {r2}')\n"
   ]
  },
  {
   "cell_type": "code",
   "execution_count": null,
   "id": "73f2328d-d1d6-4ba2-a086-53b0e2a23e14",
   "metadata": {},
   "outputs": [],
   "source": []
  },
  {
   "cell_type": "code",
   "execution_count": 207,
   "id": "671b44e8-f9af-49c5-b464-05f619192d13",
   "metadata": {},
   "outputs": [],
   "source": [
    "X_train,y_train = df.drop(columns=['Sale Price']),df['Sale Price']"
   ]
  },
  {
   "cell_type": "code",
   "execution_count": 208,
   "id": "c9bfd919-6798-4e0d-b9e5-bd8babcf4d42",
   "metadata": {},
   "outputs": [],
   "source": [
    "from xgboost import XGBRegressor\n",
    "from sklearn.ensemble import RandomForestRegressor\n",
    "from sklearn.metrics import mean_absolute_error, mean_squared_error, r2_score\n",
    "from sklearn.model_selection import train_test_split, RandomizedSearchCV\n",
    "from sklearn.compose import ColumnTransformer\n",
    "from sklearn.pipeline import Pipeline\n",
    "from sklearn.impute import SimpleImputer\n",
    "from sklearn.preprocessing import RobustScaler, OneHotEncoder, OrdinalEncoder, FunctionTransformer\n",
    "import numpy as np\n",
    "import pandas as pd\n",
    "from xgboost import XGBRegressor"
   ]
  },
  {
   "cell_type": "markdown",
   "id": "20b0c911-f8ab-4e35-893c-ba62524ea042",
   "metadata": {},
   "source": [
    "# Feature Engineering Pipeline"
   ]
  },
  {
   "cell_type": "code",
   "execution_count": 209,
   "id": "ee1daba9-eaa4-4d7e-a32d-786b7e59189c",
   "metadata": {},
   "outputs": [],
   "source": [
    "from sklearn.compose import ColumnTransformer\n",
    "from sklearn.pipeline import Pipeline, FeatureUnion\n",
    "from sklearn.impute import SimpleImputer\n",
    "from sklearn.preprocessing import RobustScaler, OneHotEncoder, OrdinalEncoder, FunctionTransformer\n",
    "import numpy as np\n",
    "\n",
    "#def custom_num_rooms_transformer(X):\n",
    "#    return X.map({'Two rooms': 2, 'Three rooms': 3, 'Six rooms': 6, 'Four rooms': 4, 'Eight rooms': 8})\n",
    "\n",
    "numeric_cols = [0, 5,6,9]\n",
    "categorical_cols_ohe = [7,8]\n",
    "categorical_cols_ord = [1, 4]\n",
    "\n",
    "numeric_transformer = Pipeline(steps=[\n",
    "    ('imputer', SimpleImputer(strategy='median')),\n",
    "    ('log_transformer', FunctionTransformer(np.log1p, validate=True)),\n",
    "    ('scaler', RobustScaler())\n",
    "])\n",
    "\n",
    "categorical_transformer_ohe = Pipeline(steps=[\n",
    "    ('imputer', SimpleImputer(strategy='most_frequent')),\n",
    "    ('onehot', OneHotEncoder(sparse=False))\n",
    "])\n",
    "\n",
    "categorical_transformer_ord = Pipeline(steps=[\n",
    "    ('imputer', SimpleImputer(strategy='most_frequent')),\n",
    "    ('ordinal', OrdinalEncoder())\n",
    "])\n",
    "\n",
    "\n",
    "\n",
    "preprocessor = ColumnTransformer(\n",
    "    transformers=[\n",
    "        ('num', numeric_transformer, numeric_cols),\n",
    "        ('cat_ohe', categorical_transformer_ohe, categorical_cols_ohe),\n",
    "        ('cat_ord', categorical_transformer_ord, categorical_cols_ord)\n",
    "    ],remainder='passthrough')\n",
    "\n",
    "\n",
    "pipeline = Pipeline(steps=[('preprocessor', preprocessor),\n",
    "                             ('xgboost', XGBRegressor(random_state=42))])"
   ]
  },
  {
   "cell_type": "code",
   "execution_count": 210,
   "id": "8a743c54-bab7-420e-a4df-53ccd8f8d42e",
   "metadata": {},
   "outputs": [
    {
     "name": "stderr",
     "output_type": "stream",
     "text": [
      "C:\\Users\\LENOVO\\AppData\\Roaming\\Python\\Python310\\site-packages\\sklearn\\preprocessing\\_encoders.py:828: FutureWarning: `sparse` was renamed to `sparse_output` in version 1.2 and will be removed in 1.4. `sparse_output` is ignored unless you leave `sparse` to its default value.\n",
      "  warnings.warn(\n"
     ]
    },
    {
     "data": {
      "text/html": [
       "<style>#sk-container-id-5 {color: black;background-color: white;}#sk-container-id-5 pre{padding: 0;}#sk-container-id-5 div.sk-toggleable {background-color: white;}#sk-container-id-5 label.sk-toggleable__label {cursor: pointer;display: block;width: 100%;margin-bottom: 0;padding: 0.3em;box-sizing: border-box;text-align: center;}#sk-container-id-5 label.sk-toggleable__label-arrow:before {content: \"▸\";float: left;margin-right: 0.25em;color: #696969;}#sk-container-id-5 label.sk-toggleable__label-arrow:hover:before {color: black;}#sk-container-id-5 div.sk-estimator:hover label.sk-toggleable__label-arrow:before {color: black;}#sk-container-id-5 div.sk-toggleable__content {max-height: 0;max-width: 0;overflow: hidden;text-align: left;background-color: #f0f8ff;}#sk-container-id-5 div.sk-toggleable__content pre {margin: 0.2em;color: black;border-radius: 0.25em;background-color: #f0f8ff;}#sk-container-id-5 input.sk-toggleable__control:checked~div.sk-toggleable__content {max-height: 200px;max-width: 100%;overflow: auto;}#sk-container-id-5 input.sk-toggleable__control:checked~label.sk-toggleable__label-arrow:before {content: \"▾\";}#sk-container-id-5 div.sk-estimator input.sk-toggleable__control:checked~label.sk-toggleable__label {background-color: #d4ebff;}#sk-container-id-5 div.sk-label input.sk-toggleable__control:checked~label.sk-toggleable__label {background-color: #d4ebff;}#sk-container-id-5 input.sk-hidden--visually {border: 0;clip: rect(1px 1px 1px 1px);clip: rect(1px, 1px, 1px, 1px);height: 1px;margin: -1px;overflow: hidden;padding: 0;position: absolute;width: 1px;}#sk-container-id-5 div.sk-estimator {font-family: monospace;background-color: #f0f8ff;border: 1px dotted black;border-radius: 0.25em;box-sizing: border-box;margin-bottom: 0.5em;}#sk-container-id-5 div.sk-estimator:hover {background-color: #d4ebff;}#sk-container-id-5 div.sk-parallel-item::after {content: \"\";width: 100%;border-bottom: 1px solid gray;flex-grow: 1;}#sk-container-id-5 div.sk-label:hover label.sk-toggleable__label {background-color: #d4ebff;}#sk-container-id-5 div.sk-serial::before {content: \"\";position: absolute;border-left: 1px solid gray;box-sizing: border-box;top: 0;bottom: 0;left: 50%;z-index: 0;}#sk-container-id-5 div.sk-serial {display: flex;flex-direction: column;align-items: center;background-color: white;padding-right: 0.2em;padding-left: 0.2em;position: relative;}#sk-container-id-5 div.sk-item {position: relative;z-index: 1;}#sk-container-id-5 div.sk-parallel {display: flex;align-items: stretch;justify-content: center;background-color: white;position: relative;}#sk-container-id-5 div.sk-item::before, #sk-container-id-5 div.sk-parallel-item::before {content: \"\";position: absolute;border-left: 1px solid gray;box-sizing: border-box;top: 0;bottom: 0;left: 50%;z-index: -1;}#sk-container-id-5 div.sk-parallel-item {display: flex;flex-direction: column;z-index: 1;position: relative;background-color: white;}#sk-container-id-5 div.sk-parallel-item:first-child::after {align-self: flex-end;width: 50%;}#sk-container-id-5 div.sk-parallel-item:last-child::after {align-self: flex-start;width: 50%;}#sk-container-id-5 div.sk-parallel-item:only-child::after {width: 0;}#sk-container-id-5 div.sk-dashed-wrapped {border: 1px dashed gray;margin: 0 0.4em 0.5em 0.4em;box-sizing: border-box;padding-bottom: 0.4em;background-color: white;}#sk-container-id-5 div.sk-label label {font-family: monospace;font-weight: bold;display: inline-block;line-height: 1.2em;}#sk-container-id-5 div.sk-label-container {text-align: center;}#sk-container-id-5 div.sk-container {/* jupyter's `normalize.less` sets `[hidden] { display: none; }` but bootstrap.min.css set `[hidden] { display: none !important; }` so we also need the `!important` here to be able to override the default hidden behavior on the sphinx rendered scikit-learn.org. See: https://github.com/scikit-learn/scikit-learn/issues/21755 */display: inline-block !important;position: relative;}#sk-container-id-5 div.sk-text-repr-fallback {display: none;}</style><div id=\"sk-container-id-5\" class=\"sk-top-container\"><div class=\"sk-text-repr-fallback\"><pre>Pipeline(steps=[(&#x27;preprocessor&#x27;,\n",
       "                 ColumnTransformer(remainder=&#x27;passthrough&#x27;,\n",
       "                                   transformers=[(&#x27;num&#x27;,\n",
       "                                                  Pipeline(steps=[(&#x27;imputer&#x27;,\n",
       "                                                                   SimpleImputer(strategy=&#x27;median&#x27;)),\n",
       "                                                                  (&#x27;log_transformer&#x27;,\n",
       "                                                                   FunctionTransformer(func=&lt;ufunc &#x27;log1p&#x27;&gt;,\n",
       "                                                                                       validate=True)),\n",
       "                                                                  (&#x27;scaler&#x27;,\n",
       "                                                                   RobustScaler())]),\n",
       "                                                  [0, 5, 6, 9]),\n",
       "                                                 (&#x27;cat_ohe&#x27;,\n",
       "                                                  Pipeline(steps=[(&#x27;imputer&#x27;,\n",
       "                                                                   SimpleImputer(strategy=&#x27;most_frequent&#x27;)),\n",
       "                                                                  (...\n",
       "                              feature_types=None, gamma=None, grow_policy=None,\n",
       "                              importance_type=None,\n",
       "                              interaction_constraints=None, learning_rate=None,\n",
       "                              max_bin=None, max_cat_threshold=None,\n",
       "                              max_cat_to_onehot=None, max_delta_step=None,\n",
       "                              max_depth=None, max_leaves=None,\n",
       "                              min_child_weight=None, missing=nan,\n",
       "                              monotone_constraints=None, multi_strategy=None,\n",
       "                              n_estimators=None, n_jobs=None,\n",
       "                              num_parallel_tree=None, random_state=42, ...))])</pre><b>In a Jupyter environment, please rerun this cell to show the HTML representation or trust the notebook. <br />On GitHub, the HTML representation is unable to render, please try loading this page with nbviewer.org.</b></div><div class=\"sk-container\" hidden><div class=\"sk-item sk-dashed-wrapped\"><div class=\"sk-label-container\"><div class=\"sk-label sk-toggleable\"><input class=\"sk-toggleable__control sk-hidden--visually\" id=\"sk-estimator-id-70\" type=\"checkbox\" ><label for=\"sk-estimator-id-70\" class=\"sk-toggleable__label sk-toggleable__label-arrow\">Pipeline</label><div class=\"sk-toggleable__content\"><pre>Pipeline(steps=[(&#x27;preprocessor&#x27;,\n",
       "                 ColumnTransformer(remainder=&#x27;passthrough&#x27;,\n",
       "                                   transformers=[(&#x27;num&#x27;,\n",
       "                                                  Pipeline(steps=[(&#x27;imputer&#x27;,\n",
       "                                                                   SimpleImputer(strategy=&#x27;median&#x27;)),\n",
       "                                                                  (&#x27;log_transformer&#x27;,\n",
       "                                                                   FunctionTransformer(func=&lt;ufunc &#x27;log1p&#x27;&gt;,\n",
       "                                                                                       validate=True)),\n",
       "                                                                  (&#x27;scaler&#x27;,\n",
       "                                                                   RobustScaler())]),\n",
       "                                                  [0, 5, 6, 9]),\n",
       "                                                 (&#x27;cat_ohe&#x27;,\n",
       "                                                  Pipeline(steps=[(&#x27;imputer&#x27;,\n",
       "                                                                   SimpleImputer(strategy=&#x27;most_frequent&#x27;)),\n",
       "                                                                  (...\n",
       "                              feature_types=None, gamma=None, grow_policy=None,\n",
       "                              importance_type=None,\n",
       "                              interaction_constraints=None, learning_rate=None,\n",
       "                              max_bin=None, max_cat_threshold=None,\n",
       "                              max_cat_to_onehot=None, max_delta_step=None,\n",
       "                              max_depth=None, max_leaves=None,\n",
       "                              min_child_weight=None, missing=nan,\n",
       "                              monotone_constraints=None, multi_strategy=None,\n",
       "                              n_estimators=None, n_jobs=None,\n",
       "                              num_parallel_tree=None, random_state=42, ...))])</pre></div></div></div><div class=\"sk-serial\"><div class=\"sk-item sk-dashed-wrapped\"><div class=\"sk-label-container\"><div class=\"sk-label sk-toggleable\"><input class=\"sk-toggleable__control sk-hidden--visually\" id=\"sk-estimator-id-71\" type=\"checkbox\" ><label for=\"sk-estimator-id-71\" class=\"sk-toggleable__label sk-toggleable__label-arrow\">preprocessor: ColumnTransformer</label><div class=\"sk-toggleable__content\"><pre>ColumnTransformer(remainder=&#x27;passthrough&#x27;,\n",
       "                  transformers=[(&#x27;num&#x27;,\n",
       "                                 Pipeline(steps=[(&#x27;imputer&#x27;,\n",
       "                                                  SimpleImputer(strategy=&#x27;median&#x27;)),\n",
       "                                                 (&#x27;log_transformer&#x27;,\n",
       "                                                  FunctionTransformer(func=&lt;ufunc &#x27;log1p&#x27;&gt;,\n",
       "                                                                      validate=True)),\n",
       "                                                 (&#x27;scaler&#x27;, RobustScaler())]),\n",
       "                                 [0, 5, 6, 9]),\n",
       "                                (&#x27;cat_ohe&#x27;,\n",
       "                                 Pipeline(steps=[(&#x27;imputer&#x27;,\n",
       "                                                  SimpleImputer(strategy=&#x27;most_frequent&#x27;)),\n",
       "                                                 (&#x27;onehot&#x27;,\n",
       "                                                  OneHotEncoder(sparse=False))]),\n",
       "                                 [7, 8]),\n",
       "                                (&#x27;cat_ord&#x27;,\n",
       "                                 Pipeline(steps=[(&#x27;imputer&#x27;,\n",
       "                                                  SimpleImputer(strategy=&#x27;most_frequent&#x27;)),\n",
       "                                                 (&#x27;ordinal&#x27;,\n",
       "                                                  OrdinalEncoder())]),\n",
       "                                 [1, 4])])</pre></div></div></div><div class=\"sk-parallel\"><div class=\"sk-parallel-item\"><div class=\"sk-item\"><div class=\"sk-label-container\"><div class=\"sk-label sk-toggleable\"><input class=\"sk-toggleable__control sk-hidden--visually\" id=\"sk-estimator-id-72\" type=\"checkbox\" ><label for=\"sk-estimator-id-72\" class=\"sk-toggleable__label sk-toggleable__label-arrow\">num</label><div class=\"sk-toggleable__content\"><pre>[0, 5, 6, 9]</pre></div></div></div><div class=\"sk-serial\"><div class=\"sk-item\"><div class=\"sk-serial\"><div class=\"sk-item\"><div class=\"sk-estimator sk-toggleable\"><input class=\"sk-toggleable__control sk-hidden--visually\" id=\"sk-estimator-id-73\" type=\"checkbox\" ><label for=\"sk-estimator-id-73\" class=\"sk-toggleable__label sk-toggleable__label-arrow\">SimpleImputer</label><div class=\"sk-toggleable__content\"><pre>SimpleImputer(strategy=&#x27;median&#x27;)</pre></div></div></div><div class=\"sk-item\"><div class=\"sk-estimator sk-toggleable\"><input class=\"sk-toggleable__control sk-hidden--visually\" id=\"sk-estimator-id-74\" type=\"checkbox\" ><label for=\"sk-estimator-id-74\" class=\"sk-toggleable__label sk-toggleable__label-arrow\">FunctionTransformer</label><div class=\"sk-toggleable__content\"><pre>FunctionTransformer(func=&lt;ufunc &#x27;log1p&#x27;&gt;, validate=True)</pre></div></div></div><div class=\"sk-item\"><div class=\"sk-estimator sk-toggleable\"><input class=\"sk-toggleable__control sk-hidden--visually\" id=\"sk-estimator-id-75\" type=\"checkbox\" ><label for=\"sk-estimator-id-75\" class=\"sk-toggleable__label sk-toggleable__label-arrow\">RobustScaler</label><div class=\"sk-toggleable__content\"><pre>RobustScaler()</pre></div></div></div></div></div></div></div></div><div class=\"sk-parallel-item\"><div class=\"sk-item\"><div class=\"sk-label-container\"><div class=\"sk-label sk-toggleable\"><input class=\"sk-toggleable__control sk-hidden--visually\" id=\"sk-estimator-id-76\" type=\"checkbox\" ><label for=\"sk-estimator-id-76\" class=\"sk-toggleable__label sk-toggleable__label-arrow\">cat_ohe</label><div class=\"sk-toggleable__content\"><pre>[7, 8]</pre></div></div></div><div class=\"sk-serial\"><div class=\"sk-item\"><div class=\"sk-serial\"><div class=\"sk-item\"><div class=\"sk-estimator sk-toggleable\"><input class=\"sk-toggleable__control sk-hidden--visually\" id=\"sk-estimator-id-77\" type=\"checkbox\" ><label for=\"sk-estimator-id-77\" class=\"sk-toggleable__label sk-toggleable__label-arrow\">SimpleImputer</label><div class=\"sk-toggleable__content\"><pre>SimpleImputer(strategy=&#x27;most_frequent&#x27;)</pre></div></div></div><div class=\"sk-item\"><div class=\"sk-estimator sk-toggleable\"><input class=\"sk-toggleable__control sk-hidden--visually\" id=\"sk-estimator-id-78\" type=\"checkbox\" ><label for=\"sk-estimator-id-78\" class=\"sk-toggleable__label sk-toggleable__label-arrow\">OneHotEncoder</label><div class=\"sk-toggleable__content\"><pre>OneHotEncoder(sparse=False)</pre></div></div></div></div></div></div></div></div><div class=\"sk-parallel-item\"><div class=\"sk-item\"><div class=\"sk-label-container\"><div class=\"sk-label sk-toggleable\"><input class=\"sk-toggleable__control sk-hidden--visually\" id=\"sk-estimator-id-79\" type=\"checkbox\" ><label for=\"sk-estimator-id-79\" class=\"sk-toggleable__label sk-toggleable__label-arrow\">cat_ord</label><div class=\"sk-toggleable__content\"><pre>[1, 4]</pre></div></div></div><div class=\"sk-serial\"><div class=\"sk-item\"><div class=\"sk-serial\"><div class=\"sk-item\"><div class=\"sk-estimator sk-toggleable\"><input class=\"sk-toggleable__control sk-hidden--visually\" id=\"sk-estimator-id-80\" type=\"checkbox\" ><label for=\"sk-estimator-id-80\" class=\"sk-toggleable__label sk-toggleable__label-arrow\">SimpleImputer</label><div class=\"sk-toggleable__content\"><pre>SimpleImputer(strategy=&#x27;most_frequent&#x27;)</pre></div></div></div><div class=\"sk-item\"><div class=\"sk-estimator sk-toggleable\"><input class=\"sk-toggleable__control sk-hidden--visually\" id=\"sk-estimator-id-81\" type=\"checkbox\" ><label for=\"sk-estimator-id-81\" class=\"sk-toggleable__label sk-toggleable__label-arrow\">OrdinalEncoder</label><div class=\"sk-toggleable__content\"><pre>OrdinalEncoder()</pre></div></div></div></div></div></div></div></div><div class=\"sk-parallel-item\"><div class=\"sk-item\"><div class=\"sk-label-container\"><div class=\"sk-label sk-toggleable\"><input class=\"sk-toggleable__control sk-hidden--visually\" id=\"sk-estimator-id-82\" type=\"checkbox\" ><label for=\"sk-estimator-id-82\" class=\"sk-toggleable__label sk-toggleable__label-arrow\">remainder</label><div class=\"sk-toggleable__content\"><pre>[&#x27;num_rooms&#x27;, &#x27;Property&#x27;]</pre></div></div></div><div class=\"sk-serial\"><div class=\"sk-item\"><div class=\"sk-estimator sk-toggleable\"><input class=\"sk-toggleable__control sk-hidden--visually\" id=\"sk-estimator-id-83\" type=\"checkbox\" ><label for=\"sk-estimator-id-83\" class=\"sk-toggleable__label sk-toggleable__label-arrow\">passthrough</label><div class=\"sk-toggleable__content\"><pre>passthrough</pre></div></div></div></div></div></div></div></div><div class=\"sk-item\"><div class=\"sk-estimator sk-toggleable\"><input class=\"sk-toggleable__control sk-hidden--visually\" id=\"sk-estimator-id-84\" type=\"checkbox\" ><label for=\"sk-estimator-id-84\" class=\"sk-toggleable__label sk-toggleable__label-arrow\">XGBRegressor</label><div class=\"sk-toggleable__content\"><pre>XGBRegressor(base_score=None, booster=None, callbacks=None,\n",
       "             colsample_bylevel=None, colsample_bynode=None,\n",
       "             colsample_bytree=None, device=None, early_stopping_rounds=None,\n",
       "             enable_categorical=False, eval_metric=None, feature_types=None,\n",
       "             gamma=None, grow_policy=None, importance_type=None,\n",
       "             interaction_constraints=None, learning_rate=None, max_bin=None,\n",
       "             max_cat_threshold=None, max_cat_to_onehot=None,\n",
       "             max_delta_step=None, max_depth=None, max_leaves=None,\n",
       "             min_child_weight=None, missing=nan, monotone_constraints=None,\n",
       "             multi_strategy=None, n_estimators=None, n_jobs=None,\n",
       "             num_parallel_tree=None, random_state=42, ...)</pre></div></div></div></div></div></div></div>"
      ],
      "text/plain": [
       "Pipeline(steps=[('preprocessor',\n",
       "                 ColumnTransformer(remainder='passthrough',\n",
       "                                   transformers=[('num',\n",
       "                                                  Pipeline(steps=[('imputer',\n",
       "                                                                   SimpleImputer(strategy='median')),\n",
       "                                                                  ('log_transformer',\n",
       "                                                                   FunctionTransformer(func=<ufunc 'log1p'>,\n",
       "                                                                                       validate=True)),\n",
       "                                                                  ('scaler',\n",
       "                                                                   RobustScaler())]),\n",
       "                                                  [0, 5, 6, 9]),\n",
       "                                                 ('cat_ohe',\n",
       "                                                  Pipeline(steps=[('imputer',\n",
       "                                                                   SimpleImputer(strategy='most_frequent')),\n",
       "                                                                  (...\n",
       "                              feature_types=None, gamma=None, grow_policy=None,\n",
       "                              importance_type=None,\n",
       "                              interaction_constraints=None, learning_rate=None,\n",
       "                              max_bin=None, max_cat_threshold=None,\n",
       "                              max_cat_to_onehot=None, max_delta_step=None,\n",
       "                              max_depth=None, max_leaves=None,\n",
       "                              min_child_weight=None, missing=nan,\n",
       "                              monotone_constraints=None, multi_strategy=None,\n",
       "                              n_estimators=None, n_jobs=None,\n",
       "                              num_parallel_tree=None, random_state=42, ...))])"
      ]
     },
     "execution_count": 210,
     "metadata": {},
     "output_type": "execute_result"
    }
   ],
   "source": [
    "pipeline.fit(X_train, y_train)"
   ]
  },
  {
   "cell_type": "code",
   "execution_count": 211,
   "id": "b2a62f5e-9f3d-45ea-ab45-03ffaa708e97",
   "metadata": {},
   "outputs": [],
   "source": [
    "import pickle\n",
    "with open('prediction_pipeline.pkl', 'wb') as file:\n",
    "    pickle.dump(pipeline, file)"
   ]
  },
  {
   "cell_type": "code",
   "execution_count": null,
   "id": "7721f284-0e56-4592-90e4-0bf383eb590b",
   "metadata": {},
   "outputs": [],
   "source": []
  },
  {
   "cell_type": "code",
   "execution_count": 213,
   "id": "8e99a6a8-c588-46a6-8776-078d2efa95a0",
   "metadata": {},
   "outputs": [],
   "source": [
    "import pickle\n",
    "pipe = pickle.load(open('prediction_pipeline.pkl','rb'))"
   ]
  },
  {
   "cell_type": "code",
   "execution_count": 214,
   "id": "04f6f7f4-6569-4731-afa5-27b62f6455fb",
   "metadata": {},
   "outputs": [],
   "source": [
    "# Assume user inpu\n",
    "test_input2 = np.array([2.656826,'Minor',2,8,'Mediocre',760.000000,1.025953,'Greenwich','Condominium',711270.0],dtype=object).reshape(1,10)"
   ]
  },
  {
   "cell_type": "code",
   "execution_count": null,
   "id": "db6891d9-4e8f-4f48-8764-39edf2c2dac1",
   "metadata": {},
   "outputs": [],
   "source": []
  },
  {
   "cell_type": "code",
   "execution_count": 215,
   "id": "c8ad6e4b-1ebd-4046-ad20-b4367e7a2577",
   "metadata": {},
   "outputs": [
    {
     "name": "stderr",
     "output_type": "stream",
     "text": [
      "C:\\Users\\LENOVO\\AppData\\Roaming\\Python\\Python310\\site-packages\\sklearn\\base.py:420: UserWarning: X does not have valid feature names, but SimpleImputer was fitted with feature names\n",
      "  warnings.warn(\n",
      "C:\\Users\\LENOVO\\AppData\\Roaming\\Python\\Python310\\site-packages\\sklearn\\base.py:420: UserWarning: X does not have valid feature names, but SimpleImputer was fitted with feature names\n",
      "  warnings.warn(\n",
      "C:\\Users\\LENOVO\\AppData\\Roaming\\Python\\Python310\\site-packages\\sklearn\\base.py:420: UserWarning: X does not have valid feature names, but SimpleImputer was fitted with feature names\n",
      "  warnings.warn(\n"
     ]
    },
    {
     "data": {
      "text/plain": [
       "array([1083591.4], dtype=float32)"
      ]
     },
     "execution_count": 215,
     "metadata": {},
     "output_type": "execute_result"
    }
   ],
   "source": [
    "pipe.predict(test_input2)"
   ]
  }
 ],
 "metadata": {
  "kernelspec": {
   "display_name": "Python 3 (ipykernel)",
   "language": "python",
   "name": "python3"
  },
  "language_info": {
   "codemirror_mode": {
    "name": "ipython",
    "version": 3
   },
   "file_extension": ".py",
   "mimetype": "text/x-python",
   "name": "python",
   "nbconvert_exporter": "python",
   "pygments_lexer": "ipython3",
   "version": "3.10.6"
  }
 },
 "nbformat": 4,
 "nbformat_minor": 5
}
